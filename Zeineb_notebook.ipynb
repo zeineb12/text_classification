{
 "cells": [
  {
   "cell_type": "markdown",
   "metadata": {
    "colab_type": "text",
    "id": "view-in-github"
   },
   "source": [
    "<a href=\"https://colab.research.google.com/github/zeineb12/text_classification/blob/master/basic_visualization.ipynb\" target=\"_parent\"><img src=\"https://colab.research.google.com/assets/colab-badge.svg\" alt=\"Open In Colab\"/></a>"
   ]
  },
  {
   "cell_type": "markdown",
   "metadata": {
    "colab_type": "text",
    "id": "q-lciViJCvOx",
    "toc": true
   },
   "source": [
    "<h1>Table of Contents<span class=\"tocSkip\"></span></h1>\n",
    "<div class=\"toc\"><ul class=\"toc-item\"><li><span><a href=\"#Relevant-imports\" data-toc-modified-id=\"Relevant-imports-1\">Relevant imports</a></span></li><li><span><a href=\"#Dataset-shape\" data-toc-modified-id=\"Dataset-shape-2\">Dataset shape</a></span><ul class=\"toc-item\"><li><span><a href=\"#Drop-duplicates\" data-toc-modified-id=\"Drop-duplicates-2.1\">Drop duplicates</a></span></li></ul></li><li><span><a href=\"#Tweets-length\" data-toc-modified-id=\"Tweets-length-3\">Tweets length</a></span></li><li><span><a href=\"#Data-concatenation\" data-toc-modified-id=\"Data-concatenation-4\">Data concatenation</a></span></li><li><span><a href=\"#Data-Cleaning\" data-toc-modified-id=\"Data-Cleaning-5\">Data Cleaning</a></span></li><li><span><a href=\"#Word-cloud-TODO\" data-toc-modified-id=\"Word-cloud-TODO-6\">Word cloud TODO</a></span></li><li><span><a href=\"#Split-train/validation/test\" data-toc-modified-id=\"Split-train/validation/test-7\">Split train/validation/test</a></span></li><li><span><a href=\"#Baseline\" data-toc-modified-id=\"Baseline-8\">Baseline</a></span><ul class=\"toc-item\"><li><span><a href=\"#Naive-Bayes-using-CountVectorizer\" data-toc-modified-id=\"Naive-Bayes-using-CountVectorizer-8.1\">Naive Bayes using CountVectorizer</a></span></li><li><span><a href=\"#Prepare-tfidf-matrix\" data-toc-modified-id=\"Prepare-tfidf-matrix-8.2\">Prepare tfidf matrix</a></span></li><li><span><a href=\"#Naive-Bayes-using-TfidfTransformer\" data-toc-modified-id=\"Naive-Bayes-using-TfidfTransformer-8.3\">Naive Bayes using TfidfTransformer</a></span></li><li><span><a href=\"#SGDClassifier--using-TfidfTransformer\" data-toc-modified-id=\"SGDClassifier--using-TfidfTransformer-8.4\">SGDClassifier  using TfidfTransformer</a></span></li><li><span><a href=\"#SVC-using-TfidfTransformer\" data-toc-modified-id=\"SVC-using-TfidfTransformer-8.5\">SVC using TfidfTransformer</a></span></li><li><span><a href=\"#Logistic-Regression-using-TfidfTransformer\" data-toc-modified-id=\"Logistic-Regression-using-TfidfTransformer-8.6\">Logistic Regression using TfidfTransformer</a></span></li></ul></li><li><span><a href=\"#Feature-engineering-(can-later-test-on-NN-model)\" data-toc-modified-id=\"Feature-engineering-(can-later-test-on-NN-model)-9\">Feature engineering (can later test on NN model)</a></span><ul class=\"toc-item\"><li><span><a href=\"#Stop-words\" data-toc-modified-id=\"Stop-words-9.1\">Stop words</a></span></li><li><span><a href=\"#N-Grams\" data-toc-modified-id=\"N-Grams-9.2\">N Grams</a></span></li></ul></li><li><span><a href=\"#Test-submission\" data-toc-modified-id=\"Test-submission-10\">Test submission</a></span></li></ul></div>"
   ]
  },
  {
   "cell_type": "markdown",
   "metadata": {
    "colab_type": "text",
    "id": "gf0JWLnpCvO0"
   },
   "source": [
    "## Relevant imports"
   ]
  },
  {
   "cell_type": "code",
   "execution_count": 1,
   "metadata": {
    "colab": {
     "base_uri": "https://localhost:8080/",
     "height": 334
    },
    "colab_type": "code",
    "id": "9fV6HAgzCvO2",
    "outputId": "e2a79732-66a0-4ca6-d26d-ca28f2d01883"
   },
   "outputs": [
    {
     "name": "stderr",
     "output_type": "stream",
     "text": [
      "/Users/macbook/anaconda3/lib/python3.7/site-packages/sklearn/feature_extraction/dict_vectorizer.py:6: DeprecationWarning: Using or importing the ABCs from 'collections' instead of from 'collections.abc' is deprecated, and in 3.8 it will stop working\n",
      "  from collections import Mapping\n"
     ]
    }
   ],
   "source": [
    "import re\n",
    "import pandas as pd\n",
    "import numpy as np\n",
    "import seaborn as sns\n",
    "import matplotlib.pyplot as plt\n",
    "\n",
    "from time import time\n",
    "from wordcloud import WordCloud\n",
    "\n",
    "from nltk.tokenize import WordPunctTokenizer\n",
    "#from textblob import TextBlob\n",
    "\n",
    "from sklearn.feature_extraction.text import CountVectorizer\n",
    "from sklearn.model_selection import train_test_split\n",
    "from sklearn.model_selection import validation_curve\n",
    "from sklearn.feature_extraction.text import TfidfVectorizer\n",
    "from sklearn import metrics\n",
    "from sklearn.model_selection import StratifiedKFold\n",
    "from sklearn.naive_bayes import MultinomialNB\n",
    "from sklearn.metrics import confusion_matrix\n",
    "from sklearn.linear_model import SGDClassifier\n",
    "from sklearn.metrics import f1_score, fbeta_score, precision_score, recall_score\n",
    "from sklearn import metrics\n",
    "from sklearn.metrics import accuracy_score\n",
    "from sklearn.metrics import classification_report, confusion_matrix\n",
    "from sklearn.metrics import roc_curve\n",
    "from nltk.stem import WordNetLemmatizer \n",
    "from sklearn.linear_model import LogisticRegression\n",
    "from sklearn.svm import LinearSVC\n",
    "from sklearn.pipeline import Pipeline\n",
    "from sklearn.calibration import CalibratedClassifierCV\n",
    "\n",
    "from utils import open_by_tweets\n",
    "from utils import create_csv_submission\n",
    "\n",
    "SEED = 15432"
   ]
  },
  {
   "cell_type": "markdown",
   "metadata": {
    "colab_type": "text",
    "id": "gJxa1llRCvPA"
   },
   "source": [
    "## Dataset shape"
   ]
  },
  {
   "cell_type": "code",
   "execution_count": 2,
   "metadata": {
    "colab": {
     "base_uri": "https://localhost:8080/",
     "height": 215
    },
    "colab_type": "code",
    "id": "5_syb7WOCvPC",
    "outputId": "60c7035e-9016-48fc-c2e8-2027de0477e2"
   },
   "outputs": [],
   "source": [
    "#with open('data/train_pos_full.txt',\"r\") as file:\n",
    "with open('data/train_pos.txt',\"r\") as file:\n",
    "    train_pos = file.read().split('\\n')\n",
    "train_pos = pd.DataFrame({'tweet' : train_pos})[:len(train_pos)-1]\n",
    "\n",
    "#with open('data/train_neg_full.txt',\"r\") as file:\n",
    "with open('data/train_neg.txt',\"r\") as file:\n",
    "    train_neg = file.read().split('\\n')\n",
    "train_neg = pd.DataFrame({'tweet' : train_neg})[:len(train_neg)-1]"
   ]
  },
  {
   "cell_type": "markdown",
   "metadata": {},
   "source": [
    "### Drop duplicates\n",
    "Let's drop duplicates from our dataset"
   ]
  },
  {
   "cell_type": "code",
   "execution_count": 3,
   "metadata": {},
   "outputs": [],
   "source": [
    "train_neg.drop_duplicates(inplace=True)\n",
    "train_pos.drop_duplicates(inplace=True)"
   ]
  },
  {
   "cell_type": "code",
   "execution_count": 4,
   "metadata": {
    "colab": {},
    "colab_type": "code",
    "id": "ZK0AeEvNCvPG"
   },
   "outputs": [
    {
     "data": {
      "image/png": "[encoded data removed]",
      "text/plain": [
       "<Figure size 432x288 with 1 Axes>"
      ]
     },
     "metadata": {},
     "output_type": "display_data"
    }
   ],
   "source": [
    "# Data to plot\n",
    "labels = 'positive tweets', 'negative tweets'\n",
    "sizes = [len(train_pos), len(train_neg)]\n",
    "colors = ['lightskyblue','lightcoral']\n",
    "explode = (0.1, 0)  # explode 1st slice\n",
    "\n",
    "# Plot\n",
    "plt.pie(sizes, explode=explode, labels=labels, colors=colors,\n",
    "autopct='%1.1f%%', shadow=True, startangle=140)\n",
    "\n",
    "plt.axis('equal')\n",
    "plt.show()"
   ]
  },
  {
   "cell_type": "markdown",
   "metadata": {
    "colab_type": "text",
    "id": "21AxeD0hCvPN"
   },
   "source": [
    "We see that the dataset is balanced"
   ]
  },
  {
   "cell_type": "markdown",
   "metadata": {},
   "source": [
    "## Tweets length\n",
    "* We add a column containing the tweet length for each tweet (in number of characters)"
   ]
  },
  {
   "cell_type": "code",
   "execution_count": 5,
   "metadata": {},
   "outputs": [],
   "source": [
    "train_neg['tweet_len'] = [len(t) for t in train_neg.tweet]\n",
    "train_pos['tweet_len'] = [len(t) for t in train_pos.tweet]"
   ]
  },
  {
   "cell_type": "code",
   "execution_count": 6,
   "metadata": {},
   "outputs": [
    {
     "data": {
      "image/png": "[encoded data removed]",
      "text/plain": [
       "<Figure size 432x288 with 2 Axes>"
      ]
     },
     "metadata": {
      "needs_background": "light"
     },
     "output_type": "display_data"
    }
   ],
   "source": [
    "fig, axs = plt.subplots(nrows=1, ncols=2, sharex=True)\n",
    "\n",
    "ax = axs[0]\n",
    "ax.boxplot(train_neg.tweet_len, whis=1.5)\n",
    "ax.set_title('negative tweets')\n",
    "\n",
    "ax = axs[1]\n",
    "ax.boxplot(train_pos.tweet_len, whis=1.5)\n",
    "ax.set_title('positive tweets')\n",
    "\n",
    "fig.suptitle('Length in number of characters of tweets')\n",
    "plt.show()"
   ]
  },
  {
   "cell_type": "markdown",
   "metadata": {},
   "source": [
    "* We see that positive tweets tend to be shorter than negative tweets (mean and std are both smaller)\n",
    "\n",
    "* However, something that's a bit strange, some of the tweets are way more than 140 characters long. But twitter’s character limit is 140."
   ]
  },
  {
   "cell_type": "code",
   "execution_count": 7,
   "metadata": {},
   "outputs": [
    {
     "data": {
      "text/html": [
       "<div>\n",
       "<style scoped>\n",
       "    .dataframe tbody tr th:only-of-type {\n",
       "        vertical-align: middle;\n",
       "    }\n",
       "\n",
       "    .dataframe tbody tr th {\n",
       "        vertical-align: top;\n",
       "    }\n",
       "\n",
       "    .dataframe thead th {\n",
       "        text-align: right;\n",
       "    }\n",
       "</style>\n",
       "<table border=\"1\" class=\"dataframe\">\n",
       "  <thead>\n",
       "    <tr style=\"text-align: right;\">\n",
       "      <th></th>\n",
       "      <th>tweet</th>\n",
       "      <th>tweet_len</th>\n",
       "    </tr>\n",
       "  </thead>\n",
       "  <tbody>\n",
       "    <tr>\n",
       "      <th>19278</th>\n",
       "      <td>\" &lt;user&gt; have so much fun at prom &lt;user&gt; \\ 355...</td>\n",
       "      <td>217</td>\n",
       "    </tr>\n",
       "  </tbody>\n",
       "</table>\n",
       "</div>"
      ],
      "text/plain": [
       "                                                   tweet  tweet_len\n",
       "19278  \" <user> have so much fun at prom <user> \\ 355...        217"
      ]
     },
     "execution_count": 7,
     "metadata": {},
     "output_type": "execute_result"
    }
   ],
   "source": [
    "train_pos[train_pos.tweet_len > 200].head(4)"
   ]
  },
  {
   "cell_type": "code",
   "execution_count": 8,
   "metadata": {},
   "outputs": [
    {
     "data": {
      "text/plain": [
       "'\" <user> have so much fun at prom <user> \\\\ 355 \\\\ 240 \\\\ 275 \\\\ 355 \\\\ 262 \\\\ 227 \\\\ 355 \\\\ 240 \\\\ 275 \\\\ 355 \\\\ 262 \\\\ 221 \\\\ 355 \\\\ 240 \\\\ 275 \\\\ 355 \\\\ 262 \\\\ 217 \\\\ 355 \\\\ 240 \\\\ 275 \\\\ 355 \\\\ 262 \\\\ 213 \" yayyy shanny ! ! ! #dodaadirty'"
      ]
     },
     "execution_count": 8,
     "metadata": {},
     "output_type": "execute_result"
    }
   ],
   "source": [
    "train_pos.loc[19278].tweet"
   ]
  },
  {
   "cell_type": "markdown",
   "metadata": {},
   "source": [
    "Maybe these numbers used to stand for emojis and when the html text was processed they becaùe like these"
   ]
  },
  {
   "cell_type": "code",
   "execution_count": 9,
   "metadata": {},
   "outputs": [
    {
     "data": {
      "text/plain": [
       "'\" <user> have so much fun at prom <user> \" yayyy shanny ! ! ! #dodaadirty'"
      ]
     },
     "execution_count": 9,
     "metadata": {},
     "output_type": "execute_result"
    }
   ],
   "source": [
    "re.sub(r'\\\\ [0-9]+ ','',train_pos.loc[19278].tweet)"
   ]
  },
  {
   "cell_type": "markdown",
   "metadata": {},
   "source": [
    "## Data concatenation"
   ]
  },
  {
   "cell_type": "code",
   "execution_count": 10,
   "metadata": {},
   "outputs": [
    {
     "data": {
      "text/html": [
       "<div>\n",
       "<style scoped>\n",
       "    .dataframe tbody tr th:only-of-type {\n",
       "        vertical-align: middle;\n",
       "    }\n",
       "\n",
       "    .dataframe tbody tr th {\n",
       "        vertical-align: top;\n",
       "    }\n",
       "\n",
       "    .dataframe thead th {\n",
       "        text-align: right;\n",
       "    }\n",
       "</style>\n",
       "<table border=\"1\" class=\"dataframe\">\n",
       "  <thead>\n",
       "    <tr style=\"text-align: right;\">\n",
       "      <th></th>\n",
       "      <th>tweet</th>\n",
       "      <th>tweet_len</th>\n",
       "      <th>label</th>\n",
       "    </tr>\n",
       "  </thead>\n",
       "  <tbody>\n",
       "    <tr>\n",
       "      <th>0</th>\n",
       "      <td>&lt;user&gt; i dunno justin read my mention or not ....</td>\n",
       "      <td>127</td>\n",
       "      <td>1</td>\n",
       "    </tr>\n",
       "    <tr>\n",
       "      <th>1</th>\n",
       "      <td>because your logic is so dumb , i won't even c...</td>\n",
       "      <td>91</td>\n",
       "      <td>1</td>\n",
       "    </tr>\n",
       "    <tr>\n",
       "      <th>2</th>\n",
       "      <td>\" &lt;user&gt; just put casper in a box ! \" looved t...</td>\n",
       "      <td>69</td>\n",
       "      <td>1</td>\n",
       "    </tr>\n",
       "    <tr>\n",
       "      <th>3</th>\n",
       "      <td>&lt;user&gt; &lt;user&gt; thanks sir &gt; &gt; don't trip lil ma...</td>\n",
       "      <td>78</td>\n",
       "      <td>1</td>\n",
       "    </tr>\n",
       "    <tr>\n",
       "      <th>4</th>\n",
       "      <td>visiting my brother tmr is the bestest birthda...</td>\n",
       "      <td>66</td>\n",
       "      <td>1</td>\n",
       "    </tr>\n",
       "    <tr>\n",
       "      <th>5</th>\n",
       "      <td>&lt;user&gt; yay ! ! #lifecompleted . tweet / facebo...</td>\n",
       "      <td>73</td>\n",
       "      <td>1</td>\n",
       "    </tr>\n",
       "  </tbody>\n",
       "</table>\n",
       "</div>"
      ],
      "text/plain": [
       "                                               tweet  tweet_len  label\n",
       "0  <user> i dunno justin read my mention or not ....        127      1\n",
       "1  because your logic is so dumb , i won't even c...         91      1\n",
       "2  \" <user> just put casper in a box ! \" looved t...         69      1\n",
       "3  <user> <user> thanks sir > > don't trip lil ma...         78      1\n",
       "4  visiting my brother tmr is the bestest birthda...         66      1\n",
       "5  <user> yay ! ! #lifecompleted . tweet / facebo...         73      1"
      ]
     },
     "execution_count": 10,
     "metadata": {},
     "output_type": "execute_result"
    }
   ],
   "source": [
    "train_pos['label'] = 1\n",
    "train_neg['label'] = 0\n",
    "train_set = train_pos.append(train_neg)\n",
    "train_set.head(6)"
   ]
  },
  {
   "cell_type": "markdown",
   "metadata": {},
   "source": [
    "## Data Cleaning"
   ]
  },
  {
   "cell_type": "code",
   "execution_count": 11,
   "metadata": {},
   "outputs": [],
   "source": [
    "#train_set[train_set['tweet'].str.contains('</3')]#.loc[70514].tweet"
   ]
  },
  {
   "cell_type": "code",
   "execution_count": 12,
   "metadata": {},
   "outputs": [],
   "source": [
    "#train_set[train_set['tweet'].str.contains(':\\*')]#.loc[96380].tweet"
   ]
  },
  {
   "cell_type": "code",
   "execution_count": 13,
   "metadata": {},
   "outputs": [],
   "source": [
    "def replace_exclamations(x):\n",
    "    \"\"\" Replaces multiple exclamation marks by the word exclamationMark \"\"\"\n",
    "    x = re.sub('(\\! )+(?=(\\!))', '', x)\n",
    "    x = re.sub(r\"(\\!)+\", ' exclamationMark ', x)\n",
    "    return x\n",
    "\n",
    "\n",
    "def replace_questions(x):\n",
    "    \"\"\" Replaces multiple question marks by the word questionMark \"\"\"\n",
    "    x = re.sub('(\\? )+(?=(\\?))', '', x)\n",
    "    x = re.sub(r\"(\\?)+\", ' questionMark ', x)\n",
    "    return x\n",
    "\n",
    "def tokenization(text):\n",
    "    text = re.split('\\W+', text)\n",
    "    return text\n",
    "\n",
    "def lemmatizer(l,text):\n",
    "    text = [l.lemmatize(word) for word in text]\n",
    "    return text\n",
    "\n",
    "def join_tokens(tokens):\n",
    "    text = ' '.join(tokens)\n",
    "    return text\n",
    "\n",
    "def replace_points(x):\n",
    "    \"\"\" Replaces multiple points by the word multiplePoints \"\"\"\n",
    "    x = re.sub('(\\. )+(?=(\\.))', '', x)\n",
    "    x = re.sub(r\"(\\.)+\", ' multistop ', x)\n",
    "    return x\n",
    "\n",
    "def translate_emojis(x):\n",
    "    \"\"\" Replace emojis into meaningful words \"\"\"\n",
    "    x = re.sub(' [:,=]( )*[\\),\\],},D,>] ', ' happy ', x) #:) :D :} :] :>\n",
    "    x = re.sub(' [:,=]( )*[\\(,\\[,{,<] ', ' sad ', x) #:( :{ :[ :<\n",
    "    x = re.sub(' [X,x]( )*D ', ' funny ', x) #XD xD\n",
    "    x = re.sub(' [:,=]( )*p ', ' silly ', x) #:p\n",
    "    x = re.sub(' [:,=]( )*-( )*p ', ' silly ', x) #:-p\n",
    "    x = re.sub(' [\\[,\\(,{,<]( )*[:,=] ', ' happy ', x) #[:\n",
    "    x = re.sub(' [:,=]( )*[o,0] ', ' surprised ', x) #:o :O\n",
    "    x = re.sub(' [x,X]+ ', ' kiss ', x) #xXxX\n",
    "    x = re.sub(' ([x,X][o,O]){2,} ', ' kiss ', x) #xoxo\n",
    "    x = re.sub(' [:,=]( )*\\* ', ' kiss ', x) #:* =*\n",
    "    x = re.sub(' [:,=]( )*-( )*[\\),\\],},D,>] ', ' happy ', x) #:-D :-)\n",
    "    x = re.sub(' [:,=]( )*/ ', ' confused ', x) #:/\n",
    "    x = re.sub(' <( )*3 ', ' love ', x) #<3\n",
    "    x = re.sub(' <( )*/( )*3 ', ' sad ', x) #</3\n",
    "    x = re.sub(' [:,=]( )*@ ', ' mad ', x) #:@\n",
    "    x = re.sub(' [:,=]( )\\'( )\\( ', ' sad ', x) #:'(\n",
    "    x = re.sub(' [:,=]( )\\'( )[\\),D] ', ' happy ', x) #:') :'D\n",
    "    x = re.sub(' ([h,j][a,e,i,o]){2,} ', ' haha ', x) #hahah\n",
    "    x = re.sub(' (a*ha+h[ha]*|h*ah+a[ah]*|o?l+o+l+[ol]*) ', ' haha ', x) #hhaha,aahha,lool\n",
    "    x = re.sub(' (i*hi+h[hi]*|h*ih+i[ih]*|h*oh+o[oh]*|h*eh+e[eh]*) ', ' haha ', x) #hihi, hoho, hehe\n",
    "    return x\n",
    "\n",
    "def split_negation(text):\n",
    "    negations_dict = {\"isn't\":\"is not\", \"aren't\":\"are not\", \"wasn't\":\"was not\", \"weren't\":\"were not\",\n",
    "                    \"haven't\":\"have not\",\"hasn't\":\"has not\",\"hadn't\":\"had not\",\"won't\":\"will not\",\n",
    "                    \"wouldn't\":\"would not\", \"don't\":\"do not\", \"doesn't\":\"does not\",\"didn't\":\"did not\",\n",
    "                    \"can't\":\"can not\",\"couldn't\":\"could not\",\"shouldn't\":\"should not\",\"mightn't\":\"might not\",\n",
    "                    \"mustn't\":\"must not\",\"ain't\":\"is not\"}\n",
    "    neg_pattern = re.compile(r'\\b(' + '|'.join(negations_dict.keys()) + r')\\b')\n",
    "    text = neg_pattern.sub(lambda x: negations_dict[x.group()], text)\n",
    "    \n",
    "    contraction_patterns = [(r'ew(\\w+)', 'disgusting'),(r'argh(\\w+)', 'argh'),(r'fack(\\w+)', 'fuck'),\n",
    "                            (r'sigh(\\w+)', 'sigh'),(r'fuck(\\w+)', 'fuck'),(r'omg(\\w+)', 'omg'),\n",
    "                            (r'oh my god(\\w+)', 'omg'),(r'(\\w+)n\\'', '\\g<1>ng'),(r'(\\w+)n \\'', '\\g<1>ng'),\n",
    "                            (r'(\\w+)\\'ll', '\\g<1> will'),(r'(\\w+)\\'ve', '\\g<1> have'),(r'(\\w+)\\'s', '\\g<1> is'),\n",
    "                            (r'(\\w+)\\'re', '\\g<1> are'),(r'(\\w+)\\'d', '\\g<1> would'),(r'&', 'and')]\n",
    "    patterns = [(re.compile(regex_exp, re.IGNORECASE), replacement)\n",
    "                for (regex_exp, replacement) in contraction_patterns]\n",
    "    for (pattern, replacement) in patterns:\n",
    "        (text, _) = re.subn(pattern, replacement, text)\n",
    "    \n",
    "    return text\n",
    "\n",
    "def replace_contractions(text):\n",
    "    contractions_dict = {\"i'm\":\"i am\", \"wanna\":\"want to\", \"whi\":\"why\", \"gonna\":\"going to\",\n",
    "                    \"wa\":\"was\",\"nite\":\"night\",\"there's\":\"there is\",\"that's\":\"that is\",\n",
    "                    \"ladi\":\"lady\", \"fav\":\"favorite\", \"becaus\":\"because\",\"i\\'ts\":\"it is\",\n",
    "                    \"dammit\":\"damn it\", \"coz\":\"because\", \"ya\":\"you\", \"dunno\": \"do not know\",\n",
    "                    \"donno\":\"do not know\",\"donnow\":\"do not know\",\"gimme\":\"give me\"}\n",
    "    contraction_pattern = re.compile(r'\\b(' + '|'.join(contractions_dict.keys()) + r')\\b')\n",
    "    text = contraction_pattern.sub(lambda x: contractions_dict[x.group()], text)\n",
    "    return text\n"
   ]
  },
  {
   "cell_type": "code",
   "execution_count": 14,
   "metadata": {},
   "outputs": [],
   "source": [
    "def tweet_cleaner(tweet):\n",
    "    #translate emojis\n",
    "    tweet = translate_emojis(tweet)\n",
    "    #lowercase tweet\n",
    "    tweet = tweet.lower()\n",
    "    #seperate negation words\n",
    "    tweet = split_negation(tweet)\n",
    "    #seperate punctuation from words\n",
    "    tweet = re.sub(r\"([\\w/'+$\\s-]+|[^\\w/'+$\\s-]+)\\s*\", r\"\\1 \", tweet)\n",
    "    #remove the observed pattern of numbers seen above\n",
    "    tweet = re.sub(r'\\\\ [0-9]+ ', '', tweet)\n",
    "    #replace ?,!,. by words\n",
    "    tweet = replace_exclamations(tweet)\n",
    "    tweet = replace_questions(tweet)\n",
    "    tweet = replace_points(tweet)\n",
    "    \n",
    "    #Now since we translated punctuation and emojis and negative words we can remove the rest of the 'unwanted' chars\n",
    "    #remove unwanted punctuation\n",
    "    tweet = re.sub(\"[^a-zA-Z]\", \" \", tweet)\n",
    "    \n",
    "    #remove trailing and leading whitespace\n",
    "    tweet = tweet.strip() \n",
    "    #remove multiple consecutive whitespaces\n",
    "    tweet = re.sub(' +', ' ',tweet) \n",
    "    \n",
    "    #correct spelling : deals with goooood -> good\n",
    "    #b = TextBlob(tweet)\n",
    "    #tweet = str(b.correct())\n",
    "    \n",
    "    #Lemmatization\n",
    "    l = WordNetLemmatizer() \n",
    "    tweet = tokenization(tweet)\n",
    "    tweet = join_tokens(lemmatizer(l,tweet))\n",
    "    return tweet"
   ]
  },
  {
   "cell_type": "code",
   "execution_count": 15,
   "metadata": {},
   "outputs": [
    {
     "name": "stdout",
     "output_type": "stream",
     "text": [
      "CPU times: user 1min 4s, sys: 287 ms, total: 1min 4s\n",
      "Wall time: 1min 5s\n"
     ]
    }
   ],
   "source": [
    "%%time\n",
    "train_set['tweet'] = train_set['tweet'].apply(tweet_cleaner)"
   ]
  },
  {
   "cell_type": "code",
   "execution_count": 17,
   "metadata": {},
   "outputs": [],
   "source": [
    "train_set.to_pickle(\"./data/tweets.pkl\")"
   ]
  },
  {
   "cell_type": "code",
   "execution_count": 3,
   "metadata": {},
   "outputs": [],
   "source": [
    "train_set = pd.read_pickle(\"./data/tweets.pkl\")"
   ]
  },
  {
   "cell_type": "markdown",
   "metadata": {},
   "source": [
    "## Word cloud TODO"
   ]
  },
  {
   "cell_type": "code",
   "execution_count": 3,
   "metadata": {},
   "outputs": [],
   "source": [
    "#insert code here & save files for report\n",
    "#wordcloud.to_file(\"img/pos_tweets.png\")\n",
    "#wordcloud.to_file(\"img/neg_tweets.png\")"
   ]
  },
  {
   "cell_type": "markdown",
   "metadata": {},
   "source": [
    "## Split train/validation/test"
   ]
  },
  {
   "cell_type": "code",
   "execution_count": 16,
   "metadata": {},
   "outputs": [],
   "source": [
    "x = train_set.tweet\n",
    "y = train_set.label\n",
    "\n",
    "x_train, x_validation, y_train, y_validation = train_test_split(x, y, test_size=.3, random_state=SEED)\n",
    "#x_validation, x_test, y_validation, y_test = train_test_split(x_test, y_test, test_size=.5, random_state=SEED)"
   ]
  },
  {
   "cell_type": "code",
   "execution_count": 17,
   "metadata": {},
   "outputs": [
    {
     "name": "stdout",
     "output_type": "stream",
     "text": [
      "Train set has total 126924 entries with 50.17% negative, 49.83% positive\n",
      "Validation set has total 54397 entries with 50.38% negative, 49.62% positive\n"
     ]
    }
   ],
   "source": [
    "print(\"Train set has total {0} entries with {1:.2f}% negative, {2:.2f}% positive\".format(len(x_train),\n",
    "                                                                             (len(x_train[y_train == 0]) / (len(x_train)*1.))*100,\n",
    "                                                                            (len(x_train[y_train == 1]) / (len(x_train)*1.))*100))\n",
    "print( \"Validation set has total {0} entries with {1:.2f}% negative, {2:.2f}% positive\".format(len(x_validation),\n",
    "                                                                             (len(x_validation[y_validation == 0]) / (len(x_validation)*1.))*100,\n",
    "                                                                            (len(x_validation[y_validation == 1]) / (len(x_validation)*1.))*100))\n",
    "#print (\"Test set has total {0} entries with {1:.2f}% negative, {2:.2f}% positive\".format(len(x_test),\n",
    "#                                                                             (len(x_test[y_test == 0]) / (len(x_test)*1.))*100,\n",
    "#                                                                            (len(x_test[y_test == 1]) / (len(x_test)*1.))*100))"
   ]
  },
  {
   "cell_type": "markdown",
   "metadata": {},
   "source": [
    "## Baseline"
   ]
  },
  {
   "cell_type": "markdown",
   "metadata": {},
   "source": [
    "### Naive Bayes using CountVectorizer "
   ]
  },
  {
   "cell_type": "code",
   "execution_count": 18,
   "metadata": {},
   "outputs": [
    {
     "name": "stdout",
     "output_type": "stream",
     "text": [
      "Overall number of different words 68273\n",
      "Our model's accuracy is 0.7223927790135486\n"
     ]
    }
   ],
   "source": [
    "count_vect = CountVectorizer()\n",
    "x_train_counts = count_vect.fit_transform(x_train)\n",
    "print('Overall number of different words',len(count_vect.get_feature_names()))\n",
    "clf = MultinomialNB().fit(x_train_counts, y_train)\n",
    "y_predicted = clf.predict(count_vect.transform(x_validation))\n",
    "print(f'Our model\\'s accuracy is {metrics.accuracy_score(y_validation, y_predicted)}')"
   ]
  },
  {
   "cell_type": "markdown",
   "metadata": {},
   "source": [
    "### Prepare tfidf matrix"
   ]
  },
  {
   "cell_type": "code",
   "execution_count": 19,
   "metadata": {},
   "outputs": [
    {
     "name": "stdout",
     "output_type": "stream",
     "text": [
      "Overall number of different words 68273\n"
     ]
    }
   ],
   "source": [
    "tfidf_transformer = TfidfVectorizer()\n",
    "x_train_tfidf = tfidf_transformer.fit_transform(x_train)\n",
    "print('Overall number of different words',x_train_tfidf.shape[1])\n",
    "x_validation_tfidf = tfidf_transformer.transform(x_validation)"
   ]
  },
  {
   "cell_type": "code",
   "execution_count": 20,
   "metadata": {},
   "outputs": [],
   "source": [
    "def plot_roc(fpr, tpr, title='ROC Curve', roc_auc=''):\n",
    "    \"\"\"\n",
    "    Function to plot an ROC curve in a consistent way.\n",
    "    \n",
    "    Args:\n",
    "        fpr        False Positive Rate (list of multiple points)\n",
    "        tpr        True Positive Rate (list of multiple points)\n",
    "        title      Title above the plot\n",
    "        note       Note to display in the bottom-right of the plot\n",
    "    \"\"\"\n",
    "    plt.figure(1)\n",
    "    plt.plot([0, 1], [0, 1], 'k--')\n",
    "    plt.plot(fpr, tpr)\n",
    "    plt.xlabel('False positive rate')\n",
    "    plt.ylabel('True positive rate')\n",
    "    plt.title(title)\n",
    "    if roc_auc: plt.text(0.6, 0.2, roc_auc)\n",
    "    plt.show()"
   ]
  },
  {
   "cell_type": "markdown",
   "metadata": {},
   "source": [
    "### Naive Bayes using TfidfTransformer"
   ]
  },
  {
   "cell_type": "code",
   "execution_count": 21,
   "metadata": {},
   "outputs": [
    {
     "name": "stdout",
     "output_type": "stream",
     "text": [
      "Our model's accuracy is 0.7510892144787397\n"
     ]
    },
    {
     "data": {
      "image/png": "[encoded data removed]",
      "text/plain": [
       "<Figure size 432x288 with 1 Axes>"
      ]
     },
     "metadata": {
      "needs_background": "light"
     },
     "output_type": "display_data"
    }
   ],
   "source": [
    "clf = MultinomialNB().fit(x_train_tfidf, y_train)\n",
    "\n",
    "y_predicted = clf.predict(x_validation_tfidf)\n",
    "y_prob_predicted = clf.predict_proba(x_validation_tfidf)\n",
    "print(f'Our model\\'s accuracy is {metrics.accuracy_score(y_validation, y_predicted)}')\n",
    "\n",
    "fpr, tpr, thresholds = metrics.roc_curve(y_validation, y_prob_predicted[:,1])\n",
    "roc_auc = metrics.auc(fpr, tpr)\n",
    "plt.xlabel(\"FPR\")\n",
    "plt.ylabel(\"TPR\")\n",
    "plt.title(\"ROC curve\")\n",
    "plot_roc(fpr=fpr, tpr=tpr, roc_auc=roc_auc)"
   ]
  },
  {
   "cell_type": "markdown",
   "metadata": {},
   "source": [
    "### SGDClassifier  using TfidfTransformer"
   ]
  },
  {
   "cell_type": "code",
   "execution_count": 22,
   "metadata": {},
   "outputs": [
    {
     "name": "stdout",
     "output_type": "stream",
     "text": [
      "Our model's accuracy is 0.7954850451311654\n"
     ]
    },
    {
     "data": {
      "image/png": "[encoded data removed]",
      "text/plain": [
       "<Figure size 432x288 with 1 Axes>"
      ]
     },
     "metadata": {
      "needs_background": "light"
     },
     "output_type": "display_data"
    }
   ],
   "source": [
    "clf = SGDClassifier(tol=1e-3, loss='modified_huber').fit(x_train_tfidf, y_train)\n",
    "\n",
    "y_predicted = clf.predict(x_validation_tfidf)\n",
    "y_prob_predicted = clf.predict_proba(x_validation_tfidf)\n",
    "print(f'Our model\\'s accuracy is {metrics.accuracy_score(y_validation, y_predicted)}')\n",
    "\n",
    "fpr, tpr, thresholds = metrics.roc_curve(y_validation, y_prob_predicted[:,1])\n",
    "roc_auc = metrics.auc(fpr, tpr)\n",
    "plt.xlabel(\"FPR\")\n",
    "plt.ylabel(\"TPR\")\n",
    "plt.title(\"ROC curve\")\n",
    "plot_roc(fpr=fpr, tpr=tpr, roc_auc=roc_auc)"
   ]
  },
  {
   "cell_type": "markdown",
   "metadata": {},
   "source": [
    "### SVC using TfidfTransformer"
   ]
  },
  {
   "cell_type": "code",
   "execution_count": 24,
   "metadata": {},
   "outputs": [
    {
     "name": "stdout",
     "output_type": "stream",
     "text": [
      "Our model's accuracy is 0.7926356232880489\n"
     ]
    },
    {
     "data": {
      "image/png": "[encoded data removed]",
      "text/plain": [
       "<Figure size 432x288 with 1 Axes>"
      ]
     },
     "metadata": {
      "needs_background": "light"
     },
     "output_type": "display_data"
    }
   ],
   "source": [
    "clf = CalibratedClassifierCV(base_estimator=LinearSVC(penalty='l2', dual=False), cv=3).fit(x_train_tfidf, y_train)\n",
    "\n",
    "y_predicted = clf.predict(x_validation_tfidf)\n",
    "y_prob_predicted = clf.predict_proba(x_validation_tfidf)\n",
    "print(f'Our model\\'s accuracy is {metrics.accuracy_score(y_validation, y_predicted)}')\n",
    "\n",
    "fpr, tpr, thresholds = metrics.roc_curve(y_validation, y_prob_predicted[:,1])\n",
    "roc_auc = metrics.auc(fpr, tpr)\n",
    "plt.xlabel(\"FPR\")\n",
    "plt.ylabel(\"TPR\")\n",
    "plt.title(\"ROC curve\")\n",
    "plot_roc(fpr=fpr, tpr=tpr, roc_auc=roc_auc)"
   ]
  },
  {
   "cell_type": "markdown",
   "metadata": {},
   "source": [
    "### Logistic Regression using TfidfTransformer"
   ]
  },
  {
   "cell_type": "code",
   "execution_count": 25,
   "metadata": {},
   "outputs": [
    {
     "name": "stdout",
     "output_type": "stream",
     "text": [
      "Our model's accuracy is 0.7960916962332482\n"
     ]
    },
    {
     "data": {
      "image/png": "[encoded data removed]",
      "text/plain": [
       "<Figure size 432x288 with 1 Axes>"
      ]
     },
     "metadata": {
      "needs_background": "light"
     },
     "output_type": "display_data"
    }
   ],
   "source": [
    "clf = LogisticRegression().fit(x_train_tfidf, y_train)\n",
    "\n",
    "y_predicted = clf.predict(x_validation_tfidf)\n",
    "y_prob_predicted = clf.predict_proba(x_validation_tfidf)\n",
    "print(f'Our model\\'s accuracy is {metrics.accuracy_score(y_validation, y_predicted)}')\n",
    "\n",
    "fpr, tpr, thresholds = metrics.roc_curve(y_validation, y_prob_predicted[:,1])\n",
    "plt.xlabel(\"FPR\")\n",
    "plt.ylabel(\"TPR\")\n",
    "plt.title(\"ROC curve\")\n",
    "plot_roc(fpr=fpr, tpr=tpr, roc_auc=roc_auc)"
   ]
  },
  {
   "cell_type": "markdown",
   "metadata": {},
   "source": [
    "For the rest, we use Logistic regression to be our baseline"
   ]
  },
  {
   "cell_type": "markdown",
   "metadata": {},
   "source": [
    "## Feature engineering (can later test on NN model)\n",
    "### Stop words"
   ]
  },
  {
   "cell_type": "code",
   "execution_count": 26,
   "metadata": {},
   "outputs": [],
   "source": [
    "def accuracy_summary(pipeline, x_train, y_train, x_test, y_test):\n",
    "    \"\"\"Helper function to compute accuracy for some pipeline\"\"\"\n",
    "    t0 = time()\n",
    "    sentiment_fit = pipeline.fit(x_train, y_train)\n",
    "    y_pred = sentiment_fit.predict(x_test)\n",
    "    train_test_time = time() - t0\n",
    "    accuracy = accuracy_score(y_test, y_pred)\n",
    "    print (\"accuracy score: {0:.2f}%\".format(accuracy*100))\n",
    "    print (\"train and test time: {0:.2f}s\".format(train_test_time))\n",
    "    print (\"-\"*80)\n",
    "    return accuracy, train_test_time"
   ]
  },
  {
   "cell_type": "code",
   "execution_count": 27,
   "metadata": {},
   "outputs": [],
   "source": [
    "tfidf_transformer = TfidfVectorizer()\n",
    "lr = LogisticRegression()\n",
    "n_features = np.arange(10000,100000,10000)\n",
    "\n",
    "def nfeature_accuracy_checker(vectorizer=tfidf_transformer, n_features=n_features, stop_words=None, ngram_range=(1, 1), classifier=lr):\n",
    "    \"\"\"Helper to get accuracies for different number of features\"\"\"\n",
    "    result = []\n",
    "    print (classifier)\n",
    "    print (\"\\n\")\n",
    "    for n in n_features:\n",
    "        vectorizer.set_params(stop_words=stop_words, max_features=n, ngram_range=ngram_range)\n",
    "        checker_pipeline = Pipeline([\n",
    "            ('vectorizer', vectorizer),\n",
    "            ('classifier', classifier)\n",
    "        ])\n",
    "        print (\"Validation result for {} features\".format(n))\n",
    "        nfeature_accuracy,tt_time = accuracy_summary(checker_pipeline, x_train, y_train, x_validation, y_validation)\n",
    "        result.append(nfeature_accuracy)\n",
    "    return result"
   ]
  },
  {
   "cell_type": "code",
   "execution_count": 28,
   "metadata": {},
   "outputs": [
    {
     "name": "stdout",
     "output_type": "stream",
     "text": [
      "RESULT FOR UNIGRAM WITH STOP WORDS\n",
      "\n",
      "LogisticRegression(C=1.0, class_weight=None, dual=False, fit_intercept=True,\n",
      "          intercept_scaling=1, max_iter=100, multi_class='ovr', n_jobs=1,\n",
      "          penalty='l2', random_state=None, solver='liblinear', tol=0.0001,\n",
      "          verbose=0, warm_start=False)\n",
      "\n",
      "\n",
      "Validation result for 10000 features\n",
      "accuracy score: 79.53%\n",
      "train and test time: 6.44s\n",
      "--------------------------------------------------------------------------------\n",
      "Validation result for 20000 features\n",
      "accuracy score: 79.60%\n",
      "train and test time: 6.58s\n",
      "--------------------------------------------------------------------------------\n",
      "Validation result for 30000 features\n",
      "accuracy score: 79.61%\n",
      "train and test time: 5.23s\n",
      "--------------------------------------------------------------------------------\n",
      "Validation result for 40000 features\n",
      "accuracy score: 79.65%\n",
      "train and test time: 4.99s\n",
      "--------------------------------------------------------------------------------\n",
      "Validation result for 50000 features\n",
      "accuracy score: 79.66%\n",
      "train and test time: 5.05s\n",
      "--------------------------------------------------------------------------------\n",
      "Validation result for 60000 features\n",
      "accuracy score: 79.61%\n",
      "train and test time: 5.91s\n",
      "--------------------------------------------------------------------------------\n",
      "Validation result for 70000 features\n",
      "accuracy score: 79.61%\n",
      "train and test time: 5.64s\n",
      "--------------------------------------------------------------------------------\n",
      "Validation result for 80000 features\n",
      "accuracy score: 79.61%\n",
      "train and test time: 5.56s\n",
      "--------------------------------------------------------------------------------\n",
      "Validation result for 90000 features\n",
      "accuracy score: 79.61%\n",
      "train and test time: 5.29s\n",
      "--------------------------------------------------------------------------------\n",
      "CPU times: user 59.5 s, sys: 3.34 s, total: 1min 2s\n",
      "Wall time: 50.8 s\n"
     ]
    }
   ],
   "source": [
    "%%time\n",
    "print (\"RESULT FOR UNIGRAM WITH STOP WORDS\\n\")\n",
    "feature_result_with_stop = nfeature_accuracy_checker()"
   ]
  },
  {
   "cell_type": "code",
   "execution_count": 29,
   "metadata": {
    "scrolled": false
   },
   "outputs": [
    {
     "name": "stdout",
     "output_type": "stream",
     "text": [
      "RESULT FOR UNIGRAM WITHOUT STOP WORDS\n",
      "\n",
      "LogisticRegression(C=1.0, class_weight=None, dual=False, fit_intercept=True,\n",
      "          intercept_scaling=1, max_iter=100, multi_class='ovr', n_jobs=1,\n",
      "          penalty='l2', random_state=None, solver='liblinear', tol=0.0001,\n",
      "          verbose=0, warm_start=False)\n",
      "\n",
      "\n",
      "Validation result for 10000 features\n",
      "accuracy score: 77.29%\n",
      "train and test time: 4.15s\n",
      "--------------------------------------------------------------------------------\n",
      "Validation result for 20000 features\n",
      "accuracy score: 77.44%\n",
      "train and test time: 4.28s\n",
      "--------------------------------------------------------------------------------\n",
      "Validation result for 30000 features\n",
      "accuracy score: 77.53%\n",
      "train and test time: 4.55s\n",
      "--------------------------------------------------------------------------------\n",
      "Validation result for 40000 features\n",
      "accuracy score: 77.57%\n",
      "train and test time: 4.58s\n",
      "--------------------------------------------------------------------------------\n",
      "Validation result for 50000 features\n",
      "accuracy score: 77.57%\n",
      "train and test time: 4.63s\n",
      "--------------------------------------------------------------------------------\n",
      "Validation result for 60000 features\n",
      "accuracy score: 77.57%\n",
      "train and test time: 4.63s\n",
      "--------------------------------------------------------------------------------\n",
      "Validation result for 70000 features\n",
      "accuracy score: 77.54%\n",
      "train and test time: 4.66s\n",
      "--------------------------------------------------------------------------------\n",
      "Validation result for 80000 features\n",
      "accuracy score: 77.54%\n",
      "train and test time: 4.71s\n",
      "--------------------------------------------------------------------------------\n",
      "Validation result for 90000 features\n",
      "accuracy score: 77.54%\n",
      "train and test time: 4.67s\n",
      "--------------------------------------------------------------------------------\n",
      "CPU times: user 49.6 s, sys: 2.3 s, total: 51.9 s\n",
      "Wall time: 40.9 s\n"
     ]
    }
   ],
   "source": [
    "%%time\n",
    "print (\"RESULT FOR UNIGRAM WITHOUT STOP WORDS\\n\")\n",
    "feature_result_without_stop = nfeature_accuracy_checker(stop_words='english')"
   ]
  },
  {
   "cell_type": "code",
   "execution_count": 30,
   "metadata": {},
   "outputs": [
    {
     "name": "stdout",
     "output_type": "stream",
     "text": [
      "RESULT FOR UNIGRAM WITHOUT CUSTOM STOP WORDS\n",
      "\n",
      "LogisticRegression(C=1.0, class_weight=None, dual=False, fit_intercept=True,\n",
      "          intercept_scaling=1, max_iter=100, multi_class='ovr', n_jobs=1,\n",
      "          penalty='l2', random_state=None, solver='liblinear', tol=0.0001,\n",
      "          verbose=0, warm_start=False)\n",
      "\n",
      "\n",
      "Validation result for 10000 features\n",
      "accuracy score: 79.21%\n",
      "train and test time: 4.26s\n",
      "--------------------------------------------------------------------------------\n",
      "Validation result for 20000 features\n",
      "accuracy score: 79.22%\n",
      "train and test time: 4.57s\n",
      "--------------------------------------------------------------------------------\n",
      "Validation result for 30000 features\n",
      "accuracy score: 79.28%\n",
      "train and test time: 5.45s\n",
      "--------------------------------------------------------------------------------\n",
      "Validation result for 40000 features\n",
      "accuracy score: 79.28%\n",
      "train and test time: 4.92s\n",
      "--------------------------------------------------------------------------------\n",
      "Validation result for 50000 features\n",
      "accuracy score: 79.29%\n",
      "train and test time: 6.15s\n",
      "--------------------------------------------------------------------------------\n",
      "Validation result for 60000 features\n",
      "accuracy score: 79.29%\n",
      "train and test time: 5.62s\n",
      "--------------------------------------------------------------------------------\n",
      "Validation result for 70000 features\n",
      "accuracy score: 79.33%\n",
      "train and test time: 6.39s\n",
      "--------------------------------------------------------------------------------\n",
      "Validation result for 80000 features\n",
      "accuracy score: 79.33%\n",
      "train and test time: 4.85s\n",
      "--------------------------------------------------------------------------------\n",
      "Validation result for 90000 features\n",
      "accuracy score: 79.33%\n",
      "train and test time: 4.71s\n",
      "--------------------------------------------------------------------------------\n",
      "CPU times: user 53.6 s, sys: 2.56 s, total: 56.1 s\n",
      "Wall time: 47 s\n"
     ]
    }
   ],
   "source": [
    "%%time\n",
    "custom_stop_words = {'a', 'and', 'i', 'is', 'it', 'for', 'me', 'multistop', 'my', 'of', 's', 'the', 'that',\\\n",
    "                     'to', 'you','down', 'have', 'hers', 'their', 'for', 'themselves', 'in', 'so', 'do', 'm',\\\n",
    "                     'such', 'here', 'be', 'at','being', 'does', 'a', 'while', 'with', 'itself', 'its', 'am',\\\n",
    "                     'above', 'myself', 'own','same', 'as', 'my', 'which', 'to', 'were', 'did', 'after', 'his',\\\n",
    "                     'are','they', 'other', 'theirs'}\n",
    "print (\"RESULT FOR UNIGRAM WITHOUT CUSTOM STOP WORDS\\n\")\n",
    "feature_result_custom_stop = nfeature_accuracy_checker(stop_words=custom_stop_words)"
   ]
  },
  {
   "cell_type": "code",
   "execution_count": 32,
   "metadata": {},
   "outputs": [
    {
     "data": {
      "text/plain": [
       "<matplotlib.legend.Legend at 0x1a261ba0f0>"
      ]
     },
     "execution_count": 32,
     "metadata": {},
     "output_type": "execute_result"
    },
    {
     "data": {
      "image/png": "[encoded data removed]",
      "text/plain": [
       "<Figure size 576x432 with 1 Axes>"
      ]
     },
     "metadata": {
      "needs_background": "light"
     },
     "output_type": "display_data"
    }
   ],
   "source": [
    "plt.figure(figsize=(8,6))\n",
    "plt.plot(n_features, feature_result_with_stop, label='with stop words')\n",
    "plt.plot(n_features, feature_result_custom_stop,label='without custom stop words')\n",
    "plt.plot(n_features, feature_result_without_stop,label='without stop words')\n",
    "ind = n_features[np.argmax(feature_result_without_stop)]\n",
    "plt.axvline(x=ind, color='red', dashes= (3, 4, 3, 4), label='best accuracy reached' )\n",
    "plt.title(\"Accuracy of Logistic Regression, test stopwords\")\n",
    "plt.xlabel(\"Number of features\")\n",
    "plt.ylabel(\"Validation set accuracy\")\n",
    "plt.legend()"
   ]
  },
  {
   "cell_type": "markdown",
   "metadata": {},
   "source": [
    "### N Grams"
   ]
  },
  {
   "cell_type": "code",
   "execution_count": 33,
   "metadata": {
    "scrolled": false
   },
   "outputs": [
    {
     "name": "stdout",
     "output_type": "stream",
     "text": [
      "RESULT FOR BIGRAM WITH STOP WORDS\n",
      "\n",
      "LogisticRegression(C=1.0, class_weight=None, dual=False, fit_intercept=True,\n",
      "          intercept_scaling=1, max_iter=100, multi_class='ovr', n_jobs=1,\n",
      "          penalty='l2', random_state=None, solver='liblinear', tol=0.0001,\n",
      "          verbose=0, warm_start=False)\n",
      "\n",
      "\n",
      "Validation result for 10000 features\n",
      "accuracy score: 81.09%\n",
      "train and test time: 10.48s\n",
      "--------------------------------------------------------------------------------\n",
      "Validation result for 20000 features\n",
      "accuracy score: 81.62%\n",
      "train and test time: 10.60s\n",
      "--------------------------------------------------------------------------------\n",
      "Validation result for 30000 features\n",
      "accuracy score: 81.67%\n",
      "train and test time: 11.08s\n",
      "--------------------------------------------------------------------------------\n",
      "Validation result for 40000 features\n",
      "accuracy score: 81.75%\n",
      "train and test time: 11.02s\n",
      "--------------------------------------------------------------------------------\n",
      "Validation result for 50000 features\n",
      "accuracy score: 81.76%\n",
      "train and test time: 11.20s\n",
      "--------------------------------------------------------------------------------\n",
      "Validation result for 60000 features\n",
      "accuracy score: 81.73%\n",
      "train and test time: 11.21s\n",
      "--------------------------------------------------------------------------------\n",
      "Validation result for 70000 features\n",
      "accuracy score: 81.73%\n",
      "train and test time: 11.34s\n",
      "--------------------------------------------------------------------------------\n",
      "Validation result for 80000 features\n",
      "accuracy score: 81.74%\n",
      "train and test time: 11.34s\n",
      "--------------------------------------------------------------------------------\n",
      "Validation result for 90000 features\n",
      "accuracy score: 81.75%\n",
      "train and test time: 12.86s\n",
      "--------------------------------------------------------------------------------\n",
      "CPU times: user 1min 52s, sys: 4.64 s, total: 1min 56s\n",
      "Wall time: 1min 41s\n"
     ]
    }
   ],
   "source": [
    "%%time\n",
    "print (\"RESULT FOR BIGRAM WITH STOP WORDS\\n\")\n",
    "feature_result_bg = nfeature_accuracy_checker(ngram_range=(1, 2))"
   ]
  },
  {
   "cell_type": "code",
   "execution_count": 34,
   "metadata": {},
   "outputs": [
    {
     "name": "stdout",
     "output_type": "stream",
     "text": [
      "RESULT FOR TRIGRAM WITH STOP WORDS\n",
      "\n",
      "LogisticRegression(C=1.0, class_weight=None, dual=False, fit_intercept=True,\n",
      "          intercept_scaling=1, max_iter=100, multi_class='ovr', n_jobs=1,\n",
      "          penalty='l2', random_state=None, solver='liblinear', tol=0.0001,\n",
      "          verbose=0, warm_start=False)\n",
      "\n",
      "\n",
      "Validation result for 10000 features\n",
      "accuracy score: 80.98%\n",
      "train and test time: 21.75s\n",
      "--------------------------------------------------------------------------------\n",
      "Validation result for 20000 features\n",
      "accuracy score: 81.41%\n",
      "train and test time: 24.17s\n",
      "--------------------------------------------------------------------------------\n",
      "Validation result for 30000 features\n",
      "accuracy score: 81.57%\n",
      "train and test time: 21.18s\n",
      "--------------------------------------------------------------------------------\n",
      "Validation result for 40000 features\n",
      "accuracy score: 81.67%\n",
      "train and test time: 20.85s\n",
      "--------------------------------------------------------------------------------\n",
      "Validation result for 50000 features\n",
      "accuracy score: 81.69%\n",
      "train and test time: 21.21s\n",
      "--------------------------------------------------------------------------------\n",
      "Validation result for 60000 features\n",
      "accuracy score: 81.72%\n",
      "train and test time: 20.77s\n",
      "--------------------------------------------------------------------------------\n",
      "Validation result for 70000 features\n",
      "accuracy score: 81.76%\n",
      "train and test time: 20.73s\n",
      "--------------------------------------------------------------------------------\n",
      "Validation result for 80000 features\n",
      "accuracy score: 81.74%\n",
      "train and test time: 20.80s\n",
      "--------------------------------------------------------------------------------\n",
      "Validation result for 90000 features\n",
      "accuracy score: 81.76%\n",
      "train and test time: 21.23s\n",
      "--------------------------------------------------------------------------------\n",
      "CPU times: user 3min 19s, sys: 7.9 s, total: 3min 26s\n",
      "Wall time: 3min 12s\n"
     ]
    }
   ],
   "source": [
    "%%time\n",
    "print (\"RESULT FOR TRIGRAM WITH STOP WORDS\\n\")\n",
    "feature_result_tg = nfeature_accuracy_checker(ngram_range=(1, 3))"
   ]
  },
  {
   "cell_type": "code",
   "execution_count": 35,
   "metadata": {},
   "outputs": [
    {
     "data": {
      "text/plain": [
       "<matplotlib.legend.Legend at 0x1a33904e80>"
      ]
     },
     "execution_count": 35,
     "metadata": {},
     "output_type": "execute_result"
    },
    {
     "data": {
      "image/png": "[encoded data removed]",
      "text/plain": [
       "<Figure size 576x432 with 1 Axes>"
      ]
     },
     "metadata": {
      "needs_background": "light"
     },
     "output_type": "display_data"
    }
   ],
   "source": [
    "plt.figure(figsize=(8,6))\n",
    "plt.plot(n_features, feature_result_tg,label='trigram')\n",
    "plt.plot(n_features, feature_result_bg,label='bigram')\n",
    "plt.plot(n_features, feature_result_without_stop, label='unigram')\n",
    "ind = n_features[np.argmax(feature_result_tg)]\n",
    "plt.axvline(x=ind, color='red', dashes= (3, 4, 3, 4), label='best accuracy reached' )\n",
    "plt.title(\"Accuracy for different ngram ranges\")\n",
    "plt.xlabel(\"Number of features\")\n",
    "plt.ylabel(\"Validation set accuracy\")\n",
    "plt.legend()"
   ]
  },
  {
   "cell_type": "code",
   "execution_count": 36,
   "metadata": {},
   "outputs": [],
   "source": [
    "def train_test_and_evaluate(pipeline, x_train, y_train, x_test, y_test):\n",
    "    \"\"\"Helper function to train and validate some model\"\"\"\n",
    "    \n",
    "    sentiment_fit = pipeline.fit(x_train, y_train)\n",
    "    y_pred = sentiment_fit.predict(x_test)\n",
    "    accuracy = accuracy_score(y_test, y_pred)\n",
    "    conmat = np.array(confusion_matrix(y_test, y_pred, labels=[0,1]))\n",
    "    confusion = pd.DataFrame(conmat, index=['actual_negative', 'actual_positive'],\n",
    "                         columns=['predicted_negative','predicted_positive'])\n",
    "    print (\"accuracy score: {0:.2f}%\".format(accuracy*100))\n",
    "    print (\"-\"*80)\n",
    "    print (\"Confusion Matrix\\n\")\n",
    "    print( confusion)\n",
    "    print (\"-\"*80)\n",
    "    print( \"Classification Report\\n\")\n",
    "    print( classification_report(y_test, y_pred, target_names=['negative','positive']))\n",
    "    \n",
    "    fig, ax = plt.subplots(figsize=(9,6))\n",
    "    ax = sns.heatmap(confusion ,annot_kws={\"size\": 16}, linewidths=.5,fmt=\"d\", cmap=\"YlGnBu\", annot=True)\n",
    "    bottom, top = ax.get_ylim()\n",
    "    ax.set_ylim(bottom + 0.5, top - 0.5)\n",
    "    plt.title('Confusion Matrix of our best performing model')\n",
    "    plt.xlabel(\"Prediction\");\n",
    "    plt.ylabel(\"Actual label\");"
   ]
  },
  {
   "cell_type": "code",
   "execution_count": 37,
   "metadata": {},
   "outputs": [
    {
     "name": "stdout",
     "output_type": "stream",
     "text": [
      "accuracy score: 81.74%\n",
      "--------------------------------------------------------------------------------\n",
      "Confusion Matrix\n",
      "\n",
      "                 predicted_negative  predicted_positive\n",
      "actual_negative               21717                5687\n",
      "actual_positive                4247               22746\n",
      "--------------------------------------------------------------------------------\n",
      "Classification Report\n",
      "\n",
      "             precision    recall  f1-score   support\n",
      "\n",
      "   negative       0.84      0.79      0.81     27404\n",
      "   positive       0.80      0.84      0.82     26993\n",
      "\n",
      "avg / total       0.82      0.82      0.82     54397\n",
      "\n"
     ]
    },
    {
     "data": {
      "image/png": "[encoded data removed]",
      "text/plain": [
       "<Figure size 648x432 with 2 Axes>"
      ]
     },
     "metadata": {
      "needs_background": "light"
     },
     "output_type": "display_data"
    }
   ],
   "source": [
    "# test our best performing model\n",
    "vectorizer = TfidfVectorizer(max_features=80000,ngram_range=(1, 3))\n",
    "classifier = LogisticRegression()\n",
    "\n",
    "bg_pipeline = Pipeline([\n",
    "            ('vectorizer', vectorizer),\n",
    "            ('classifier', classifier)\n",
    "        ])\n",
    "    \n",
    "train_test_and_evaluate(bg_pipeline, x_train, y_train, x_validation, y_validation)"
   ]
  },
  {
   "cell_type": "markdown",
   "metadata": {},
   "source": [
    "## Test submission"
   ]
  },
  {
   "cell_type": "code",
   "execution_count": 43,
   "metadata": {},
   "outputs": [
    {
     "data": {
      "text/html": [
       "<div>\n",
       "<style scoped>\n",
       "    .dataframe tbody tr th:only-of-type {\n",
       "        vertical-align: middle;\n",
       "    }\n",
       "\n",
       "    .dataframe tbody tr th {\n",
       "        vertical-align: top;\n",
       "    }\n",
       "\n",
       "    .dataframe thead th {\n",
       "        text-align: right;\n",
       "    }\n",
       "</style>\n",
       "<table border=\"1\" class=\"dataframe\">\n",
       "  <thead>\n",
       "    <tr style=\"text-align: right;\">\n",
       "      <th></th>\n",
       "      <th>tweet</th>\n",
       "    </tr>\n",
       "  </thead>\n",
       "  <tbody>\n",
       "    <tr>\n",
       "      <th>1</th>\n",
       "      <td>sea doo pro sea scooter ( sports with the port...</td>\n",
       "    </tr>\n",
       "    <tr>\n",
       "      <th>2</th>\n",
       "      <td>&lt;user&gt; shucks well i work all week so now i ca...</td>\n",
       "    </tr>\n",
       "    <tr>\n",
       "      <th>3</th>\n",
       "      <td>i cant stay away from bug thats my baby</td>\n",
       "    </tr>\n",
       "    <tr>\n",
       "      <th>4</th>\n",
       "      <td>&lt;user&gt; no ma'am ! ! ! lol im perfectly fine an...</td>\n",
       "    </tr>\n",
       "    <tr>\n",
       "      <th>5</th>\n",
       "      <td>whenever i fall asleep watching the tv , i alw...</td>\n",
       "    </tr>\n",
       "    <tr>\n",
       "      <th>...</th>\n",
       "      <td>...</td>\n",
       "    </tr>\n",
       "    <tr>\n",
       "      <th>9996</th>\n",
       "      <td>had a nice time w / my friend lastnite</td>\n",
       "    </tr>\n",
       "    <tr>\n",
       "      <th>9997</th>\n",
       "      <td>&lt;user&gt; no it's not ! please stop !</td>\n",
       "    </tr>\n",
       "    <tr>\n",
       "      <th>9998</th>\n",
       "      <td>not without my daughter ( dvd two-time oscar (...</td>\n",
       "    </tr>\n",
       "    <tr>\n",
       "      <th>9999</th>\n",
       "      <td>&lt;user&gt; have fun in class sweetcheeks</td>\n",
       "    </tr>\n",
       "    <tr>\n",
       "      <th>10000</th>\n",
       "      <td>making a r . e . a . l . difference . ( get r ...</td>\n",
       "    </tr>\n",
       "  </tbody>\n",
       "</table>\n",
       "<p>10000 rows × 1 columns</p>\n",
       "</div>"
      ],
      "text/plain": [
       "                                                   tweet\n",
       "1      sea doo pro sea scooter ( sports with the port...\n",
       "2      <user> shucks well i work all week so now i ca...\n",
       "3                i cant stay away from bug thats my baby\n",
       "4      <user> no ma'am ! ! ! lol im perfectly fine an...\n",
       "5      whenever i fall asleep watching the tv , i alw...\n",
       "...                                                  ...\n",
       "9996              had a nice time w / my friend lastnite\n",
       "9997                  <user> no it's not ! please stop !\n",
       "9998   not without my daughter ( dvd two-time oscar (...\n",
       "9999                <user> have fun in class sweetcheeks\n",
       "10000  making a r . e . a . l . difference . ( get r ...\n",
       "\n",
       "[10000 rows x 1 columns]"
      ]
     },
     "execution_count": 43,
     "metadata": {},
     "output_type": "execute_result"
    }
   ],
   "source": [
    "with open('data/test_data.txt',\"r\") as file:\n",
    "    df_unknown = file.read().split('\\n')\n",
    "df_unknown = pd.DataFrame({'tweet' : df_unknown})[:len(df_unknown)-1]\n",
    "df_unknown.index += 1 \n",
    "df_unknown['tweet'] = df_unknown['tweet'].apply(lambda x : str(x).split(',', maxsplit=1)[1])\n",
    "df_unknown"
   ]
  },
  {
   "cell_type": "code",
   "execution_count": 44,
   "metadata": {},
   "outputs": [],
   "source": [
    "df_unknown['tweet'] = df_unknown['tweet'].apply(tweet_cleaner)"
   ]
  },
  {
   "cell_type": "code",
   "execution_count": 45,
   "metadata": {},
   "outputs": [],
   "source": [
    "vectorizer = TfidfVectorizer(max_features=70000,ngram_range=(1, 3))\n",
    "\n",
    "x_train_tfidf = vectorizer.fit_transform(x_train)\n",
    "\n",
    "clf = LogisticRegression().fit(x_train_tfidf, y_train)\n",
    "\n",
    "X_to_predict = df_unknown['tweet']\n",
    "X_to_predict = vectorizer.transform(X_to_predict)\n",
    "\n",
    "df_unknown = clf.predict(X_to_predict)\n",
    "df_unknown[df_unknown == 0] = -1 #replace 0 to -1"
   ]
  },
  {
   "cell_type": "code",
   "execution_count": 46,
   "metadata": {},
   "outputs": [],
   "source": [
    "create_csv_submission([x for x in range(1,len(df_unknown)+1)],df_unknown,\"output_check.csv\")"
   ]
  },
  {
   "cell_type": "code",
   "execution_count": null,
   "metadata": {},
   "outputs": [],
   "source": []
  }
 ],
 "metadata": {
  "colab": {
   "include_colab_link": true,
   "name": "basic_visualization.ipynb",
   "provenance": []
  },
  "kernelspec": {
   "display_name": "Python 3",
   "language": "python",
   "name": "python3"
  },
  "language_info": {
   "codemirror_mode": {
    "name": "ipython",
    "version": 3
   },
   "file_extension": ".py",
   "mimetype": "text/x-python",
   "name": "python",
   "nbconvert_exporter": "python",
   "pygments_lexer": "ipython3",
   "version": "3.7.0"
  },
  "toc": {
   "base_numbering": 1,
   "nav_menu": {},
   "number_sections": false,
   "sideBar": true,
   "skip_h1_title": false,
   "title_cell": "Table of Contents",
   "title_sidebar": "Contents",
   "toc_cell": true,
   "toc_position": {},
   "toc_section_display": true,
   "toc_window_display": false
  }
 },
 "nbformat": 4,
 "nbformat_minor": 1
}

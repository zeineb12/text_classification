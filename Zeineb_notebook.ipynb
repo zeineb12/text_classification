{
 "cells": [
  {
   "cell_type": "markdown",
   "metadata": {
    "colab_type": "text",
    "id": "view-in-github"
   },
   "source": [
    "<a href=\"https://colab.research.google.com/github/zeineb12/text_classification/blob/master/basic_visualization.ipynb\" target=\"_parent\"><img src=\"https://colab.research.google.com/assets/colab-badge.svg\" alt=\"Open In Colab\"/></a>"
   ]
  },
  {
   "cell_type": "markdown",
   "metadata": {
    "colab_type": "text",
    "id": "q-lciViJCvOx",
    "toc": true
   },
   "source": [
    "<h1>Table of Contents<span class=\"tocSkip\"></span></h1>\n",
    "<div class=\"toc\"><ul class=\"toc-item\"><li><span><a href=\"#Relevant-imports\" data-toc-modified-id=\"Relevant-imports-1\">Relevant imports</a></span></li><li><span><a href=\"#Dataset-shape\" data-toc-modified-id=\"Dataset-shape-2\">Dataset shape</a></span><ul class=\"toc-item\"><li><span><a href=\"#Drop-duplicates\" data-toc-modified-id=\"Drop-duplicates-2.1\">Drop duplicates</a></span></li></ul></li><li><span><a href=\"#Tweets-length\" data-toc-modified-id=\"Tweets-length-3\">Tweets length</a></span></li><li><span><a href=\"#Data-concatenation\" data-toc-modified-id=\"Data-concatenation-4\">Data concatenation</a></span></li><li><span><a href=\"#Data-Cleaning\" data-toc-modified-id=\"Data-Cleaning-5\">Data Cleaning</a></span></li><li><span><a href=\"#Word-cloud-TODO\" data-toc-modified-id=\"Word-cloud-TODO-6\">Word cloud TODO</a></span></li><li><span><a href=\"#Split-train/validation/test\" data-toc-modified-id=\"Split-train/validation/test-7\">Split train/validation/test</a></span></li><li><span><a href=\"#Baseline\" data-toc-modified-id=\"Baseline-8\">Baseline</a></span><ul class=\"toc-item\"><li><span><a href=\"#Naive-Bayes-using-CountVectorizer\" data-toc-modified-id=\"Naive-Bayes-using-CountVectorizer-8.1\">Naive Bayes using CountVectorizer</a></span></li><li><span><a href=\"#Naive-Bayes-using-TfidfTransformer\" data-toc-modified-id=\"Naive-Bayes-using-TfidfTransformer-8.2\">Naive Bayes using TfidfTransformer</a></span></li><li><span><a href=\"#KNN--using-TfidfTransformer\" data-toc-modified-id=\"KNN--using-TfidfTransformer-8.3\">KNN  using TfidfTransformer</a></span></li><li><span><a href=\"#Logistic-Regression-using-TfidfTransformer\" data-toc-modified-id=\"Logistic-Regression-using-TfidfTransformer-8.4\">Logistic Regression using TfidfTransformer</a></span></li></ul></li><li><span><a href=\"#Feature-engineering-choices-(can-later-on-test-on-NN-model)\" data-toc-modified-id=\"Feature-engineering-choices-(can-later-on-test-on-NN-model)-9\">Feature engineering choices (can later on test on NN model)</a></span><ul class=\"toc-item\"><li><span><a href=\"#Stop-words-(TODO:-improve-custom-list)\" data-toc-modified-id=\"Stop-words-(TODO:-improve-custom-list)-9.1\">Stop words (TODO: improve custom list)</a></span></li><li><span><a href=\"#N-Grams\" data-toc-modified-id=\"N-Grams-9.2\">N Grams</a></span></li></ul></li><li><span><a href=\"#Test-submission\" data-toc-modified-id=\"Test-submission-10\">Test submission</a></span></li></ul></div>"
   ]
  },
  {
   "cell_type": "markdown",
   "metadata": {
    "colab_type": "text",
    "id": "gf0JWLnpCvO0"
   },
   "source": [
    "## Relevant imports"
   ]
  },
  {
   "cell_type": "code",
   "execution_count": 1,
   "metadata": {
    "colab": {
     "base_uri": "https://localhost:8080/",
     "height": 334
    },
    "colab_type": "code",
    "id": "9fV6HAgzCvO2",
    "outputId": "e2a79732-66a0-4ca6-d26d-ca28f2d01883"
   },
   "outputs": [
    {
     "name": "stderr",
     "output_type": "stream",
     "text": [
      "/Users/macbook/anaconda3/lib/python3.7/site-packages/sklearn/feature_extraction/dict_vectorizer.py:6: DeprecationWarning: Using or importing the ABCs from 'collections' instead of from 'collections.abc' is deprecated, and in 3.8 it will stop working\n",
      "  from collections import Mapping\n"
     ]
    }
   ],
   "source": [
    "import pandas as pd\n",
    "import matplotlib.pyplot as plt\n",
    "from nltk.tokenize import WordPunctTokenizer\n",
    "from sklearn.feature_extraction.text import CountVectorizer\n",
    "from sklearn.model_selection import train_test_split\n",
    "import re\n",
    "from sklearn.model_selection import validation_curve\n",
    "import numpy as np\n",
    "from sklearn.feature_extraction.text import TfidfTransformer\n",
    "from sklearn import metrics\n",
    "from sklearn.model_selection import StratifiedKFold\n",
    "from sklearn.naive_bayes import MultinomialNB\n",
    "from textblob import TextBlob\n",
    "from sklearn.metrics import accuracy_score\n",
    "from sklearn.metrics import classification_report, confusion_matrix\n",
    "from wordcloud import WordCloud\n",
    "from utils import open_by_tweets\n",
    "from nltk.stem import WordNetLemmatizer \n",
    "from sklearn.linear_model import LogisticRegression\n",
    "from sklearn.pipeline import Pipeline\n",
    "from time import time\n",
    "from utils import create_csv_submission\n",
    "SEED = 15432"
   ]
  },
  {
   "cell_type": "markdown",
   "metadata": {
    "colab_type": "text",
    "id": "gJxa1llRCvPA"
   },
   "source": [
    "## Dataset shape"
   ]
  },
  {
   "cell_type": "code",
   "execution_count": 2,
   "metadata": {
    "colab": {
     "base_uri": "https://localhost:8080/",
     "height": 215
    },
    "colab_type": "code",
    "id": "5_syb7WOCvPC",
    "outputId": "60c7035e-9016-48fc-c2e8-2027de0477e2"
   },
   "outputs": [],
   "source": [
    "with open('data/train_pos.txt',\"r\") as file:\n",
    "    train_pos = file.read().split('\\n')\n",
    "train_pos = pd.DataFrame({'tweet' : train_pos})[:len(train_pos)-1]\n",
    "\n",
    "with open('data/train_neg.txt',\"r\") as file:\n",
    "    train_neg = file.read().split('\\n')\n",
    "train_neg = pd.DataFrame({'tweet' : train_neg})[:len(train_neg)-1]"
   ]
  },
  {
   "cell_type": "markdown",
   "metadata": {},
   "source": [
    "### Drop duplicates\n",
    "Let's drop duplicates from our dataset"
   ]
  },
  {
   "cell_type": "code",
   "execution_count": 3,
   "metadata": {},
   "outputs": [],
   "source": [
    "train_neg.drop_duplicates(inplace=True)\n",
    "train_pos.drop_duplicates(inplace=True)"
   ]
  },
  {
   "cell_type": "code",
   "execution_count": 4,
   "metadata": {
    "colab": {},
    "colab_type": "code",
    "id": "ZK0AeEvNCvPG"
   },
   "outputs": [
    {
     "data": {
      "image/png": "[encoded data removed]",
      "text/plain": [
       "<Figure size 432x288 with 1 Axes>"
      ]
     },
     "metadata": {},
     "output_type": "display_data"
    }
   ],
   "source": [
    "# Data to plot\n",
    "labels = 'positive tweets', 'negative tweets'\n",
    "sizes = [len(train_pos), len(train_neg)]\n",
    "colors = ['lightskyblue','lightcoral']\n",
    "explode = (0.1, 0)  # explode 1st slice\n",
    "\n",
    "# Plot\n",
    "plt.pie(sizes, explode=explode, labels=labels, colors=colors,\n",
    "autopct='%1.1f%%', shadow=True, startangle=140)\n",
    "\n",
    "plt.axis('equal')\n",
    "plt.show()"
   ]
  },
  {
   "cell_type": "markdown",
   "metadata": {
    "colab_type": "text",
    "id": "21AxeD0hCvPN"
   },
   "source": [
    "We see that the dataset is balanced"
   ]
  },
  {
   "cell_type": "markdown",
   "metadata": {},
   "source": [
    "## Tweets length\n",
    "* We add a column containing the tweet length for each tweet (in number of characters)"
   ]
  },
  {
   "cell_type": "code",
   "execution_count": 5,
   "metadata": {},
   "outputs": [],
   "source": [
    "train_neg['tweet_len'] = [len(t) for t in train_neg.tweet]\n",
    "train_pos['tweet_len'] = [len(t) for t in train_pos.tweet]"
   ]
  },
  {
   "cell_type": "code",
   "execution_count": 6,
   "metadata": {},
   "outputs": [
    {
     "data": {
      "image/png": "[encoded data removed]",
      "text/plain": [
       "<Figure size 432x288 with 2 Axes>"
      ]
     },
     "metadata": {
      "needs_background": "light"
     },
     "output_type": "display_data"
    }
   ],
   "source": [
    "fig, axs = plt.subplots(nrows=1, ncols=2, sharex=True)\n",
    "\n",
    "ax = axs[0]\n",
    "ax.boxplot(train_neg.tweet_len, whis=0.7)\n",
    "ax.set_title('negative tweets')\n",
    "\n",
    "ax = axs[1]\n",
    "ax.boxplot(train_pos.tweet_len, whis=1.5)\n",
    "ax.set_title('positive tweets')\n",
    "\n",
    "fig.suptitle('Length in number of characters of tweets')\n",
    "plt.show()"
   ]
  },
  {
   "cell_type": "markdown",
   "metadata": {},
   "source": [
    "* We see that positive tweets tend to be shorter than negative tweets (mean and std are both smaller)\n",
    "\n",
    "* However, something that's a bit strange, some of the tweets are way more than 140 characters long. But twitter’s character limit is 140."
   ]
  },
  {
   "cell_type": "code",
   "execution_count": 7,
   "metadata": {},
   "outputs": [
    {
     "data": {
      "text/html": [
       "<div>\n",
       "<style scoped>\n",
       "    .dataframe tbody tr th:only-of-type {\n",
       "        vertical-align: middle;\n",
       "    }\n",
       "\n",
       "    .dataframe tbody tr th {\n",
       "        vertical-align: top;\n",
       "    }\n",
       "\n",
       "    .dataframe thead th {\n",
       "        text-align: right;\n",
       "    }\n",
       "</style>\n",
       "<table border=\"1\" class=\"dataframe\">\n",
       "  <thead>\n",
       "    <tr style=\"text-align: right;\">\n",
       "      <th></th>\n",
       "      <th>tweet</th>\n",
       "      <th>tweet_len</th>\n",
       "    </tr>\n",
       "  </thead>\n",
       "  <tbody>\n",
       "    <tr>\n",
       "      <th>19278</th>\n",
       "      <td>\" &lt;user&gt; have so much fun at prom &lt;user&gt; \\ 355...</td>\n",
       "      <td>217</td>\n",
       "    </tr>\n",
       "  </tbody>\n",
       "</table>\n",
       "</div>"
      ],
      "text/plain": [
       "                                                   tweet  tweet_len\n",
       "19278  \" <user> have so much fun at prom <user> \\ 355...        217"
      ]
     },
     "execution_count": 7,
     "metadata": {},
     "output_type": "execute_result"
    }
   ],
   "source": [
    "train_pos[train_pos.tweet_len > 200].head(4)"
   ]
  },
  {
   "cell_type": "code",
   "execution_count": 8,
   "metadata": {},
   "outputs": [
    {
     "data": {
      "text/plain": [
       "'\" <user> have so much fun at prom <user> \\\\ 355 \\\\ 240 \\\\ 275 \\\\ 355 \\\\ 262 \\\\ 227 \\\\ 355 \\\\ 240 \\\\ 275 \\\\ 355 \\\\ 262 \\\\ 221 \\\\ 355 \\\\ 240 \\\\ 275 \\\\ 355 \\\\ 262 \\\\ 217 \\\\ 355 \\\\ 240 \\\\ 275 \\\\ 355 \\\\ 262 \\\\ 213 \" yayyy shanny ! ! ! #dodaadirty'"
      ]
     },
     "execution_count": 8,
     "metadata": {},
     "output_type": "execute_result"
    }
   ],
   "source": [
    "train_pos.loc[19278].tweet"
   ]
  },
  {
   "cell_type": "markdown",
   "metadata": {},
   "source": [
    "Maybe these numbers used to stand for emojis and when the html text was processed they becaùe like these"
   ]
  },
  {
   "cell_type": "code",
   "execution_count": 9,
   "metadata": {},
   "outputs": [
    {
     "data": {
      "text/plain": [
       "'\" <user> have so much fun at prom <user> \" yayyy shanny ! ! ! #dodaadirty'"
      ]
     },
     "execution_count": 9,
     "metadata": {},
     "output_type": "execute_result"
    }
   ],
   "source": [
    "re.sub(r'\\\\ [0-9]+ ','',train_pos.loc[19278].tweet)"
   ]
  },
  {
   "cell_type": "markdown",
   "metadata": {},
   "source": [
    "## Data concatenation"
   ]
  },
  {
   "cell_type": "code",
   "execution_count": 10,
   "metadata": {},
   "outputs": [
    {
     "data": {
      "text/html": [
       "<div>\n",
       "<style scoped>\n",
       "    .dataframe tbody tr th:only-of-type {\n",
       "        vertical-align: middle;\n",
       "    }\n",
       "\n",
       "    .dataframe tbody tr th {\n",
       "        vertical-align: top;\n",
       "    }\n",
       "\n",
       "    .dataframe thead th {\n",
       "        text-align: right;\n",
       "    }\n",
       "</style>\n",
       "<table border=\"1\" class=\"dataframe\">\n",
       "  <thead>\n",
       "    <tr style=\"text-align: right;\">\n",
       "      <th></th>\n",
       "      <th>tweet</th>\n",
       "      <th>tweet_len</th>\n",
       "      <th>label</th>\n",
       "    </tr>\n",
       "  </thead>\n",
       "  <tbody>\n",
       "    <tr>\n",
       "      <th>0</th>\n",
       "      <td>&lt;user&gt; i dunno justin read my mention or not ....</td>\n",
       "      <td>127</td>\n",
       "      <td>1</td>\n",
       "    </tr>\n",
       "    <tr>\n",
       "      <th>1</th>\n",
       "      <td>because your logic is so dumb , i won't even c...</td>\n",
       "      <td>91</td>\n",
       "      <td>1</td>\n",
       "    </tr>\n",
       "    <tr>\n",
       "      <th>2</th>\n",
       "      <td>\" &lt;user&gt; just put casper in a box ! \" looved t...</td>\n",
       "      <td>69</td>\n",
       "      <td>1</td>\n",
       "    </tr>\n",
       "    <tr>\n",
       "      <th>3</th>\n",
       "      <td>&lt;user&gt; &lt;user&gt; thanks sir &gt; &gt; don't trip lil ma...</td>\n",
       "      <td>78</td>\n",
       "      <td>1</td>\n",
       "    </tr>\n",
       "    <tr>\n",
       "      <th>4</th>\n",
       "      <td>visiting my brother tmr is the bestest birthda...</td>\n",
       "      <td>66</td>\n",
       "      <td>1</td>\n",
       "    </tr>\n",
       "    <tr>\n",
       "      <th>5</th>\n",
       "      <td>&lt;user&gt; yay ! ! #lifecompleted . tweet / facebo...</td>\n",
       "      <td>73</td>\n",
       "      <td>1</td>\n",
       "    </tr>\n",
       "  </tbody>\n",
       "</table>\n",
       "</div>"
      ],
      "text/plain": [
       "                                               tweet  tweet_len  label\n",
       "0  <user> i dunno justin read my mention or not ....        127      1\n",
       "1  because your logic is so dumb , i won't even c...         91      1\n",
       "2  \" <user> just put casper in a box ! \" looved t...         69      1\n",
       "3  <user> <user> thanks sir > > don't trip lil ma...         78      1\n",
       "4  visiting my brother tmr is the bestest birthda...         66      1\n",
       "5  <user> yay ! ! #lifecompleted . tweet / facebo...         73      1"
      ]
     },
     "execution_count": 10,
     "metadata": {},
     "output_type": "execute_result"
    }
   ],
   "source": [
    "train_pos['label'] = 1\n",
    "train_neg['label'] = 0\n",
    "train_set = train_pos.append(train_neg)\n",
    "train_set.head(6)"
   ]
  },
  {
   "cell_type": "markdown",
   "metadata": {},
   "source": [
    "## Data Cleaning"
   ]
  },
  {
   "cell_type": "code",
   "execution_count": 11,
   "metadata": {},
   "outputs": [],
   "source": [
    "#train_set[train_set['tweet'].str.contains('</3')]#.loc[70514].tweet"
   ]
  },
  {
   "cell_type": "code",
   "execution_count": 12,
   "metadata": {},
   "outputs": [],
   "source": [
    "#train_set[train_set['tweet'].str.contains(':\\*')]#.loc[96380].tweet"
   ]
  },
  {
   "cell_type": "code",
   "execution_count": 13,
   "metadata": {},
   "outputs": [],
   "source": [
    "def replace_exclamations(x):\n",
    "    \"\"\" Replaces multiple exclamation marks by the word exclamationMark \"\"\"\n",
    "    x = re.sub('(\\! )+(?=(\\!))', '', x)\n",
    "    x = re.sub(r\"(\\!)+\", ' exclamationMark ', x)\n",
    "    return x\n",
    "\n",
    "\n",
    "def replace_questions(x):\n",
    "    \"\"\" Replaces multiple question marks by the word questionMark \"\"\"\n",
    "    x = re.sub('(\\? )+(?=(\\?))', '', x)\n",
    "    x = re.sub(r\"(\\?)+\", ' questionMark ', x)\n",
    "    return x\n",
    "\n",
    "def tokenization(text):\n",
    "    text = re.split('\\W+', text)\n",
    "    return text\n",
    "\n",
    "def lemmatizer(l,text):\n",
    "    text = [l.lemmatize(word) for word in text]\n",
    "    return text\n",
    "\n",
    "def join_tokens(tokens):\n",
    "    text = ' '.join(tokens)\n",
    "    return text\n",
    "\n",
    "def replace_points(x):\n",
    "    \"\"\" Replaces multiple points by the word multiplePoints \"\"\"\n",
    "    x = re.sub('(\\. )+(?=(\\.))', '', x)\n",
    "    x = re.sub(r\"(\\.)+\", ' multistop ', x)\n",
    "    return x\n",
    "\n",
    "def translate_emojis(x):\n",
    "    \"\"\" Replace emojis into meaningful words \"\"\"\n",
    "    x = re.sub(' [:,=]( )*[\\),\\],},D] ', ' happy ', x) #:) :D :} :]\n",
    "    x = re.sub(' [:,=]( )*[\\(,\\[,{,] ', ' sad ', x) #:( :{ :[\n",
    "    x = re.sub(' X( )*D ', ' funny ', x) #XD\n",
    "    x = re.sub(' [:,=]( )*p ', ' silly ', x) #:p\n",
    "    x = re.sub(' [:,=]( )*-( )*p ', ' silly ', x) #:-p\n",
    "    x = re.sub(' \\[( )*[:,=] ', ' happy ', x) #[:\n",
    "    x = re.sub(' [:,=]( )*[o,0] ', ' surprise ', x) #:o :O\n",
    "    x = re.sub(' [x,X]+ ', ' kiss ', x) #xXxX\n",
    "    x = re.sub(' ([x,X][o,O]){2,} ', ' kiss ', x) #xoxo\n",
    "    x = re.sub(' [:,=]( )*\\* ', ' kiss ', x) #:* =*\n",
    "    x = re.sub(' [:,=]( )-( )[D,\\)] ', ' happy ', x) #:-D :-)\n",
    "    x = re.sub(' [:,=]( )*/ ', ' confused ', x) #:/\n",
    "    x = re.sub(' <( )*3 ', ' love ', x) #<3\n",
    "    x = re.sub(' <( )*/( )*3 ', ' sad ', x) #</3\n",
    "    x = re.sub(' [:,=]( )*@ ', ' mad ', x) #:@\n",
    "    x = re.sub(' [:,=]( )\\'( )\\( ', ' sad ', x) #:'(\n",
    "    x = re.sub(' [:,=]( )\\'( )[\\),D] ', ' happy ', x) #:') :'D\n",
    "    x = re.sub(' ([h,j][a,e,i,o]){2,} ', ' haha ', x) #hahaha\n",
    "    x = re.sub(' (a*ha+h[ha]*|h*ah+a[ah]*|o?l+o+l+[ol]*) ', ' haha ', x) #hhaha,aahha,lool\n",
    "    x = re.sub(' (i*hi+h[hi]*|h*ih+i[ih]*|h*oh+o[oh]*|h*eh+e[eh]*) ', ' haha ', x) #hihi, hoho, hehe\n",
    "    return x\n",
    "\n",
    "def split_negation(text):\n",
    "    negations_dict = {\"isn't\":\"is not\", \"aren't\":\"are not\", \"wasn't\":\"was not\", \"weren't\":\"were not\",\n",
    "                    \"haven't\":\"have not\",\"hasn't\":\"has not\",\"hadn't\":\"had not\",\"won't\":\"will not\",\n",
    "                    \"wouldn't\":\"would not\", \"don't\":\"do not\", \"doesn't\":\"does not\",\"didn't\":\"did not\",\n",
    "                    \"can't\":\"can not\",\"couldn't\":\"could not\",\"shouldn't\":\"should not\",\"mightn't\":\"might not\",\n",
    "                    \"mustn't\":\"must not\"}\n",
    "    neg_pattern = re.compile(r'\\b(' + '|'.join(negations_dict.keys()) + r')\\b')\n",
    "    text = neg_pattern.sub(lambda x: negations_dict[x.group()], text)\n",
    "    \n",
    "    contraction_patterns = [(r'ew(\\w+)', 'disgusting'),(r'argh(\\w+)', 'argh'),(r'fack(\\w+)', 'fuck'),\n",
    "                            (r'sigh(\\w+)', 'sigh'),(r'fuck(\\w+)', 'fuck'),(r'omg(\\w+)', 'omg'),\n",
    "                            (r'oh my god(\\w+)', 'omg'),(r'(\\w+)n\\'', '\\g<1>ng'),(r'(\\w+)n \\'', '\\g<1>ng'),\n",
    "                            (r'(\\w+)\\'ll', '\\g<1> will'),(r'(\\w+)\\'ve', '\\g<1> have'),(r'(\\w+)\\'s', '\\g<1> is'),\n",
    "                            (r'(\\w+)\\'re', '\\g<1> are'),(r'(\\w+)\\'d', '\\g<1> would'),(r'&', 'and')]\n",
    "    patterns = [(re.compile(regex_exp, re.IGNORECASE), replacement)\n",
    "                for (regex_exp, replacement) in contraction_patterns]\n",
    "    for (pattern, replacement) in patterns:\n",
    "        (text, _) = re.subn(pattern, replacement, text)\n",
    "    \n",
    "    return text\n",
    "\n",
    "def replace_contractions(text):\n",
    "    contractions_dict = {\"i'm\":\"i am\", \"wanna\":\"want to\", \"whi\":\"why\", \"gonna\":\"going to\",\n",
    "                    \"wa\":\"was\",\"nite\":\"night\",\"there's\":\"there is\",\"that's\":\"that is\",\n",
    "                    \"ladi\":\"lady\", \"fav\":\"favorite\", \"becaus\":\"because\",\"i\\'ts\":\"it is\",\n",
    "                    \"dammit\":\"damn it\", \"coz\":\"because\"}\n",
    "    contraction_pattern = re.compile(r'\\b(' + '|'.join(contractions_dict.keys()) + r')\\b')\n",
    "    text = contraction_pattern.sub(lambda x: contractions_dict[x.group()], text)\n",
    "    return text\n"
   ]
  },
  {
   "cell_type": "code",
   "execution_count": 14,
   "metadata": {},
   "outputs": [],
   "source": [
    "def tweet_cleaner(tweet):\n",
    "    #translate emojis\n",
    "    tweet = translate_emojis(tweet)\n",
    "    #lowercase tweet\n",
    "    tweet = tweet.lower()\n",
    "    #seperate negation words\n",
    "    tweet = split_negation(tweet)\n",
    "    #seperate punctuation from words\n",
    "    tweet = re.sub(r\"([\\w/'+$\\s-]+|[^\\w/'+$\\s-]+)\\s*\", r\"\\1 \", tweet)\n",
    "    #remove the observed pattern of numbers seen above\n",
    "    tweet = re.sub(r'\\\\ [0-9]+ ', '', tweet)\n",
    "    #replace ?,!,. by words\n",
    "    tweet = replace_exclamations(tweet)\n",
    "    tweet = replace_questions(tweet)\n",
    "    tweet = replace_points(tweet)\n",
    "    \n",
    "    #Now since we translated punctuation and emojis and negative words we can remove the rest of the 'unwanted' chars\n",
    "    #remove unwanted punctuation\n",
    "    tweet = re.sub(\"[^a-zA-Z]\", \" \", tweet)\n",
    "    \n",
    "    #remove trailing and leading whitespace\n",
    "    tweet = tweet.strip() \n",
    "    #remove multiple consecutive whitespaces\n",
    "    tweet = re.sub(' +', ' ',tweet) \n",
    "    \n",
    "    #correct spelling : deals with goooood -> good\n",
    "    #b = TextBlob(tweet)\n",
    "    #tweet = str(b.correct())\n",
    "    \n",
    "    #Lemmatization\n",
    "    l = WordNetLemmatizer() \n",
    "    tweet = tokenization(tweet)\n",
    "    tweet = join_tokens(lemmatizer(l,tweet))\n",
    "    return tweet"
   ]
  },
  {
   "cell_type": "code",
   "execution_count": 15,
   "metadata": {},
   "outputs": [],
   "source": [
    "train_set['tweet'] = train_set['tweet'].apply(tweet_cleaner)"
   ]
  },
  {
   "cell_type": "code",
   "execution_count": 16,
   "metadata": {},
   "outputs": [],
   "source": [
    "train_set.to_pickle(\"./data/tweets.pkl\")"
   ]
  },
  {
   "cell_type": "code",
   "execution_count": 17,
   "metadata": {},
   "outputs": [],
   "source": [
    "train_set = pd.read_pickle(\"./data/tweets.pkl\")"
   ]
  },
  {
   "cell_type": "markdown",
   "metadata": {},
   "source": [
    "## Word cloud TODO"
   ]
  },
  {
   "cell_type": "code",
   "execution_count": 18,
   "metadata": {},
   "outputs": [],
   "source": [
    "#insert code here & save files for report\n",
    "#wordcloud.to_file(\"img/pos_tweets.png\")\n",
    "#wordcloud.to_file(\"img/neg_tweets.png\")"
   ]
  },
  {
   "cell_type": "markdown",
   "metadata": {},
   "source": [
    "## Split train/validation/test"
   ]
  },
  {
   "cell_type": "code",
   "execution_count": 19,
   "metadata": {},
   "outputs": [],
   "source": [
    "x = train_set.tweet\n",
    "y = train_set.label\n",
    "\n",
    "x_train, x_test, y_train, y_test = train_test_split(x, y, test_size=.3, random_state=SEED)\n",
    "x_validation, x_test, y_validation, y_test = train_test_split(x_test, y_test, test_size=.5, random_state=SEED)"
   ]
  },
  {
   "cell_type": "code",
   "execution_count": 20,
   "metadata": {},
   "outputs": [
    {
     "name": "stdout",
     "output_type": "stream",
     "text": [
      "Train set has total 126924 entries with 50.17% negative, 49.83% positive\n",
      "Validation set has total 27198 entries with 50.08% negative, 49.92% positive\n",
      "Test set has total 27199 entries with 50.67% negative, 49.33% positive\n"
     ]
    }
   ],
   "source": [
    "print(\"Train set has total {0} entries with {1:.2f}% negative, {2:.2f}% positive\".format(len(x_train),\n",
    "                                                                             (len(x_train[y_train == 0]) / (len(x_train)*1.))*100,\n",
    "                                                                            (len(x_train[y_train == 1]) / (len(x_train)*1.))*100))\n",
    "print( \"Validation set has total {0} entries with {1:.2f}% negative, {2:.2f}% positive\".format(len(x_validation),\n",
    "                                                                             (len(x_validation[y_validation == 0]) / (len(x_validation)*1.))*100,\n",
    "                                                                            (len(x_validation[y_validation == 1]) / (len(x_validation)*1.))*100))\n",
    "print (\"Test set has total {0} entries with {1:.2f}% negative, {2:.2f}% positive\".format(len(x_test),\n",
    "                                                                             (len(x_test[y_test == 0]) / (len(x_test)*1.))*100,\n",
    "                                                                            (len(x_test[y_test == 1]) / (len(x_test)*1.))*100))"
   ]
  },
  {
   "cell_type": "markdown",
   "metadata": {},
   "source": [
    "## Baseline"
   ]
  },
  {
   "cell_type": "markdown",
   "metadata": {},
   "source": [
    "### Naive Bayes using CountVectorizer "
   ]
  },
  {
   "cell_type": "code",
   "execution_count": 21,
   "metadata": {},
   "outputs": [
    {
     "name": "stdout",
     "output_type": "stream",
     "text": [
      "Overall number of different words 68274\n",
      "Our model's accuracy is 0.7210191551159969\n"
     ]
    }
   ],
   "source": [
    "count_vect = CountVectorizer()\n",
    "x_train_counts = count_vect.fit_transform(x_train)\n",
    "print('Overall number of different words',len(count_vect.get_feature_names()))\n",
    "clf = MultinomialNB().fit(x_train_counts, y_train)\n",
    "y_predicted = clf.predict(count_vect.transform(x_test))\n",
    "print(f'Our model\\'s accuracy is {metrics.accuracy_score(y_test, y_predicted)}')"
   ]
  },
  {
   "cell_type": "markdown",
   "metadata": {},
   "source": [
    "### Naive Bayes using TfidfTransformer"
   ]
  },
  {
   "cell_type": "code",
   "execution_count": 22,
   "metadata": {},
   "outputs": [
    {
     "name": "stdout",
     "output_type": "stream",
     "text": [
      "Overall number of different words 68274\n",
      "Our model's accuracy is 0.7505055332916651\n"
     ]
    }
   ],
   "source": [
    "count_vect = CountVectorizer()\n",
    "tfidf_transformer = TfidfTransformer()\n",
    "x_train_counts = count_vect.fit_transform(x_train)\n",
    "x_train_tfidf = tfidf_transformer.fit_transform(x_train_counts)\n",
    "print('Overall number of different words',x_train_tfidf.shape[1])\n",
    "clf = MultinomialNB().fit(x_train_tfidf, y_train)\n",
    "y_predicted = clf.predict(tfidf_transformer.transform(count_vect.transform(x_test)))\n",
    "print(f'Our model\\'s accuracy is {metrics.accuracy_score(y_test, y_predicted)}')"
   ]
  },
  {
   "cell_type": "markdown",
   "metadata": {},
   "source": [
    "### KNN  using TfidfTransformer"
   ]
  },
  {
   "cell_type": "code",
   "execution_count": null,
   "metadata": {},
   "outputs": [],
   "source": [
    "# Je fais demain"
   ]
  },
  {
   "cell_type": "markdown",
   "metadata": {},
   "source": [
    "### Logistic Regression using TfidfTransformer"
   ]
  },
  {
   "cell_type": "code",
   "execution_count": 23,
   "metadata": {},
   "outputs": [
    {
     "name": "stdout",
     "output_type": "stream",
     "text": [
      "Overall number of different words 68274\n",
      "Our model's accuracy is 0.795507187764256\n"
     ]
    }
   ],
   "source": [
    "count_vect = CountVectorizer()\n",
    "tfidf_transformer = TfidfTransformer()\n",
    "x_train_counts = count_vect.fit_transform(x_train)\n",
    "x_train_tfidf = tfidf_transformer.fit_transform(x_train_counts)\n",
    "print('Overall number of different words',x_train_tfidf.shape[1])\n",
    "clf = LogisticRegression().fit(x_train_tfidf, y_train)\n",
    "y_predicted = clf.predict(tfidf_transformer.transform(count_vect.transform(x_test)))\n",
    "print(f'Our model\\'s accuracy is {metrics.accuracy_score(y_test, y_predicted)}')"
   ]
  },
  {
   "cell_type": "markdown",
   "metadata": {},
   "source": [
    "For the rest, we use Logistic regression to be our baseline"
   ]
  },
  {
   "cell_type": "markdown",
   "metadata": {},
   "source": [
    "## Feature engineering choices (can later on test on NN model)\n",
    "### Stop words (TODO: improve custom list)"
   ]
  },
  {
   "cell_type": "code",
   "execution_count": 187,
   "metadata": {},
   "outputs": [],
   "source": [
    "def accuracy_summary(pipeline, x_train, y_train, x_test, y_test):\n",
    "    \"\"\"Helper function to compute accuracy for some pipeline\"\"\"\n",
    "    if len(x_test[y_test == 0]) / (len(x_test)*1.) > 0.5:\n",
    "        null_accuracy = len(x_test[y_test == 0]) / (len(x_test)*1.)\n",
    "    else:\n",
    "        null_accuracy = 1. - (len(x_test[y_test == 0]) / (len(x_test)*1.))\n",
    "    t0 = time()\n",
    "    sentiment_fit = pipeline.fit(x_train, y_train)\n",
    "    y_pred = sentiment_fit.predict(x_test)\n",
    "    train_test_time = time() - t0\n",
    "    accuracy = accuracy_score(y_test, y_pred)\n",
    "    print (\"null accuracy: {0:.2f}%\".format(null_accuracy*100))\n",
    "    print (\"accuracy score: {0:.2f}%\".format(accuracy*100))\n",
    "    if accuracy > null_accuracy:\n",
    "        print (\"model is {0:.2f}% more accurate than null accuracy\".format((accuracy-null_accuracy)*100))\n",
    "    elif accuracy == null_accuracy:\n",
    "        print (\"model has the same accuracy with the null accuracy\")\n",
    "    else:\n",
    "        print (\"model is {0:.2f}% less accurate than null accuracy\".format((null_accuracy-accuracy)*100))\n",
    "    print (\"train and test time: {0:.2f}s\".format(train_test_time))\n",
    "    print (\"-\"*80)\n",
    "    return accuracy, train_test_time"
   ]
  },
  {
   "cell_type": "code",
   "execution_count": 188,
   "metadata": {},
   "outputs": [],
   "source": [
    "count_vect = CountVectorizer()\n",
    "tfidf_transformer = TfidfTransformer()\n",
    "lr = LogisticRegression()\n",
    "n_features = np.arange(10000,80000,10000)\n",
    "\n",
    "def nfeature_accuracy_checker(vectorizer=count_vect, n_features=n_features, stop_words=None, ngram_range=(1, 1), classifier=lr):\n",
    "    \"\"\"Helper to get accuracies for different number of features\"\"\"\n",
    "    result = []\n",
    "    print (classifier)\n",
    "    print (\"\\n\")\n",
    "    for n in n_features:\n",
    "        vectorizer.set_params(stop_words=stop_words, max_features=n, ngram_range=ngram_range)\n",
    "        checker_pipeline = Pipeline([\n",
    "            ('vectorizer', vectorizer),\n",
    "            ('transformer', tfidf_transformer),\n",
    "            ('classifier', classifier)\n",
    "        ])\n",
    "        print (\"Validation result for {} features\".format(n))\n",
    "        nfeature_accuracy,tt_time = accuracy_summary(checker_pipeline, x_train, y_train, x_validation, y_validation)\n",
    "        result.append(nfeature_accuracy)\n",
    "    return result"
   ]
  },
  {
   "cell_type": "code",
   "execution_count": 189,
   "metadata": {},
   "outputs": [
    {
     "name": "stdout",
     "output_type": "stream",
     "text": [
      "RESULT FOR UNIGRAM WITH STOP WORDS\n",
      "\n",
      "LogisticRegression(C=1.0, class_weight=None, dual=False, fit_intercept=True,\n",
      "          intercept_scaling=1, max_iter=100, multi_class='ovr', n_jobs=1,\n",
      "          penalty='l2', random_state=None, solver='liblinear', tol=0.0001,\n",
      "          verbose=0, warm_start=False)\n",
      "\n",
      "\n",
      "Validation result for 10000 features\n",
      "null accuracy: 50.08%\n",
      "accuracy score: 79.66%\n",
      "model is 29.57% more accurate than null accuracy\n",
      "train and test time: 4.31s\n",
      "--------------------------------------------------------------------------------\n",
      "Validation result for 20000 features\n",
      "null accuracy: 50.08%\n",
      "accuracy score: 79.76%\n",
      "model is 29.67% more accurate than null accuracy\n",
      "train and test time: 5.00s\n",
      "--------------------------------------------------------------------------------\n",
      "Validation result for 30000 features\n",
      "null accuracy: 50.08%\n",
      "accuracy score: 79.70%\n",
      "model is 29.61% more accurate than null accuracy\n",
      "train and test time: 5.32s\n",
      "--------------------------------------------------------------------------------\n",
      "Validation result for 40000 features\n",
      "null accuracy: 50.08%\n",
      "accuracy score: 79.68%\n",
      "model is 29.60% more accurate than null accuracy\n",
      "train and test time: 4.46s\n",
      "--------------------------------------------------------------------------------\n",
      "Validation result for 50000 features\n",
      "null accuracy: 50.08%\n",
      "accuracy score: 79.66%\n",
      "model is 29.57% more accurate than null accuracy\n",
      "train and test time: 4.53s\n",
      "--------------------------------------------------------------------------------\n",
      "Validation result for 60000 features\n",
      "null accuracy: 50.08%\n",
      "accuracy score: 79.64%\n",
      "model is 29.56% more accurate than null accuracy\n",
      "train and test time: 4.54s\n",
      "--------------------------------------------------------------------------------\n",
      "Validation result for 70000 features\n",
      "null accuracy: 50.08%\n",
      "accuracy score: 79.62%\n",
      "model is 29.54% more accurate than null accuracy\n",
      "train and test time: 4.52s\n",
      "--------------------------------------------------------------------------------\n",
      "CPU times: user 40.3 s, sys: 2.21 s, total: 42.5 s\n",
      "Wall time: 32.8 s\n"
     ]
    }
   ],
   "source": [
    "%%time\n",
    "print (\"RESULT FOR UNIGRAM WITH STOP WORDS\\n\")\n",
    "feature_result_with_stop = nfeature_accuracy_checker()"
   ]
  },
  {
   "cell_type": "code",
   "execution_count": 190,
   "metadata": {},
   "outputs": [
    {
     "name": "stdout",
     "output_type": "stream",
     "text": [
      "RESULT FOR UNIGRAM WITHOUT STOP WORDS\n",
      "\n",
      "LogisticRegression(C=1.0, class_weight=None, dual=False, fit_intercept=True,\n",
      "          intercept_scaling=1, max_iter=100, multi_class='ovr', n_jobs=1,\n",
      "          penalty='l2', random_state=None, solver='liblinear', tol=0.0001,\n",
      "          verbose=0, warm_start=False)\n",
      "\n",
      "\n",
      "Validation result for 10000 features\n",
      "null accuracy: 50.08%\n",
      "accuracy score: 77.40%\n",
      "model is 27.31% more accurate than null accuracy\n",
      "train and test time: 3.55s\n",
      "--------------------------------------------------------------------------------\n",
      "Validation result for 20000 features\n",
      "null accuracy: 50.08%\n",
      "accuracy score: 77.63%\n",
      "model is 27.54% more accurate than null accuracy\n",
      "train and test time: 3.68s\n",
      "--------------------------------------------------------------------------------\n",
      "Validation result for 30000 features\n",
      "null accuracy: 50.08%\n",
      "accuracy score: 77.70%\n",
      "model is 27.62% more accurate than null accuracy\n",
      "train and test time: 3.94s\n",
      "--------------------------------------------------------------------------------\n",
      "Validation result for 40000 features\n",
      "null accuracy: 50.08%\n",
      "accuracy score: 77.73%\n",
      "model is 27.64% more accurate than null accuracy\n",
      "train and test time: 4.47s\n",
      "--------------------------------------------------------------------------------\n",
      "Validation result for 50000 features\n",
      "null accuracy: 50.08%\n",
      "accuracy score: 77.78%\n",
      "model is 27.70% more accurate than null accuracy\n",
      "train and test time: 4.32s\n",
      "--------------------------------------------------------------------------------\n",
      "Validation result for 60000 features\n",
      "null accuracy: 50.08%\n",
      "accuracy score: 77.78%\n",
      "model is 27.70% more accurate than null accuracy\n",
      "train and test time: 4.11s\n",
      "--------------------------------------------------------------------------------\n",
      "Validation result for 70000 features\n",
      "null accuracy: 50.08%\n",
      "accuracy score: 77.70%\n",
      "model is 27.61% more accurate than null accuracy\n",
      "train and test time: 4.10s\n",
      "--------------------------------------------------------------------------------\n",
      "CPU times: user 34.7 s, sys: 1.67 s, total: 36.4 s\n",
      "Wall time: 28.2 s\n"
     ]
    }
   ],
   "source": [
    "%%time\n",
    "print (\"RESULT FOR UNIGRAM WITHOUT STOP WORDS\\n\")\n",
    "feature_result_without_stop = nfeature_accuracy_checker(stop_words='english')"
   ]
  },
  {
   "cell_type": "code",
   "execution_count": 191,
   "metadata": {},
   "outputs": [
    {
     "name": "stdout",
     "output_type": "stream",
     "text": [
      "RESULT FOR UNIGRAM WITHOUT CUSTOM STOP WORDS\n",
      "\n",
      "LogisticRegression(C=1.0, class_weight=None, dual=False, fit_intercept=True,\n",
      "          intercept_scaling=1, max_iter=100, multi_class='ovr', n_jobs=1,\n",
      "          penalty='l2', random_state=None, solver='liblinear', tol=0.0001,\n",
      "          verbose=0, warm_start=False)\n",
      "\n",
      "\n",
      "Validation result for 10000 features\n",
      "null accuracy: 50.08%\n",
      "accuracy score: 79.42%\n",
      "model is 29.33% more accurate than null accuracy\n",
      "train and test time: 3.97s\n",
      "--------------------------------------------------------------------------------\n",
      "Validation result for 20000 features\n",
      "null accuracy: 50.08%\n",
      "accuracy score: 79.49%\n",
      "model is 29.41% more accurate than null accuracy\n",
      "train and test time: 4.01s\n",
      "--------------------------------------------------------------------------------\n",
      "Validation result for 30000 features\n",
      "null accuracy: 50.08%\n",
      "accuracy score: 79.55%\n",
      "model is 29.47% more accurate than null accuracy\n",
      "train and test time: 4.54s\n",
      "--------------------------------------------------------------------------------\n",
      "Validation result for 40000 features\n",
      "null accuracy: 50.08%\n",
      "accuracy score: 79.55%\n",
      "model is 29.47% more accurate than null accuracy\n",
      "train and test time: 4.73s\n",
      "--------------------------------------------------------------------------------\n",
      "Validation result for 50000 features\n",
      "null accuracy: 50.08%\n",
      "accuracy score: 79.55%\n",
      "model is 29.46% more accurate than null accuracy\n",
      "train and test time: 4.41s\n",
      "--------------------------------------------------------------------------------\n",
      "Validation result for 60000 features\n",
      "null accuracy: 50.08%\n",
      "accuracy score: 79.52%\n",
      "model is 29.44% more accurate than null accuracy\n",
      "train and test time: 5.26s\n",
      "--------------------------------------------------------------------------------\n",
      "Validation result for 70000 features\n",
      "null accuracy: 50.08%\n",
      "accuracy score: 79.55%\n",
      "model is 29.47% more accurate than null accuracy\n",
      "train and test time: 5.67s\n",
      "--------------------------------------------------------------------------------\n",
      "CPU times: user 39.1 s, sys: 2.01 s, total: 41.1 s\n",
      "Wall time: 32.7 s\n"
     ]
    }
   ],
   "source": [
    "%%time\n",
    "custom_stop_words = {'I','you','am','for','to','with','him','her','they','my','the','it','is','in','at','and'}\n",
    "print (\"RESULT FOR UNIGRAM WITHOUT CUSTOM STOP WORDS\\n\")\n",
    "feature_result_custom_stop = nfeature_accuracy_checker(stop_words=custom_stop_words)"
   ]
  },
  {
   "cell_type": "code",
   "execution_count": 192,
   "metadata": {},
   "outputs": [
    {
     "data": {
      "text/plain": [
       "<matplotlib.legend.Legend at 0x1a2b03e828>"
      ]
     },
     "execution_count": 192,
     "metadata": {},
     "output_type": "execute_result"
    },
    {
     "data": {
      "image/png": "[encoded data removed]",
      "text/plain": [
       "<Figure size 576x432 with 1 Axes>"
      ]
     },
     "metadata": {
      "needs_background": "light"
     },
     "output_type": "display_data"
    }
   ],
   "source": [
    "plt.figure(figsize=(8,6))\n",
    "plt.plot(n_features, feature_result_with_stop, label='with stop words')\n",
    "plt.plot(n_features, feature_result_custom_stop,label='without custom stop words')\n",
    "plt.plot(n_features, feature_result_without_stop,label='without stop words')\n",
    "plt.title(\"Without stop words VS With stop words (Unigram): Accuracy\")\n",
    "plt.xlabel(\"Number of features\")\n",
    "plt.ylabel(\"Validation set accuracy\")\n",
    "plt.legend()"
   ]
  },
  {
   "cell_type": "markdown",
   "metadata": {},
   "source": [
    "### N Grams"
   ]
  },
  {
   "cell_type": "code",
   "execution_count": 256,
   "metadata": {},
   "outputs": [
    {
     "name": "stdout",
     "output_type": "stream",
     "text": [
      "RESULT FOR BIGRAM WITH STOP WORDS\n",
      "\n",
      "LogisticRegression(C=1.0, class_weight=None, dual=False, fit_intercept=True,\n",
      "          intercept_scaling=1, max_iter=100, multi_class='ovr', n_jobs=1,\n",
      "          penalty='l2', random_state=None, solver='liblinear', tol=0.0001,\n",
      "          verbose=0, warm_start=False)\n",
      "\n",
      "\n",
      "Validation result for 10000 features\n",
      "null accuracy: 50.08%\n",
      "accuracy score: 81.16%\n",
      "model is 31.07% more accurate than null accuracy\n",
      "train and test time: 10.92s\n",
      "--------------------------------------------------------------------------------\n",
      "Validation result for 20000 features\n",
      "null accuracy: 50.08%\n",
      "accuracy score: 81.77%\n",
      "model is 31.69% more accurate than null accuracy\n",
      "train and test time: 9.76s\n",
      "--------------------------------------------------------------------------------\n",
      "Validation result for 30000 features\n",
      "null accuracy: 50.08%\n",
      "accuracy score: 81.83%\n",
      "model is 31.75% more accurate than null accuracy\n",
      "train and test time: 10.15s\n",
      "--------------------------------------------------------------------------------\n",
      "Validation result for 40000 features\n",
      "null accuracy: 50.08%\n",
      "accuracy score: 81.87%\n",
      "model is 31.78% more accurate than null accuracy\n",
      "train and test time: 10.27s\n",
      "--------------------------------------------------------------------------------\n",
      "Validation result for 50000 features\n",
      "null accuracy: 50.08%\n",
      "accuracy score: 81.88%\n",
      "model is 31.80% more accurate than null accuracy\n",
      "train and test time: 10.32s\n",
      "--------------------------------------------------------------------------------\n",
      "Validation result for 60000 features\n",
      "null accuracy: 50.08%\n",
      "accuracy score: 81.85%\n",
      "model is 31.76% more accurate than null accuracy\n",
      "train and test time: 10.65s\n",
      "--------------------------------------------------------------------------------\n",
      "Validation result for 70000 features\n",
      "null accuracy: 50.08%\n",
      "accuracy score: 81.84%\n",
      "model is 31.76% more accurate than null accuracy\n",
      "train and test time: 10.49s\n",
      "--------------------------------------------------------------------------------\n",
      "CPU times: user 1min 20s, sys: 3.35 s, total: 1min 24s\n",
      "Wall time: 1min 12s\n"
     ]
    }
   ],
   "source": [
    "%%time\n",
    "print (\"RESULT FOR BIGRAM WITH STOP WORDS\\n\")\n",
    "feature_result_bg = nfeature_accuracy_checker(ngram_range=(1, 2))"
   ]
  },
  {
   "cell_type": "code",
   "execution_count": 257,
   "metadata": {},
   "outputs": [
    {
     "name": "stdout",
     "output_type": "stream",
     "text": [
      "RESULT FOR TRIGRAM WITH STOP WORDS\n",
      "\n",
      "LogisticRegression(C=1.0, class_weight=None, dual=False, fit_intercept=True,\n",
      "          intercept_scaling=1, max_iter=100, multi_class='ovr', n_jobs=1,\n",
      "          penalty='l2', random_state=None, solver='liblinear', tol=0.0001,\n",
      "          verbose=0, warm_start=False)\n",
      "\n",
      "\n",
      "Validation result for 10000 features\n",
      "null accuracy: 50.08%\n",
      "accuracy score: 81.10%\n",
      "model is 31.02% more accurate than null accuracy\n",
      "train and test time: 19.28s\n",
      "--------------------------------------------------------------------------------\n",
      "Validation result for 20000 features\n",
      "null accuracy: 50.08%\n",
      "accuracy score: 81.56%\n",
      "model is 31.47% more accurate than null accuracy\n",
      "train and test time: 18.81s\n",
      "--------------------------------------------------------------------------------\n",
      "Validation result for 30000 features\n",
      "null accuracy: 50.08%\n",
      "accuracy score: 81.73%\n",
      "model is 31.65% more accurate than null accuracy\n",
      "train and test time: 19.51s\n",
      "--------------------------------------------------------------------------------\n",
      "Validation result for 40000 features\n",
      "null accuracy: 50.08%\n",
      "accuracy score: 81.83%\n",
      "model is 31.74% more accurate than null accuracy\n",
      "train and test time: 19.11s\n",
      "--------------------------------------------------------------------------------\n",
      "Validation result for 50000 features\n",
      "null accuracy: 50.08%\n",
      "accuracy score: 81.81%\n",
      "model is 31.73% more accurate than null accuracy\n",
      "train and test time: 20.12s\n",
      "--------------------------------------------------------------------------------\n",
      "Validation result for 60000 features\n",
      "null accuracy: 50.08%\n",
      "accuracy score: 81.89%\n",
      "model is 31.81% more accurate than null accuracy\n",
      "train and test time: 21.07s\n",
      "--------------------------------------------------------------------------------\n",
      "Validation result for 70000 features\n",
      "null accuracy: 50.08%\n",
      "accuracy score: 81.83%\n",
      "model is 31.74% more accurate than null accuracy\n",
      "train and test time: 19.75s\n",
      "--------------------------------------------------------------------------------\n",
      "CPU times: user 2min 24s, sys: 5.84 s, total: 2min 30s\n",
      "Wall time: 2min 17s\n"
     ]
    }
   ],
   "source": [
    "%%time\n",
    "print (\"RESULT FOR TRIGRAM WITH STOP WORDS\\n\")\n",
    "feature_result_tg = nfeature_accuracy_checker(ngram_range=(1, 3))"
   ]
  },
  {
   "cell_type": "code",
   "execution_count": 258,
   "metadata": {},
   "outputs": [
    {
     "data": {
      "text/plain": [
       "<matplotlib.legend.Legend at 0x1a29707518>"
      ]
     },
     "execution_count": 258,
     "metadata": {},
     "output_type": "execute_result"
    },
    {
     "data": {
      "image/png": "[encoded data removed]",
      "text/plain": [
       "<Figure size 576x432 with 1 Axes>"
      ]
     },
     "metadata": {
      "needs_background": "light"
     },
     "output_type": "display_data"
    }
   ],
   "source": [
    "plt.figure(figsize=(8,6))\n",
    "plt.plot(n_features, feature_result_tg,label='trigram')\n",
    "plt.plot(n_features, feature_result_bg,label='bigram')\n",
    "plt.plot(n_features, feature_result_without_stop, label='unigram')\n",
    "plt.title(\"N-gram(1~3) test result : Accuracy\")\n",
    "plt.xlabel(\"Number of features\")\n",
    "plt.ylabel(\"Validation set accuracy\")\n",
    "plt.legend()"
   ]
  },
  {
   "cell_type": "code",
   "execution_count": 196,
   "metadata": {},
   "outputs": [],
   "source": [
    "def train_test_and_evaluate(pipeline, x_train, y_train, x_test, y_test):\n",
    "    \"\"\"Helper function to train and validate some model\"\"\"\n",
    "    if len(x_test[y_test == 0]) / (len(x_test)*1.) > 0.5:\n",
    "        null_accuracy = len(x_test[y_test == 0]) / (len(x_test)*1.)\n",
    "    else:\n",
    "        null_accuracy = 1. - (len(x_test[y_test == 0]) / (len(x_test)*1.))\n",
    "    sentiment_fit = pipeline.fit(x_train, y_train)\n",
    "    y_pred = sentiment_fit.predict(x_test)\n",
    "    accuracy = accuracy_score(y_test, y_pred)\n",
    "    conmat = np.array(confusion_matrix(y_test, y_pred, labels=[0,1]))\n",
    "    confusion = pd.DataFrame(conmat, index=['negative', 'positive'],\n",
    "                         columns=['predicted_negative','predicted_positive'])\n",
    "    print (\"null accuracy: {0:.2f}%\".format(null_accuracy*100))\n",
    "    print (\"accuracy score: {0:.2f}%\".format(accuracy*100))\n",
    "    if accuracy > null_accuracy:\n",
    "        print (\"model is {0:.2f}% more accurate than null accuracy\".format((accuracy-null_accuracy)*100))\n",
    "    elif accuracy == null_accuracy:\n",
    "        print (\"model has the same accuracy with the null accuracy\")\n",
    "    else:\n",
    "        print (\"model is {0:.2f}% less accurate than null accuracy\".format((null_accuracy-accuracy)*100))\n",
    "    print (\"-\"*80)\n",
    "    print (\"Confusion Matrix\\n\")\n",
    "    print( confusion)\n",
    "    print (\"-\"*80)\n",
    "    print( \"Classification Report\\n\")\n",
    "    print( classification_report(y_test, y_pred, target_names=['negative','positive']))"
   ]
  },
  {
   "cell_type": "code",
   "execution_count": 41,
   "metadata": {},
   "outputs": [
    {
     "name": "stderr",
     "output_type": "stream",
     "text": [
      "UsageError: Line magic function `%%time` not found.\n"
     ]
    }
   ],
   "source": [
    "# test our best performing model\n",
    "%%time\n",
    "vectorizer = CountVectorizer(max_features=70000,ngram_range=(1, 3))\n",
    "tfidf_transformer = TfidfTransformer()\n",
    "classifier = LogisticRegression()\n",
    "\n",
    "bg_pipeline = Pipeline([\n",
    "            ('vectorizer', vectorizer),\n",
    "            ('transformer', tfidf_transformer),\n",
    "            ('classifier', classifier)\n",
    "        ])\n",
    "    \n",
    "train_test_and_evaluate(bg_pipeline, x_train, y_train, x_validation, y_validation)"
   ]
  },
  {
   "cell_type": "markdown",
   "metadata": {},
   "source": [
    "## Test submission"
   ]
  },
  {
   "cell_type": "code",
   "execution_count": 24,
   "metadata": {},
   "outputs": [
    {
     "data": {
      "text/html": [
       "<div>\n",
       "<style scoped>\n",
       "    .dataframe tbody tr th:only-of-type {\n",
       "        vertical-align: middle;\n",
       "    }\n",
       "\n",
       "    .dataframe tbody tr th {\n",
       "        vertical-align: top;\n",
       "    }\n",
       "\n",
       "    .dataframe thead th {\n",
       "        text-align: right;\n",
       "    }\n",
       "</style>\n",
       "<table border=\"1\" class=\"dataframe\">\n",
       "  <thead>\n",
       "    <tr style=\"text-align: right;\">\n",
       "      <th></th>\n",
       "      <th>tweet</th>\n",
       "    </tr>\n",
       "  </thead>\n",
       "  <tbody>\n",
       "    <tr>\n",
       "      <th>1</th>\n",
       "      <td>sea doo pro sea scooter ( sports with the port...</td>\n",
       "    </tr>\n",
       "    <tr>\n",
       "      <th>2</th>\n",
       "      <td>&lt;user&gt; shucks well i work all week so now i ca...</td>\n",
       "    </tr>\n",
       "    <tr>\n",
       "      <th>3</th>\n",
       "      <td>i cant stay away from bug thats my baby</td>\n",
       "    </tr>\n",
       "    <tr>\n",
       "      <th>4</th>\n",
       "      <td>&lt;user&gt; no ma'am ! ! ! lol im perfectly fine an...</td>\n",
       "    </tr>\n",
       "    <tr>\n",
       "      <th>5</th>\n",
       "      <td>whenever i fall asleep watching the tv , i alw...</td>\n",
       "    </tr>\n",
       "    <tr>\n",
       "      <th>...</th>\n",
       "      <td>...</td>\n",
       "    </tr>\n",
       "    <tr>\n",
       "      <th>9996</th>\n",
       "      <td>had a nice time w / my friend lastnite</td>\n",
       "    </tr>\n",
       "    <tr>\n",
       "      <th>9997</th>\n",
       "      <td>&lt;user&gt; no it's not ! please stop !</td>\n",
       "    </tr>\n",
       "    <tr>\n",
       "      <th>9998</th>\n",
       "      <td>not without my daughter ( dvd two-time oscar (...</td>\n",
       "    </tr>\n",
       "    <tr>\n",
       "      <th>9999</th>\n",
       "      <td>&lt;user&gt; have fun in class sweetcheeks</td>\n",
       "    </tr>\n",
       "    <tr>\n",
       "      <th>10000</th>\n",
       "      <td>making a r . e . a . l . difference . ( get r ...</td>\n",
       "    </tr>\n",
       "  </tbody>\n",
       "</table>\n",
       "<p>10000 rows × 1 columns</p>\n",
       "</div>"
      ],
      "text/plain": [
       "                                                   tweet\n",
       "1      sea doo pro sea scooter ( sports with the port...\n",
       "2      <user> shucks well i work all week so now i ca...\n",
       "3                i cant stay away from bug thats my baby\n",
       "4      <user> no ma'am ! ! ! lol im perfectly fine an...\n",
       "5      whenever i fall asleep watching the tv , i alw...\n",
       "...                                                  ...\n",
       "9996              had a nice time w / my friend lastnite\n",
       "9997                  <user> no it's not ! please stop !\n",
       "9998   not without my daughter ( dvd two-time oscar (...\n",
       "9999                <user> have fun in class sweetcheeks\n",
       "10000  making a r . e . a . l . difference . ( get r ...\n",
       "\n",
       "[10000 rows x 1 columns]"
      ]
     },
     "execution_count": 24,
     "metadata": {},
     "output_type": "execute_result"
    }
   ],
   "source": [
    "with open('data/test_data.txt',\"r\") as file:\n",
    "    df_unknown = file.read().split('\\n')\n",
    "df_unknown = pd.DataFrame({'tweet' : df_unknown})[:len(df_unknown)-1]\n",
    "df_unknown.index += 1 \n",
    "df_unknown['tweet'] = df_unknown['tweet'].apply(lambda x : str(x).split(',', maxsplit=1)[1])\n",
    "df_unknown"
   ]
  },
  {
   "cell_type": "code",
   "execution_count": 25,
   "metadata": {},
   "outputs": [],
   "source": [
    "df_unknown['tweet'] = df_unknown['tweet'].apply(tweet_cleaner)"
   ]
  },
  {
   "cell_type": "code",
   "execution_count": 26,
   "metadata": {},
   "outputs": [],
   "source": [
    "vectorizer = CountVectorizer(max_features=70000,ngram_range=(1, 3))\n",
    "tfidf_transformer = TfidfTransformer()\n",
    "\n",
    "vectorizer.fit(x_train)\n",
    "x_train_counts = vectorizer.transform(x_train)\n",
    "x_train_tfidf = tfidf_transformer.fit_transform(x_train_counts)\n",
    "\n",
    "clf = LogisticRegression().fit(x_train_tfidf, y_train)\n",
    "\n",
    "X_to_predict = df_unknown['tweet']\n",
    "X_to_predict = vectorizer.transform(X_to_predict)\n",
    "X_to_predict = tfidf_transformer.transform(X_to_predict)\n",
    "\n",
    "df_unknown = clf.predict(X_to_predict)\n",
    "df_unknown[df_unknown == 0] = -1 #replace 0 to -1"
   ]
  },
  {
   "cell_type": "code",
   "execution_count": 27,
   "metadata": {},
   "outputs": [],
   "source": [
    "create_csv_submission([x for x in range(1,len(df_unknown)+1)],df_unknown,\"output_kiss.csv\")"
   ]
  },
  {
   "cell_type": "code",
   "execution_count": null,
   "metadata": {},
   "outputs": [],
   "source": []
  }
 ],
 "metadata": {
  "colab": {
   "include_colab_link": true,
   "name": "basic_visualization.ipynb",
   "provenance": []
  },
  "kernelspec": {
   "display_name": "Python 3",
   "language": "python",
   "name": "python3"
  },
  "language_info": {
   "codemirror_mode": {
    "name": "ipython",
    "version": 3
   },
   "file_extension": ".py",
   "mimetype": "text/x-python",
   "name": "python",
   "nbconvert_exporter": "python",
   "pygments_lexer": "ipython3",
   "version": "3.7.0"
  },
  "toc": {
   "base_numbering": 1,
   "nav_menu": {},
   "number_sections": false,
   "sideBar": true,
   "skip_h1_title": false,
   "title_cell": "Table of Contents",
   "title_sidebar": "Contents",
   "toc_cell": true,
   "toc_position": {},
   "toc_section_display": true,
   "toc_window_display": false
  }
 },
 "nbformat": 4,
 "nbformat_minor": 1
}

{
 "cells": [
  {
   "cell_type": "markdown",
   "metadata": {
    "colab_type": "text",
    "id": "view-in-github"
   },
   "source": [
    "<a href=\"https://colab.research.google.com/github/zeineb12/text_classification/blob/master/basic_visualization.ipynb\" target=\"_parent\"><img src=\"https://colab.research.google.com/assets/colab-badge.svg\" alt=\"Open In Colab\"/></a>"
   ]
  },
  {
   "cell_type": "markdown",
   "metadata": {
    "colab_type": "text",
    "id": "q-lciViJCvOx",
    "toc": true
   },
   "source": [
    "<h1>Table of Contents<span class=\"tocSkip\"></span></h1>\n",
    "<div class=\"toc\"><ul class=\"toc-item\"><li><span><a href=\"#Relevant-imports\" data-toc-modified-id=\"Relevant-imports-1\">Relevant imports</a></span></li><li><span><a href=\"#Dataset-shape\" data-toc-modified-id=\"Dataset-shape-2\">Dataset shape</a></span><ul class=\"toc-item\"><li><span><a href=\"#Drop-duplicates\" data-toc-modified-id=\"Drop-duplicates-2.1\">Drop duplicates</a></span></li></ul></li><li><span><a href=\"#Tweets-length\" data-toc-modified-id=\"Tweets-length-3\">Tweets length</a></span></li><li><span><a href=\"#Data-concatenation\" data-toc-modified-id=\"Data-concatenation-4\">Data concatenation</a></span></li><li><span><a href=\"#Data-Cleaning\" data-toc-modified-id=\"Data-Cleaning-5\">Data Cleaning</a></span></li><li><span><a href=\"#Word-cloud-TODO\" data-toc-modified-id=\"Word-cloud-TODO-6\">Word cloud TODO</a></span></li><li><span><a href=\"#Split-train/validation/test\" data-toc-modified-id=\"Split-train/validation/test-7\">Split train/validation/test</a></span></li><li><span><a href=\"#Baseline\" data-toc-modified-id=\"Baseline-8\">Baseline</a></span><ul class=\"toc-item\"><li><span><a href=\"#Naive-Bayes-using-CountVectorizer\" data-toc-modified-id=\"Naive-Bayes-using-CountVectorizer-8.1\">Naive Bayes using CountVectorizer</a></span></li><li><span><a href=\"#Naive-Bayes-using-TfidfTransformer\" data-toc-modified-id=\"Naive-Bayes-using-TfidfTransformer-8.2\">Naive Bayes using TfidfTransformer</a></span></li><li><span><a href=\"#Logistic-Regression-using-TfidfTransformer\" data-toc-modified-id=\"Logistic-Regression-using-TfidfTransformer-8.3\">Logistic Regression using TfidfTransformer</a></span></li></ul></li><li><span><a href=\"#Feature-engineering-choices-(can-later-on-test-on-NN-model)\" data-toc-modified-id=\"Feature-engineering-choices-(can-later-on-test-on-NN-model)-9\">Feature engineering choices (can later on test on NN model)</a></span><ul class=\"toc-item\"><li><span><a href=\"#Stop-words-(TODO:-improve-custom-list)\" data-toc-modified-id=\"Stop-words-(TODO:-improve-custom-list)-9.1\">Stop words (TODO: improve custom list)</a></span></li><li><span><a href=\"#N-Grams\" data-toc-modified-id=\"N-Grams-9.2\">N Grams</a></span></li></ul></li><li><span><a href=\"#Test-submission\" data-toc-modified-id=\"Test-submission-10\">Test submission</a></span></li></ul></div>"
   ]
  },
  {
   "cell_type": "markdown",
   "metadata": {
    "colab_type": "text",
    "id": "gf0JWLnpCvO0"
   },
   "source": [
    "## Relevant imports"
   ]
  },
  {
   "cell_type": "code",
   "execution_count": 21,
   "metadata": {
    "colab": {
     "base_uri": "https://localhost:8080/",
     "height": 334
    },
    "colab_type": "code",
    "id": "9fV6HAgzCvO2",
    "outputId": "e2a79732-66a0-4ca6-d26d-ca28f2d01883"
   },
   "outputs": [],
   "source": [
    "import pandas as pd\n",
    "import matplotlib.pyplot as plt\n",
    "from nltk.tokenize import WordPunctTokenizer\n",
    "import matplotlib as plt\n",
    "from sklearn.feature_extraction.text import CountVectorizer\n",
    "from sklearn.model_selection import train_test_split\n",
    "import re\n",
    "from sklearn.model_selection import validation_curve\n",
    "import numpy as np\n",
    "from sklearn.feature_extraction.text import TfidfTransformer\n",
    "from sklearn import metrics\n",
    "from sklearn.model_selection import StratifiedKFold\n",
    "from sklearn.naive_bayes import MultinomialNB\n",
    "#from textblob import TextBlob\n",
    "from sklearn.metrics import accuracy_score\n",
    "from sklearn.metrics import classification_report, confusion_matrix\n",
    "from wordcloud import WordCloud\n",
    "from utils import open_by_tweets\n",
    "from nltk.stem import WordNetLemmatizer \n",
    "from sklearn.linear_model import LogisticRegression\n",
    "from sklearn.pipeline import Pipeline\n",
    "from time import time\n",
    "from utils import create_csv_submission\n",
    "import warnings\n",
    "warnings.filterwarnings('ignore')\n",
    "SEED = 15432"
   ]
  },
  {
   "cell_type": "markdown",
   "metadata": {
    "colab_type": "text",
    "id": "gJxa1llRCvPA"
   },
   "source": [
    "## Dataset shape"
   ]
  },
  {
   "cell_type": "code",
   "execution_count": 2,
   "metadata": {
    "colab": {
     "base_uri": "https://localhost:8080/",
     "height": 215
    },
    "colab_type": "code",
    "id": "5_syb7WOCvPC",
    "outputId": "60c7035e-9016-48fc-c2e8-2027de0477e2"
   },
   "outputs": [],
   "source": [
    "with open('data/train_pos.txt',\"r\") as file:\n",
    "    train_pos = file.read().split('\\n')\n",
    "train_pos = pd.DataFrame({'tweet' : train_pos})[:len(train_pos)-1]\n",
    "\n",
    "with open('data/train_neg.txt',\"r\") as file:\n",
    "    train_neg = file.read().split('\\n')\n",
    "train_neg = pd.DataFrame({'tweet' : train_neg})[:len(train_neg)-1]"
   ]
  },
  {
   "cell_type": "markdown",
   "metadata": {},
   "source": [
    "### Drop duplicates\n",
    "Let's drop duplicates from our dataset"
   ]
  },
  {
   "cell_type": "code",
   "execution_count": 3,
   "metadata": {},
   "outputs": [],
   "source": [
    "train_neg.drop_duplicates(inplace=True)\n",
    "train_pos.drop_duplicates(inplace=True)"
   ]
  },
  {
   "cell_type": "code",
   "execution_count": 4,
   "metadata": {
    "colab": {},
    "colab_type": "code",
    "id": "ZK0AeEvNCvPG"
   },
   "outputs": [
    {
     "data": {
      "image/png": "[encoded data removed]",
      "text/plain": [
       "<Figure size 432x288 with 1 Axes>"
      ]
     },
     "metadata": {},
     "output_type": "display_data"
    }
   ],
   "source": [
    "# Data to plot\n",
    "labels = 'positive tweets', 'negative tweets'\n",
    "sizes = [len(train_pos), len(train_neg)]\n",
    "colors = ['lightskyblue','lightcoral']\n",
    "explode = (0.1, 0)  # explode 1st slice\n",
    "\n",
    "# Plot\n",
    "plt.pie(sizes, explode=explode, labels=labels, colors=colors,\n",
    "autopct='%1.1f%%', shadow=True, startangle=140)\n",
    "\n",
    "plt.axis('equal')\n",
    "plt.show()"
   ]
  },
  {
   "cell_type": "markdown",
   "metadata": {
    "colab_type": "text",
    "id": "21AxeD0hCvPN"
   },
   "source": [
    "We see that the dataset is balanced"
   ]
  },
  {
   "cell_type": "markdown",
   "metadata": {},
   "source": [
    "## Tweets length\n",
    "* We add a column containing the tweet length for each tweet (in number of characters)"
   ]
  },
  {
   "cell_type": "code",
   "execution_count": 5,
   "metadata": {},
   "outputs": [],
   "source": [
    "train_neg['tweet_len'] = [len(t) for t in train_neg.tweet]\n",
    "train_pos['tweet_len'] = [len(t) for t in train_pos.tweet]"
   ]
  },
  {
   "cell_type": "code",
   "execution_count": 33,
   "metadata": {
    "scrolled": true
   },
   "outputs": [
    {
     "data": {
      "text/html": [
       "<div>\n",
       "<style scoped>\n",
       "    .dataframe tbody tr th:only-of-type {\n",
       "        vertical-align: middle;\n",
       "    }\n",
       "\n",
       "    .dataframe tbody tr th {\n",
       "        vertical-align: top;\n",
       "    }\n",
       "\n",
       "    .dataframe thead th {\n",
       "        text-align: right;\n",
       "    }\n",
       "</style>\n",
       "<table border=\"1\" class=\"dataframe\">\n",
       "  <thead>\n",
       "    <tr style=\"text-align: right;\">\n",
       "      <th></th>\n",
       "      <th>tweet</th>\n",
       "      <th>tweet_len</th>\n",
       "    </tr>\n",
       "  </thead>\n",
       "  <tbody>\n",
       "    <tr>\n",
       "      <th>88870</th>\n",
       "      <td>lool rt &lt;user&gt; i was actually puzzled for bout...</td>\n",
       "      <td>225</td>\n",
       "    </tr>\n",
       "    <tr>\n",
       "      <th>86946</th>\n",
       "      <td>\" &lt;user&gt; picnik is gone in two more days \\ 355...</td>\n",
       "      <td>186</td>\n",
       "    </tr>\n",
       "    <tr>\n",
       "      <th>23211</th>\n",
       "      <td>et12041706302 ; 0 ; wt ; 8: 00am - eat , 04/17...</td>\n",
       "      <td>175</td>\n",
       "    </tr>\n",
       "    <tr>\n",
       "      <th>37918</th>\n",
       "      <td>slide to the left \\ ( ' . ' \\ ) slide to the r...</td>\n",
       "      <td>166</td>\n",
       "    </tr>\n",
       "    <tr>\n",
       "      <th>1437</th>\n",
       "      <td>* in class * me out loud ) i gt 2 piss , teach...</td>\n",
       "      <td>158</td>\n",
       "    </tr>\n",
       "    <tr>\n",
       "      <th>...</th>\n",
       "      <td>...</td>\n",
       "      <td>...</td>\n",
       "    </tr>\n",
       "    <tr>\n",
       "      <th>27355</th>\n",
       "      <td>only me</td>\n",
       "      <td>7</td>\n",
       "    </tr>\n",
       "    <tr>\n",
       "      <th>72216</th>\n",
       "      <td>find it</td>\n",
       "      <td>7</td>\n",
       "    </tr>\n",
       "    <tr>\n",
       "      <th>5560</th>\n",
       "      <td>enough</td>\n",
       "      <td>6</td>\n",
       "    </tr>\n",
       "    <tr>\n",
       "      <th>26861</th>\n",
       "      <td>please</td>\n",
       "      <td>6</td>\n",
       "    </tr>\n",
       "    <tr>\n",
       "      <th>5844</th>\n",
       "      <td>, ugh</td>\n",
       "      <td>5</td>\n",
       "    </tr>\n",
       "  </tbody>\n",
       "</table>\n",
       "<p>91088 rows × 2 columns</p>\n",
       "</div>"
      ],
      "text/plain": [
       "                                                   tweet  tweet_len\n",
       "88870  lool rt <user> i was actually puzzled for bout...        225\n",
       "86946  \" <user> picnik is gone in two more days \\ 355...        186\n",
       "23211  et12041706302 ; 0 ; wt ; 8: 00am - eat , 04/17...        175\n",
       "37918  slide to the left \\ ( ' . ' \\ ) slide to the r...        166\n",
       "1437   * in class * me out loud ) i gt 2 piss , teach...        158\n",
       "...                                                  ...        ...\n",
       "27355                                            only me          7\n",
       "72216                                            find it          7\n",
       "5560                                              enough          6\n",
       "26861                                             please          6\n",
       "5844                                               , ugh          5\n",
       "\n",
       "[91088 rows x 2 columns]"
      ]
     },
     "execution_count": 33,
     "metadata": {},
     "output_type": "execute_result"
    }
   ],
   "source": [
    "train_neg.sort_values(by=['tweet_len'], ascending=False)"
   ]
  },
  {
   "cell_type": "code",
   "execution_count": 6,
   "metadata": {},
   "outputs": [
    {
     "data": {
      "image/png": "[encoded data removed]",
      "text/plain": [
       "<Figure size 432x288 with 2 Axes>"
      ]
     },
     "metadata": {
      "needs_background": "light"
     },
     "output_type": "display_data"
    }
   ],
   "source": [
    "fig, axs = plt.subplots(nrows=1, ncols=2, sharex=True)\n",
    "\n",
    "ax = axs[0]\n",
    "ax.boxplot(train_neg.tweet_len, whis=0.7)\n",
    "ax.set_title('negative tweets')\n",
    "\n",
    "ax = axs[1]\n",
    "ax.boxplot(train_pos.tweet_len, whis=1.5)\n",
    "ax.set_title('positive tweets')\n",
    "\n",
    "fig.suptitle('Length in number of characters of tweets')\n",
    "plt.show()"
   ]
  },
  {
   "cell_type": "markdown",
   "metadata": {},
   "source": [
    "* We see that positive tweets tend to be shorter than negative tweets (mean and std are both smaller)\n",
    "\n",
    "* However, something that's a bit strange, some of the tweets are way more than 140 characters long. But twitter’s character limit is 140."
   ]
  },
  {
   "cell_type": "code",
   "execution_count": 8,
   "metadata": {},
   "outputs": [
    {
     "data": {
      "text/html": [
       "<div>\n",
       "<style scoped>\n",
       "    .dataframe tbody tr th:only-of-type {\n",
       "        vertical-align: middle;\n",
       "    }\n",
       "\n",
       "    .dataframe tbody tr th {\n",
       "        vertical-align: top;\n",
       "    }\n",
       "\n",
       "    .dataframe thead th {\n",
       "        text-align: right;\n",
       "    }\n",
       "</style>\n",
       "<table border=\"1\" class=\"dataframe\">\n",
       "  <thead>\n",
       "    <tr style=\"text-align: right;\">\n",
       "      <th></th>\n",
       "      <th>tweet</th>\n",
       "      <th>tweet_len</th>\n",
       "    </tr>\n",
       "  </thead>\n",
       "  <tbody>\n",
       "    <tr>\n",
       "      <th>19278</th>\n",
       "      <td>\" &lt;user&gt; have so much fun at prom &lt;user&gt; \\ 355...</td>\n",
       "      <td>217</td>\n",
       "    </tr>\n",
       "  </tbody>\n",
       "</table>\n",
       "</div>"
      ],
      "text/plain": [
       "                                                   tweet  tweet_len\n",
       "19278  \" <user> have so much fun at prom <user> \\ 355...        217"
      ]
     },
     "execution_count": 8,
     "metadata": {},
     "output_type": "execute_result"
    }
   ],
   "source": [
    "train_pos[train_pos.tweet_len > 200].head(4)"
   ]
  },
  {
   "cell_type": "code",
   "execution_count": 9,
   "metadata": {},
   "outputs": [
    {
     "data": {
      "text/plain": [
       "'\" <user> have so much fun at prom <user> \\\\ 355 \\\\ 240 \\\\ 275 \\\\ 355 \\\\ 262 \\\\ 227 \\\\ 355 \\\\ 240 \\\\ 275 \\\\ 355 \\\\ 262 \\\\ 221 \\\\ 355 \\\\ 240 \\\\ 275 \\\\ 355 \\\\ 262 \\\\ 217 \\\\ 355 \\\\ 240 \\\\ 275 \\\\ 355 \\\\ 262 \\\\ 213 \" yayyy shanny ! ! ! #dodaadirty'"
      ]
     },
     "execution_count": 9,
     "metadata": {},
     "output_type": "execute_result"
    }
   ],
   "source": [
    "train_pos.loc[19278].tweet"
   ]
  },
  {
   "cell_type": "markdown",
   "metadata": {},
   "source": [
    "Maybe these numbers used to stand for emojis and when the html text was processed they becaùe like these"
   ]
  },
  {
   "cell_type": "code",
   "execution_count": 10,
   "metadata": {},
   "outputs": [
    {
     "data": {
      "text/plain": [
       "'\" <user> have so much fun at prom <user> \" yayyy shanny ! ! ! #dodaadirty'"
      ]
     },
     "execution_count": 10,
     "metadata": {},
     "output_type": "execute_result"
    }
   ],
   "source": [
    "re.sub(r'\\\\ [0-9]+ ','',train_pos.loc[19278].tweet)"
   ]
  },
  {
   "cell_type": "markdown",
   "metadata": {},
   "source": [
    "## Data concatenation"
   ]
  },
  {
   "cell_type": "code",
   "execution_count": 11,
   "metadata": {},
   "outputs": [
    {
     "data": {
      "text/html": [
       "<div>\n",
       "<style scoped>\n",
       "    .dataframe tbody tr th:only-of-type {\n",
       "        vertical-align: middle;\n",
       "    }\n",
       "\n",
       "    .dataframe tbody tr th {\n",
       "        vertical-align: top;\n",
       "    }\n",
       "\n",
       "    .dataframe thead th {\n",
       "        text-align: right;\n",
       "    }\n",
       "</style>\n",
       "<table border=\"1\" class=\"dataframe\">\n",
       "  <thead>\n",
       "    <tr style=\"text-align: right;\">\n",
       "      <th></th>\n",
       "      <th>tweet</th>\n",
       "      <th>tweet_len</th>\n",
       "      <th>label</th>\n",
       "    </tr>\n",
       "  </thead>\n",
       "  <tbody>\n",
       "    <tr>\n",
       "      <th>0</th>\n",
       "      <td>&lt;user&gt; i dunno justin read my mention or not ....</td>\n",
       "      <td>127</td>\n",
       "      <td>1</td>\n",
       "    </tr>\n",
       "    <tr>\n",
       "      <th>1</th>\n",
       "      <td>because your logic is so dumb , i won't even c...</td>\n",
       "      <td>91</td>\n",
       "      <td>1</td>\n",
       "    </tr>\n",
       "    <tr>\n",
       "      <th>2</th>\n",
       "      <td>\" &lt;user&gt; just put casper in a box ! \" looved t...</td>\n",
       "      <td>69</td>\n",
       "      <td>1</td>\n",
       "    </tr>\n",
       "    <tr>\n",
       "      <th>3</th>\n",
       "      <td>&lt;user&gt; &lt;user&gt; thanks sir &gt; &gt; don't trip lil ma...</td>\n",
       "      <td>78</td>\n",
       "      <td>1</td>\n",
       "    </tr>\n",
       "    <tr>\n",
       "      <th>4</th>\n",
       "      <td>visiting my brother tmr is the bestest birthda...</td>\n",
       "      <td>66</td>\n",
       "      <td>1</td>\n",
       "    </tr>\n",
       "    <tr>\n",
       "      <th>5</th>\n",
       "      <td>&lt;user&gt; yay ! ! #lifecompleted . tweet / facebo...</td>\n",
       "      <td>73</td>\n",
       "      <td>1</td>\n",
       "    </tr>\n",
       "  </tbody>\n",
       "</table>\n",
       "</div>"
      ],
      "text/plain": [
       "                                               tweet  tweet_len  label\n",
       "0  <user> i dunno justin read my mention or not ....        127      1\n",
       "1  because your logic is so dumb , i won't even c...         91      1\n",
       "2  \" <user> just put casper in a box ! \" looved t...         69      1\n",
       "3  <user> <user> thanks sir > > don't trip lil ma...         78      1\n",
       "4  visiting my brother tmr is the bestest birthda...         66      1\n",
       "5  <user> yay ! ! #lifecompleted . tweet / facebo...         73      1"
      ]
     },
     "execution_count": 11,
     "metadata": {},
     "output_type": "execute_result"
    }
   ],
   "source": [
    "train_pos['label'] = 1\n",
    "train_neg['label'] = 0\n",
    "train_set = train_pos.append(train_neg)\n",
    "train_set.head(6)"
   ]
  },
  {
   "cell_type": "markdown",
   "metadata": {},
   "source": [
    "## Data Cleaning"
   ]
  },
  {
   "cell_type": "code",
   "execution_count": 12,
   "metadata": {},
   "outputs": [],
   "source": [
    "#train_set[train_set['tweet'].str.contains('</3')]#.loc[70514].tweet"
   ]
  },
  {
   "cell_type": "code",
   "execution_count": 13,
   "metadata": {},
   "outputs": [],
   "source": [
    "def replace_exclamations(x):\n",
    "    \"\"\" Replaces multiple exclamation marks by the word exclamationMark \"\"\"\n",
    "    x = re.sub('(\\! )+(?=(\\!))', '', x)\n",
    "    x = re.sub(r\"(\\!)+\", ' exclamationMark ', x)\n",
    "    return x\n",
    "\n",
    "\n",
    "def replace_questions(x):\n",
    "    \"\"\" Replaces multiple question marks by the word questionMark \"\"\"\n",
    "    x = re.sub('(\\? )+(?=(\\?))', '', x)\n",
    "    x = re.sub(r\"(\\?)+\", ' questionMark ', x)\n",
    "    return x\n",
    "\n",
    "def tokenization(text):\n",
    "    text = re.split('\\W+', text)\n",
    "    return text\n",
    "\n",
    "def lemmatizer(l,text):\n",
    "    text = [l.lemmatize(word) for word in text]\n",
    "    return text\n",
    "\n",
    "def join_tokens(tokens):\n",
    "    text = ' '.join(tokens)\n",
    "    return text\n",
    "\n",
    "def replace_points(x):\n",
    "    \"\"\" Replaces multiple points by the word multiplePoints \"\"\"\n",
    "    x = re.sub('(\\. )+(?=(\\.))', '', x)\n",
    "    x = re.sub(r\"(\\.)+\", ' multistop ', x)\n",
    "    return x\n",
    "\n",
    "def translate_emojis(x):\n",
    "    \"\"\" Replace emojis into meaningful words \"\"\"\n",
    "    x = re.sub(' [:,=]( )*[\\),\\],},D] ', ' happy ', x) #:) :D :} :]\n",
    "    x = re.sub(' [:,=]( )*[\\(,\\[,{,] ', ' sad ', x) #:( :{ :[\n",
    "    x = re.sub(' X( )*D ', ' funny ', x) #XD\n",
    "    x = re.sub(' [:,=]( )*p ', ' silly ', x) #:p\n",
    "    x = re.sub(' [:,=]( )*-( )*p ', ' silly ', x) #:-p\n",
    "    x = re.sub(' \\[( )*[:,=] ', ' happy ', x) #[:\n",
    "    x = re.sub(' [:,=]( )*[o,0] ', ' surprise ', x) #:o :O\n",
    "    x = re.sub(' [x,X]+ ', ' kiss ', x) #xXxX\n",
    "    x = re.sub(' [:,=]( )*\\* ', ' kiss ', x) #:*\n",
    "    x = re.sub(' [:,=]( )*-( )*[D,\\)] ', ' happy ', x) #:-D :-)\n",
    "    x = re.sub(' [:,=]( )*/ ', ' confused ', x) #:/\n",
    "    x = re.sub(' <( )*3 ', ' love ', x) #<3\n",
    "    x = re.sub(' <( )*/( )*3 ', ' sad ', x) #</3\n",
    "    x = re.sub(' [:,=]( )*@ ', ' mad ', x) #:@\n",
    "    x = re.sub(' [:,=]( )*\\'( )*\\( ', ' sad ', x) #:'(\n",
    "    x = re.sub(' [:,=]( )*\\'( )*[\\),D] ', ' happy ', x) #:') :'D\n",
    "    x = re.sub('([h,j][a,e,i,o]){2,}', 'haha', x) #hahaha\n",
    "    return x\n",
    "\n",
    "def split_negation(text):\n",
    "    #TODO augment this list with words\n",
    "    negations_dict = {\"isn't\":\"is not\", \"aren't\":\"are not\", \"wasn't\":\"was not\", \"weren't\":\"were not\",\n",
    "                    \"haven't\":\"have not\",\"hasn't\":\"has not\",\"hadn't\":\"had not\",\"won't\":\"will not\",\n",
    "                    \"wouldn't\":\"would not\", \"don't\":\"do not\", \"doesn't\":\"does not\",\"didn't\":\"did not\",\n",
    "                    \"can't\":\"can not\",\"couldn't\":\"could not\",\"shouldn't\":\"should not\",\"mightn't\":\"might not\",\n",
    "                    \"mustn't\":\"must not\"}\n",
    "    neg_pattern = re.compile(r'\\b(' + '|'.join(negations_dict.keys()) + r')\\b')\n",
    "    text = neg_pattern.sub(lambda x: negations_dict[x.group()], text)\n",
    "    return text"
   ]
  },
  {
   "cell_type": "code",
   "execution_count": 14,
   "metadata": {},
   "outputs": [],
   "source": [
    "def tweet_cleaner(tweet):\n",
    "    #seperate negative words\n",
    "    tweet = split_negation(tweet)\n",
    "    #seperate punctuation from words\n",
    "    tweet = re.sub(r\"([\\w/'+$\\s-]+|[^\\w/'+$\\s-]+)\\s*\", r\"\\1 \", tweet)\n",
    "    #remove the observed pattern of numbers seen above\n",
    "    tweet = re.sub(r'\\\\ [0-9]+ ', '', tweet)\n",
    "    #replace ?,!,. by words\n",
    "    tweet = replace_exclamations(tweet)\n",
    "    tweet = replace_questions(tweet)\n",
    "    tweet = replace_points(tweet)\n",
    "    #translate emojis\n",
    "    tweet = translate_emojis(tweet)\n",
    "    \n",
    "    #Now since we translated punctuation and emojis and negative words we can remove the rest of the 'unwanted' chars\n",
    "    #remove unwanted punctuation\n",
    "    tweet = re.sub(\"[^a-zA-Z]\", \" \", tweet)\n",
    "    \n",
    "    #remove trailing and leading whitespace\n",
    "    tweet = tweet.strip() \n",
    "    #remove multiple consecutive whitespaces\n",
    "    tweet = re.sub(' +', ' ',tweet)\n",
    "    #lowercase tweet\n",
    "    tweet = tweet.lower() \n",
    "    \n",
    "    #correct spelling : deals with goooood -> good\n",
    "    #b = TextBlob(tweet)\n",
    "    #tweet = str(b.correct())\n",
    "    \n",
    "    #Lemmatization\n",
    "    l = WordNetLemmatizer() \n",
    "    tweet = tokenization(tweet)\n",
    "    tweet = join_tokens(lemmatizer(l,tweet))\n",
    "    return tweet"
   ]
  },
  {
   "cell_type": "code",
   "execution_count": 15,
   "metadata": {},
   "outputs": [],
   "source": [
    "train_set['tweet'] = train_set['tweet'].apply(tweet_cleaner)"
   ]
  },
  {
   "cell_type": "code",
   "execution_count": 16,
   "metadata": {},
   "outputs": [],
   "source": [
    "train_set.to_pickle(\"./data/tweets.pkl\")"
   ]
  },
  {
   "cell_type": "markdown",
   "metadata": {},
   "source": [
    "## Word cloud TODO"
   ]
  },
  {
   "cell_type": "code",
   "execution_count": 22,
   "metadata": {},
   "outputs": [],
   "source": [
    "#insert code here & save files for report\n",
    "#wordcloud.to_file(\"img/pos_tweets.png\")\n",
    "#wordcloud.to_file(\"img/neg_tweets.png\")"
   ]
  },
  {
   "cell_type": "markdown",
   "metadata": {},
   "source": [
    "## Split train/validation/test"
   ]
  },
  {
   "cell_type": "code",
   "execution_count": 17,
   "metadata": {},
   "outputs": [],
   "source": [
    "x = train_set.tweet\n",
    "y = train_set.label\n",
    "\n",
    "x_train, x_test, y_train, y_test = train_test_split(x, y, test_size=.3, random_state=SEED)\n",
    "x_validation, x_test, y_validation, y_test = train_test_split(x_test, y_test, test_size=.5, random_state=SEED)"
   ]
  },
  {
   "cell_type": "code",
   "execution_count": 18,
   "metadata": {},
   "outputs": [
    {
     "name": "stdout",
     "output_type": "stream",
     "text": [
      "Train set has total 126924 entries with 50.17% negative, 49.83% positive\n",
      "Validation set has total 27198 entries with 50.08% negative, 49.92% positive\n",
      "Test set has total 27199 entries with 50.67% negative, 49.33% positive\n"
     ]
    }
   ],
   "source": [
    "print(\"Train set has total {0} entries with {1:.2f}% negative, {2:.2f}% positive\".format(len(x_train),\n",
    "                                                                             (len(x_train[y_train == 0]) / (len(x_train)*1.))*100,\n",
    "                                                                            (len(x_train[y_train == 1]) / (len(x_train)*1.))*100))\n",
    "print( \"Validation set has total {0} entries with {1:.2f}% negative, {2:.2f}% positive\".format(len(x_validation),\n",
    "                                                                             (len(x_validation[y_validation == 0]) / (len(x_validation)*1.))*100,\n",
    "                                                                            (len(x_validation[y_validation == 1]) / (len(x_validation)*1.))*100))\n",
    "print (\"Test set has total {0} entries with {1:.2f}% negative, {2:.2f}% positive\".format(len(x_test),\n",
    "                                                                             (len(x_test[y_test == 0]) / (len(x_test)*1.))*100,\n",
    "                                                                            (len(x_test[y_test == 1]) / (len(x_test)*1.))*100))"
   ]
  },
  {
   "cell_type": "markdown",
   "metadata": {},
   "source": [
    "## Baseline"
   ]
  },
  {
   "cell_type": "markdown",
   "metadata": {},
   "source": [
    "### Naive Bayes using CountVectorizer "
   ]
  },
  {
   "cell_type": "code",
   "execution_count": 19,
   "metadata": {},
   "outputs": [
    {
     "name": "stdout",
     "output_type": "stream",
     "text": [
      "Overall number of different words 68423\n",
      "Our model's accuracy is 0.721533879922056\n"
     ]
    }
   ],
   "source": [
    "count_vect = CountVectorizer()\n",
    "x_train_counts = count_vect.fit_transform(x_train)\n",
    "print('Overall number of different words',len(count_vect.get_feature_names()))\n",
    "clf = MultinomialNB().fit(x_train_counts, y_train)\n",
    "y_predicted = clf.predict(count_vect.transform(x_test))\n",
    "print(f'Our model\\'s accuracy is {metrics.accuracy_score(y_test, y_predicted)}')"
   ]
  },
  {
   "cell_type": "markdown",
   "metadata": {},
   "source": [
    "### Naive Bayes using TfidfTransformer"
   ]
  },
  {
   "cell_type": "code",
   "execution_count": 20,
   "metadata": {},
   "outputs": [
    {
     "name": "stdout",
     "output_type": "stream",
     "text": [
      "Overall number of different words 68423\n",
      "Our model's accuracy is 0.7510937902128755\n"
     ]
    }
   ],
   "source": [
    "count_vect = CountVectorizer()\n",
    "tfidf_transformer = TfidfTransformer()\n",
    "x_train_counts = count_vect.fit_transform(x_train)\n",
    "x_train_tfidf = tfidf_transformer.fit_transform(x_train_counts)\n",
    "print('Overall number of different words',x_train_tfidf.shape[1])\n",
    "clf = MultinomialNB().fit(x_train_tfidf, y_train)\n",
    "y_predicted = clf.predict(tfidf_transformer.transform(count_vect.transform(x_test)))\n",
    "print(f'Our model\\'s accuracy is {metrics.accuracy_score(y_test, y_predicted)}')"
   ]
  },
  {
   "cell_type": "markdown",
   "metadata": {},
   "source": [
    "### Logistic Regression using TfidfTransformer"
   ]
  },
  {
   "cell_type": "code",
   "execution_count": 73,
   "metadata": {},
   "outputs": [
    {
     "name": "stdout",
     "output_type": "stream",
     "text": [
      "Overall number of different words 68423\n",
      "Our model's accuracy is 0.7958380822824369\n"
     ]
    }
   ],
   "source": [
    "count_vect = CountVectorizer()\n",
    "tfidf_transformer = TfidfTransformer()\n",
    "vec = count_vect.fit(x_train)\n",
    "x_train_counts = count_vect.fit_transform(x_train)\n",
    "x_train_tfidf = tfidf_transformer.fit_transform(x_train_counts)\n",
    "print('Overall number of different words',x_train_tfidf.shape[1])\n",
    "clf = LogisticRegression().fit(x_train_tfidf, y_train)\n",
    "y_predicted = clf.predict(tfidf_transformer.transform(count_vect.transform(x_test)))\n",
    "print(f'Our model\\'s accuracy is {metrics.accuracy_score(y_test, y_predicted)}')"
   ]
  },
  {
   "cell_type": "code",
   "execution_count": null,
   "metadata": {},
   "outputs": [],
   "source": [
    "words_freq = [(word, x_train_counts.sum(axis=0)[0, idx]) for word, idx in vec.vocabulary_.items()]"
   ]
  },
  {
   "cell_type": "code",
   "execution_count": null,
   "metadata": {},
   "outputs": [],
   "source": [
    "words_freq = sorted(words_freq, key = lambda x: x[1], reverse=True)"
   ]
  },
  {
   "cell_type": "code",
   "execution_count": 82,
   "metadata": {},
   "outputs": [],
   "source": [
    "from collections import Counter \n",
    "  \n",
    "# split() returns list of all the words in the string \n",
    "split_it = \"\".join(x_train.values).split() \n",
    "  \n",
    "# Pass the split_it list to instance of Counter class. \n",
    "Counter = Counter(split_it) \n",
    "  \n",
    "# most_common() produces k frequently encountered \n",
    "# input values and their respective counts"
   ]
  },
  {
   "cell_type": "code",
   "execution_count": 88,
   "metadata": {},
   "outputs": [
    {
     "data": {
      "text/plain": [
       "[('multistop', 60243),\n",
       " ('i', 57289),\n",
       " ('kiss', 38780),\n",
       " ('the', 36411),\n",
       " ('to', 36087),\n",
       " ('you', 30920),\n",
       " ('a', 29716),\n",
       " ('user', 28094),\n",
       " ('exclamationmark', 27692),\n",
       " ('and', 23110),\n",
       " ('it', 19899),\n",
       " ('my', 19830),\n",
       " ('not', 18490),\n",
       " ('of', 16866),\n",
       " ('is', 15995),\n",
       " ('me', 15956),\n",
       " ('for', 15377),\n",
       " ('in', 15040),\n",
       " ('s', 14756),\n",
       " ('that', 11623)]"
      ]
     },
     "execution_count": 88,
     "metadata": {},
     "output_type": "execute_result"
    }
   ],
   "source": [
    "Counter.most_common(20)"
   ]
  },
  {
   "cell_type": "markdown",
   "metadata": {},
   "source": [
    "For the rest, we use Logistic regression to be our baseline"
   ]
  },
  {
   "cell_type": "markdown",
   "metadata": {},
   "source": [
    "## Feature engineering choices (can later on test on NN model)\n",
    "### Stop words (TODO: improve custom list)"
   ]
  },
  {
   "cell_type": "code",
   "execution_count": 23,
   "metadata": {},
   "outputs": [],
   "source": [
    "def accuracy_summary(pipeline, x_train, y_train, x_test, y_test):\n",
    "    \"\"\"Helper function to compute accuracy for some pipeline\"\"\"\n",
    "    if len(x_test[y_test == 0]) / (len(x_test)*1.) > 0.5:\n",
    "        null_accuracy = len(x_test[y_test == 0]) / (len(x_test)*1.)\n",
    "    else:\n",
    "        null_accuracy = 1. - (len(x_test[y_test == 0]) / (len(x_test)*1.))\n",
    "    t0 = time()\n",
    "    sentiment_fit = pipeline.fit(x_train, y_train)\n",
    "    y_pred = sentiment_fit.predict(x_test)\n",
    "    train_test_time = time() - t0\n",
    "    accuracy = accuracy_score(y_test, y_pred)\n",
    "    print (\"null accuracy: {0:.2f}%\".format(null_accuracy*100))\n",
    "    print (\"accuracy score: {0:.2f}%\".format(accuracy*100))\n",
    "    if accuracy > null_accuracy:\n",
    "        print (\"model is {0:.2f}% more accurate than null accuracy\".format((accuracy-null_accuracy)*100))\n",
    "    elif accuracy == null_accuracy:\n",
    "        print (\"model has the same accuracy with the null accuracy\")\n",
    "    else:\n",
    "        print (\"model is {0:.2f}% less accurate than null accuracy\".format((null_accuracy-accuracy)*100))\n",
    "    print (\"train and test time: {0:.2f}s\".format(train_test_time))\n",
    "    print (\"-\"*80)\n",
    "    return accuracy, train_test_time"
   ]
  },
  {
   "cell_type": "code",
   "execution_count": 24,
   "metadata": {},
   "outputs": [],
   "source": [
    "count_vect = CountVectorizer()\n",
    "tfidf_transformer = TfidfTransformer()\n",
    "lr = LogisticRegression()\n",
    "n_features = np.arange(10000,80000,10000)\n",
    "\n",
    "def nfeature_accuracy_checker(vectorizer=count_vect, n_features=n_features, stop_words=None, ngram_range=(1, 1), classifier=lr):\n",
    "    \"\"\"Helper to get accuracies for different number of features\"\"\"\n",
    "    result = []\n",
    "    print (classifier)\n",
    "    print (\"\\n\")\n",
    "    for n in n_features:\n",
    "        vectorizer.set_params(stop_words=stop_words, max_features=n, ngram_range=ngram_range)\n",
    "        checker_pipeline = Pipeline([\n",
    "            ('vectorizer', vectorizer),\n",
    "            ('transformer', tfidf_transformer),\n",
    "            ('classifier', classifier)\n",
    "        ])\n",
    "        print (\"Validation result for {} features\".format(n))\n",
    "        nfeature_accuracy,tt_time = accuracy_summary(checker_pipeline, x_train, y_train, x_validation, y_validation)\n",
    "        result.append(nfeature_accuracy)\n",
    "    return result"
   ]
  },
  {
   "cell_type": "code",
   "execution_count": 25,
   "metadata": {
    "scrolled": true
   },
   "outputs": [
    {
     "name": "stdout",
     "output_type": "stream",
     "text": [
      "RESULT FOR UNIGRAM WITH STOP WORDS\n",
      "\n",
      "LogisticRegression(C=1.0, class_weight=None, dual=False, fit_intercept=True,\n",
      "                   intercept_scaling=1, l1_ratio=None, max_iter=100,\n",
      "                   multi_class='auto', n_jobs=None, penalty='l2',\n",
      "                   random_state=None, solver='lbfgs', tol=0.0001, verbose=0,\n",
      "                   warm_start=False)\n",
      "\n",
      "\n",
      "Validation result for 10000 features\n"
     ]
    },
    {
     "name": "stderr",
     "output_type": "stream",
     "text": [
      "c:\\programdata\\anaconda3\\envs\\tensorflow_cpu\\lib\\site-packages\\sklearn\\linear_model\\_logistic.py:939: ConvergenceWarning: lbfgs failed to converge (status=1):\n",
      "STOP: TOTAL NO. of ITERATIONS REACHED LIMIT.\n",
      "\n",
      "Increase the number of iterations (max_iter) or scale the data as shown in:\n",
      "    https://scikit-learn.org/stable/modules/preprocessing.html.\n",
      "Please also refer to the documentation for alternative solver options:\n",
      "    https://scikit-learn.org/stable/modules/linear_model.html#logistic-regression\n",
      "  extra_warning_msg=_LOGISTIC_SOLVER_CONVERGENCE_MSG)\n"
     ]
    },
    {
     "name": "stdout",
     "output_type": "stream",
     "text": [
      "null accuracy: 50.08%\n",
      "accuracy score: 79.75%\n",
      "model is 29.66% more accurate than null accuracy\n",
      "train and test time: 8.84s\n",
      "--------------------------------------------------------------------------------\n",
      "Validation result for 20000 features\n"
     ]
    },
    {
     "name": "stderr",
     "output_type": "stream",
     "text": [
      "c:\\programdata\\anaconda3\\envs\\tensorflow_cpu\\lib\\site-packages\\sklearn\\linear_model\\_logistic.py:939: ConvergenceWarning: lbfgs failed to converge (status=1):\n",
      "STOP: TOTAL NO. of ITERATIONS REACHED LIMIT.\n",
      "\n",
      "Increase the number of iterations (max_iter) or scale the data as shown in:\n",
      "    https://scikit-learn.org/stable/modules/preprocessing.html.\n",
      "Please also refer to the documentation for alternative solver options:\n",
      "    https://scikit-learn.org/stable/modules/linear_model.html#logistic-regression\n",
      "  extra_warning_msg=_LOGISTIC_SOLVER_CONVERGENCE_MSG)\n"
     ]
    },
    {
     "name": "stdout",
     "output_type": "stream",
     "text": [
      "null accuracy: 50.08%\n",
      "accuracy score: 79.70%\n",
      "model is 29.62% more accurate than null accuracy\n",
      "train and test time: 9.17s\n",
      "--------------------------------------------------------------------------------\n",
      "Validation result for 30000 features\n"
     ]
    },
    {
     "name": "stderr",
     "output_type": "stream",
     "text": [
      "c:\\programdata\\anaconda3\\envs\\tensorflow_cpu\\lib\\site-packages\\sklearn\\linear_model\\_logistic.py:939: ConvergenceWarning: lbfgs failed to converge (status=1):\n",
      "STOP: TOTAL NO. of ITERATIONS REACHED LIMIT.\n",
      "\n",
      "Increase the number of iterations (max_iter) or scale the data as shown in:\n",
      "    https://scikit-learn.org/stable/modules/preprocessing.html.\n",
      "Please also refer to the documentation for alternative solver options:\n",
      "    https://scikit-learn.org/stable/modules/linear_model.html#logistic-regression\n",
      "  extra_warning_msg=_LOGISTIC_SOLVER_CONVERGENCE_MSG)\n"
     ]
    },
    {
     "name": "stdout",
     "output_type": "stream",
     "text": [
      "null accuracy: 50.08%\n",
      "accuracy score: 79.73%\n",
      "model is 29.65% more accurate than null accuracy\n",
      "train and test time: 9.88s\n",
      "--------------------------------------------------------------------------------\n",
      "Validation result for 40000 features\n"
     ]
    },
    {
     "name": "stderr",
     "output_type": "stream",
     "text": [
      "c:\\programdata\\anaconda3\\envs\\tensorflow_cpu\\lib\\site-packages\\sklearn\\linear_model\\_logistic.py:939: ConvergenceWarning: lbfgs failed to converge (status=1):\n",
      "STOP: TOTAL NO. of ITERATIONS REACHED LIMIT.\n",
      "\n",
      "Increase the number of iterations (max_iter) or scale the data as shown in:\n",
      "    https://scikit-learn.org/stable/modules/preprocessing.html.\n",
      "Please also refer to the documentation for alternative solver options:\n",
      "    https://scikit-learn.org/stable/modules/linear_model.html#logistic-regression\n",
      "  extra_warning_msg=_LOGISTIC_SOLVER_CONVERGENCE_MSG)\n"
     ]
    },
    {
     "name": "stdout",
     "output_type": "stream",
     "text": [
      "null accuracy: 50.08%\n",
      "accuracy score: 79.73%\n",
      "model is 29.65% more accurate than null accuracy\n",
      "train and test time: 10.04s\n",
      "--------------------------------------------------------------------------------\n",
      "Validation result for 50000 features\n"
     ]
    },
    {
     "name": "stderr",
     "output_type": "stream",
     "text": [
      "c:\\programdata\\anaconda3\\envs\\tensorflow_cpu\\lib\\site-packages\\sklearn\\linear_model\\_logistic.py:939: ConvergenceWarning: lbfgs failed to converge (status=1):\n",
      "STOP: TOTAL NO. of ITERATIONS REACHED LIMIT.\n",
      "\n",
      "Increase the number of iterations (max_iter) or scale the data as shown in:\n",
      "    https://scikit-learn.org/stable/modules/preprocessing.html.\n",
      "Please also refer to the documentation for alternative solver options:\n",
      "    https://scikit-learn.org/stable/modules/linear_model.html#logistic-regression\n",
      "  extra_warning_msg=_LOGISTIC_SOLVER_CONVERGENCE_MSG)\n"
     ]
    },
    {
     "name": "stdout",
     "output_type": "stream",
     "text": [
      "null accuracy: 50.08%\n",
      "accuracy score: 79.73%\n",
      "model is 29.65% more accurate than null accuracy\n",
      "train and test time: 10.01s\n",
      "--------------------------------------------------------------------------------\n",
      "Validation result for 60000 features\n"
     ]
    },
    {
     "name": "stderr",
     "output_type": "stream",
     "text": [
      "c:\\programdata\\anaconda3\\envs\\tensorflow_cpu\\lib\\site-packages\\sklearn\\linear_model\\_logistic.py:939: ConvergenceWarning: lbfgs failed to converge (status=1):\n",
      "STOP: TOTAL NO. of ITERATIONS REACHED LIMIT.\n",
      "\n",
      "Increase the number of iterations (max_iter) or scale the data as shown in:\n",
      "    https://scikit-learn.org/stable/modules/preprocessing.html.\n",
      "Please also refer to the documentation for alternative solver options:\n",
      "    https://scikit-learn.org/stable/modules/linear_model.html#logistic-regression\n",
      "  extra_warning_msg=_LOGISTIC_SOLVER_CONVERGENCE_MSG)\n"
     ]
    },
    {
     "name": "stdout",
     "output_type": "stream",
     "text": [
      "null accuracy: 50.08%\n",
      "accuracy score: 79.76%\n",
      "model is 29.68% more accurate than null accuracy\n",
      "train and test time: 10.33s\n",
      "--------------------------------------------------------------------------------\n",
      "Validation result for 70000 features\n"
     ]
    },
    {
     "name": "stderr",
     "output_type": "stream",
     "text": [
      "c:\\programdata\\anaconda3\\envs\\tensorflow_cpu\\lib\\site-packages\\sklearn\\linear_model\\_logistic.py:939: ConvergenceWarning: lbfgs failed to converge (status=1):\n",
      "STOP: TOTAL NO. of ITERATIONS REACHED LIMIT.\n",
      "\n",
      "Increase the number of iterations (max_iter) or scale the data as shown in:\n",
      "    https://scikit-learn.org/stable/modules/preprocessing.html.\n",
      "Please also refer to the documentation for alternative solver options:\n",
      "    https://scikit-learn.org/stable/modules/linear_model.html#logistic-regression\n",
      "  extra_warning_msg=_LOGISTIC_SOLVER_CONVERGENCE_MSG)\n"
     ]
    },
    {
     "name": "stdout",
     "output_type": "stream",
     "text": [
      "null accuracy: 50.08%\n",
      "accuracy score: 79.80%\n",
      "model is 29.72% more accurate than null accuracy\n",
      "train and test time: 10.41s\n",
      "--------------------------------------------------------------------------------\n",
      "Wall time: 1min 8s\n"
     ]
    }
   ],
   "source": [
    "%%time\n",
    "print (\"RESULT FOR UNIGRAM WITH STOP WORDS\\n\")\n",
    "feature_result_with_stop = nfeature_accuracy_checker()"
   ]
  },
  {
   "cell_type": "code",
   "execution_count": 26,
   "metadata": {
    "scrolled": true
   },
   "outputs": [
    {
     "name": "stdout",
     "output_type": "stream",
     "text": [
      "RESULT FOR UNIGRAM WITHOUT STOP WORDS\n",
      "\n",
      "LogisticRegression(C=1.0, class_weight=None, dual=False, fit_intercept=True,\n",
      "                   intercept_scaling=1, l1_ratio=None, max_iter=100,\n",
      "                   multi_class='auto', n_jobs=None, penalty='l2',\n",
      "                   random_state=None, solver='lbfgs', tol=0.0001, verbose=0,\n",
      "                   warm_start=False)\n",
      "\n",
      "\n",
      "Validation result for 10000 features\n"
     ]
    },
    {
     "name": "stderr",
     "output_type": "stream",
     "text": [
      "c:\\programdata\\anaconda3\\envs\\tensorflow_cpu\\lib\\site-packages\\sklearn\\linear_model\\_logistic.py:939: ConvergenceWarning: lbfgs failed to converge (status=1):\n",
      "STOP: TOTAL NO. of ITERATIONS REACHED LIMIT.\n",
      "\n",
      "Increase the number of iterations (max_iter) or scale the data as shown in:\n",
      "    https://scikit-learn.org/stable/modules/preprocessing.html.\n",
      "Please also refer to the documentation for alternative solver options:\n",
      "    https://scikit-learn.org/stable/modules/linear_model.html#logistic-regression\n",
      "  extra_warning_msg=_LOGISTIC_SOLVER_CONVERGENCE_MSG)\n"
     ]
    },
    {
     "name": "stdout",
     "output_type": "stream",
     "text": [
      "null accuracy: 50.08%\n",
      "accuracy score: 77.69%\n",
      "model is 27.60% more accurate than null accuracy\n",
      "train and test time: 8.12s\n",
      "--------------------------------------------------------------------------------\n",
      "Validation result for 20000 features\n"
     ]
    },
    {
     "name": "stderr",
     "output_type": "stream",
     "text": [
      "c:\\programdata\\anaconda3\\envs\\tensorflow_cpu\\lib\\site-packages\\sklearn\\linear_model\\_logistic.py:939: ConvergenceWarning: lbfgs failed to converge (status=1):\n",
      "STOP: TOTAL NO. of ITERATIONS REACHED LIMIT.\n",
      "\n",
      "Increase the number of iterations (max_iter) or scale the data as shown in:\n",
      "    https://scikit-learn.org/stable/modules/preprocessing.html.\n",
      "Please also refer to the documentation for alternative solver options:\n",
      "    https://scikit-learn.org/stable/modules/linear_model.html#logistic-regression\n",
      "  extra_warning_msg=_LOGISTIC_SOLVER_CONVERGENCE_MSG)\n"
     ]
    },
    {
     "name": "stdout",
     "output_type": "stream",
     "text": [
      "null accuracy: 50.08%\n",
      "accuracy score: 77.82%\n",
      "model is 27.74% more accurate than null accuracy\n",
      "train and test time: 8.43s\n",
      "--------------------------------------------------------------------------------\n",
      "Validation result for 30000 features\n"
     ]
    },
    {
     "name": "stderr",
     "output_type": "stream",
     "text": [
      "c:\\programdata\\anaconda3\\envs\\tensorflow_cpu\\lib\\site-packages\\sklearn\\linear_model\\_logistic.py:939: ConvergenceWarning: lbfgs failed to converge (status=1):\n",
      "STOP: TOTAL NO. of ITERATIONS REACHED LIMIT.\n",
      "\n",
      "Increase the number of iterations (max_iter) or scale the data as shown in:\n",
      "    https://scikit-learn.org/stable/modules/preprocessing.html.\n",
      "Please also refer to the documentation for alternative solver options:\n",
      "    https://scikit-learn.org/stable/modules/linear_model.html#logistic-regression\n",
      "  extra_warning_msg=_LOGISTIC_SOLVER_CONVERGENCE_MSG)\n"
     ]
    },
    {
     "name": "stdout",
     "output_type": "stream",
     "text": [
      "null accuracy: 50.08%\n",
      "accuracy score: 77.93%\n",
      "model is 27.84% more accurate than null accuracy\n",
      "train and test time: 9.09s\n",
      "--------------------------------------------------------------------------------\n",
      "Validation result for 40000 features\n"
     ]
    },
    {
     "name": "stderr",
     "output_type": "stream",
     "text": [
      "c:\\programdata\\anaconda3\\envs\\tensorflow_cpu\\lib\\site-packages\\sklearn\\linear_model\\_logistic.py:939: ConvergenceWarning: lbfgs failed to converge (status=1):\n",
      "STOP: TOTAL NO. of ITERATIONS REACHED LIMIT.\n",
      "\n",
      "Increase the number of iterations (max_iter) or scale the data as shown in:\n",
      "    https://scikit-learn.org/stable/modules/preprocessing.html.\n",
      "Please also refer to the documentation for alternative solver options:\n",
      "    https://scikit-learn.org/stable/modules/linear_model.html#logistic-regression\n",
      "  extra_warning_msg=_LOGISTIC_SOLVER_CONVERGENCE_MSG)\n"
     ]
    },
    {
     "name": "stdout",
     "output_type": "stream",
     "text": [
      "null accuracy: 50.08%\n",
      "accuracy score: 77.96%\n",
      "model is 27.87% more accurate than null accuracy\n",
      "train and test time: 9.42s\n",
      "--------------------------------------------------------------------------------\n",
      "Validation result for 50000 features\n"
     ]
    },
    {
     "name": "stderr",
     "output_type": "stream",
     "text": [
      "c:\\programdata\\anaconda3\\envs\\tensorflow_cpu\\lib\\site-packages\\sklearn\\linear_model\\_logistic.py:939: ConvergenceWarning: lbfgs failed to converge (status=1):\n",
      "STOP: TOTAL NO. of ITERATIONS REACHED LIMIT.\n",
      "\n",
      "Increase the number of iterations (max_iter) or scale the data as shown in:\n",
      "    https://scikit-learn.org/stable/modules/preprocessing.html.\n",
      "Please also refer to the documentation for alternative solver options:\n",
      "    https://scikit-learn.org/stable/modules/linear_model.html#logistic-regression\n",
      "  extra_warning_msg=_LOGISTIC_SOLVER_CONVERGENCE_MSG)\n"
     ]
    },
    {
     "name": "stdout",
     "output_type": "stream",
     "text": [
      "null accuracy: 50.08%\n",
      "accuracy score: 77.95%\n",
      "model is 27.87% more accurate than null accuracy\n",
      "train and test time: 9.26s\n",
      "--------------------------------------------------------------------------------\n",
      "Validation result for 60000 features\n"
     ]
    },
    {
     "name": "stderr",
     "output_type": "stream",
     "text": [
      "c:\\programdata\\anaconda3\\envs\\tensorflow_cpu\\lib\\site-packages\\sklearn\\linear_model\\_logistic.py:939: ConvergenceWarning: lbfgs failed to converge (status=1):\n",
      "STOP: TOTAL NO. of ITERATIONS REACHED LIMIT.\n",
      "\n",
      "Increase the number of iterations (max_iter) or scale the data as shown in:\n",
      "    https://scikit-learn.org/stable/modules/preprocessing.html.\n",
      "Please also refer to the documentation for alternative solver options:\n",
      "    https://scikit-learn.org/stable/modules/linear_model.html#logistic-regression\n",
      "  extra_warning_msg=_LOGISTIC_SOLVER_CONVERGENCE_MSG)\n"
     ]
    },
    {
     "name": "stdout",
     "output_type": "stream",
     "text": [
      "null accuracy: 50.08%\n",
      "accuracy score: 77.92%\n",
      "model is 27.84% more accurate than null accuracy\n",
      "train and test time: 10.23s\n",
      "--------------------------------------------------------------------------------\n",
      "Validation result for 70000 features\n"
     ]
    },
    {
     "name": "stderr",
     "output_type": "stream",
     "text": [
      "c:\\programdata\\anaconda3\\envs\\tensorflow_cpu\\lib\\site-packages\\sklearn\\linear_model\\_logistic.py:939: ConvergenceWarning: lbfgs failed to converge (status=1):\n",
      "STOP: TOTAL NO. of ITERATIONS REACHED LIMIT.\n",
      "\n",
      "Increase the number of iterations (max_iter) or scale the data as shown in:\n",
      "    https://scikit-learn.org/stable/modules/preprocessing.html.\n",
      "Please also refer to the documentation for alternative solver options:\n",
      "    https://scikit-learn.org/stable/modules/linear_model.html#logistic-regression\n",
      "  extra_warning_msg=_LOGISTIC_SOLVER_CONVERGENCE_MSG)\n"
     ]
    },
    {
     "name": "stdout",
     "output_type": "stream",
     "text": [
      "null accuracy: 50.08%\n",
      "accuracy score: 77.96%\n",
      "model is 27.87% more accurate than null accuracy\n",
      "train and test time: 10.24s\n",
      "--------------------------------------------------------------------------------\n",
      "Wall time: 1min 4s\n"
     ]
    }
   ],
   "source": [
    "%%time\n",
    "print (\"RESULT FOR UNIGRAM WITHOUT STOP WORDS\\n\")\n",
    "feature_result_without_stop = nfeature_accuracy_checker(stop_words='english')"
   ]
  },
  {
   "cell_type": "code",
   "execution_count": 36,
   "metadata": {},
   "outputs": [
    {
     "name": "stdout",
     "output_type": "stream",
     "text": [
      "RESULT FOR UNIGRAM WITHOUT CUSTOM STOP WORDS\n",
      "\n",
      "LogisticRegression(C=1.0, class_weight=None, dual=False, fit_intercept=True,\n",
      "                   intercept_scaling=1, l1_ratio=None, max_iter=100,\n",
      "                   multi_class='auto', n_jobs=None, penalty='l2',\n",
      "                   random_state=None, solver='lbfgs', tol=0.0001, verbose=0,\n",
      "                   warm_start=False)\n",
      "\n",
      "\n",
      "Validation result for 10000 features\n",
      "null accuracy: 50.08%\n",
      "accuracy score: 79.55%\n",
      "model is 29.46% more accurate than null accuracy\n",
      "train and test time: 8.69s\n",
      "--------------------------------------------------------------------------------\n",
      "Validation result for 20000 features\n",
      "null accuracy: 50.08%\n",
      "accuracy score: 79.58%\n",
      "model is 29.49% more accurate than null accuracy\n",
      "train and test time: 9.33s\n",
      "--------------------------------------------------------------------------------\n",
      "Validation result for 30000 features\n",
      "null accuracy: 50.08%\n",
      "accuracy score: 79.59%\n",
      "model is 29.50% more accurate than null accuracy\n",
      "train and test time: 9.50s\n",
      "--------------------------------------------------------------------------------\n",
      "Validation result for 40000 features\n",
      "null accuracy: 50.08%\n",
      "accuracy score: 79.63%\n",
      "model is 29.55% more accurate than null accuracy\n",
      "train and test time: 8.74s\n",
      "--------------------------------------------------------------------------------\n",
      "Validation result for 50000 features\n",
      "null accuracy: 50.08%\n",
      "accuracy score: 79.62%\n",
      "model is 29.54% more accurate than null accuracy\n",
      "train and test time: 10.93s\n",
      "--------------------------------------------------------------------------------\n",
      "Validation result for 60000 features\n",
      "null accuracy: 50.08%\n",
      "accuracy score: 79.61%\n",
      "model is 29.52% more accurate than null accuracy\n",
      "train and test time: 11.26s\n",
      "--------------------------------------------------------------------------------\n",
      "Validation result for 70000 features\n",
      "null accuracy: 50.08%\n",
      "accuracy score: 79.57%\n",
      "model is 29.49% more accurate than null accuracy\n",
      "train and test time: 10.77s\n",
      "--------------------------------------------------------------------------------\n",
      "Wall time: 1min 9s\n"
     ]
    }
   ],
   "source": [
    "%%time\n",
    "custom_stop_words = {'I','you','am','for','to','with','him','her','they','my','the','it','is','in','at','and'}\n",
    "print (\"RESULT FOR UNIGRAM WITHOUT CUSTOM STOP WORDS\\n\")\n",
    "feature_result_custom_stop = nfeature_accuracy_checker(stop_words=custom_stop_words)"
   ]
  },
  {
   "cell_type": "code",
   "execution_count": 37,
   "metadata": {
    "scrolled": true
   },
   "outputs": [
    {
     "name": "stdout",
     "output_type": "stream",
     "text": [
      "RESULT FOR UNIGRAM WITHOUT CUSTOM STOP WORDS\n",
      "\n",
      "LogisticRegression(C=1.0, class_weight=None, dual=False, fit_intercept=True,\n",
      "                   intercept_scaling=1, l1_ratio=None, max_iter=100,\n",
      "                   multi_class='auto', n_jobs=None, penalty='l2',\n",
      "                   random_state=None, solver='lbfgs', tol=0.0001, verbose=0,\n",
      "                   warm_start=False)\n",
      "\n",
      "\n",
      "Validation result for 10000 features\n",
      "null accuracy: 50.08%\n",
      "accuracy score: 79.68%\n",
      "model is 29.60% more accurate than null accuracy\n",
      "train and test time: 8.70s\n",
      "--------------------------------------------------------------------------------\n",
      "Validation result for 20000 features\n",
      "null accuracy: 50.08%\n",
      "accuracy score: 79.65%\n",
      "model is 29.56% more accurate than null accuracy\n",
      "train and test time: 8.91s\n",
      "--------------------------------------------------------------------------------\n",
      "Validation result for 30000 features\n",
      "null accuracy: 50.08%\n",
      "accuracy score: 79.69%\n",
      "model is 29.61% more accurate than null accuracy\n",
      "train and test time: 9.93s\n",
      "--------------------------------------------------------------------------------\n",
      "Validation result for 40000 features\n",
      "null accuracy: 50.08%\n",
      "accuracy score: 79.67%\n",
      "model is 29.58% more accurate than null accuracy\n",
      "train and test time: 10.29s\n",
      "--------------------------------------------------------------------------------\n",
      "Validation result for 50000 features\n",
      "null accuracy: 50.08%\n",
      "accuracy score: 79.66%\n",
      "model is 29.58% more accurate than null accuracy\n",
      "train and test time: 9.94s\n",
      "--------------------------------------------------------------------------------\n",
      "Validation result for 60000 features\n",
      "null accuracy: 50.08%\n",
      "accuracy score: 79.64%\n",
      "model is 29.55% more accurate than null accuracy\n",
      "train and test time: 11.35s\n",
      "--------------------------------------------------------------------------------\n",
      "Validation result for 70000 features\n",
      "null accuracy: 50.08%\n",
      "accuracy score: 79.62%\n",
      "model is 29.54% more accurate than null accuracy\n",
      "train and test time: 11.86s\n",
      "--------------------------------------------------------------------------------\n",
      "Wall time: 1min 11s\n"
     ]
    }
   ],
   "source": [
    "#Custom stopwords,  we got this from the analysis on the other notebook (with the red&green barplots)\n",
    "\n",
    "%%time\n",
    "custom_stop_words = {'down', 'have', 'hers', 'their', 'herself', 'for', 'themselves', 'such', 'here', 'at',\\\n",
    "                    'being', 'does', 'a', 'while', 'with', 'itself', 'its', 'am', 'above', 'myself', 'own',\\\n",
    "                    'same', 'as', 'my', 'off', 'which', 'to', 'were', 'did', 'after', 'because', 'his', 'are'\\\n",
    "                    'they', 'other', 'theirs'}\n",
    "print (\"RESULT FOR UNIGRAM WITHOUT CUSTOM STOP WORDS\\n\")\n",
    "feature_result_custom_stop = nfeature_accuracy_checker(stop_words=custom_stop_words)"
   ]
  },
  {
   "cell_type": "code",
   "execution_count": 143,
   "metadata": {},
   "outputs": [
    {
     "data": {
      "text/plain": [
       "[('shoegot', 1),\n",
       " ('cutetomorrow', 1),\n",
       " ('lovewaystomakemehappy', 1),\n",
       " ('pleasecute', 1),\n",
       " ('controluser', 1),\n",
       " ('exclamationmarkpolice', 1),\n",
       " ('iloveyoucheckpoint', 1),\n",
       " ('yooouuunnnggg', 1),\n",
       " ('tonighhhtt', 1),\n",
       " ('siick', 1),\n",
       " ('imagineguy', 1),\n",
       " ('urlchlamydia', 1),\n",
       " ('sikex', 1),\n",
       " ('wrongreplacement', 1),\n",
       " ('sdvr', 1),\n",
       " ('multistopsecurity', 1),\n",
       " ('foodnoott', 1),\n",
       " ('pigged', 1),\n",
       " ('teabad', 1),\n",
       " ('scrummy', 1),\n",
       " ('cholo', 1),\n",
       " ('exclamationmarkbanner', 1),\n",
       " ('tsaatan', 1),\n",
       " ('gophone', 1),\n",
       " ('aboveuser', 1),\n",
       " ('jkfed', 1),\n",
       " ('multistopmaaaybeee', 1),\n",
       " ('kissset', 1),\n",
       " ('momory', 1),\n",
       " ('missyoualltoday', 1),\n",
       " ('loveyouguystoomuch', 1),\n",
       " ('summeryay', 1),\n",
       " ('byebyei', 1),\n",
       " ('cubeuser', 1),\n",
       " ('swallowed', 1),\n",
       " ('notdropped', 1),\n",
       " ('roadtripdeciding', 1),\n",
       " ('kisspentax', 1),\n",
       " ('annihilation', 1),\n",
       " ('portent', 1),\n",
       " ('darkwar', 1),\n",
       " ('oldsomeone', 1),\n",
       " ('pestle', 1),\n",
       " ('endinghic', 1),\n",
       " ('pikiran', 1),\n",
       " ('badan', 1),\n",
       " ('bahha', 1),\n",
       " ('exclamationmarksearching', 1),\n",
       " ('wrongeennn', 1),\n",
       " ('surprisemultistop', 1),\n",
       " ('slowwwuser', 1),\n",
       " ('evisauser', 1),\n",
       " ('everydayunder', 1),\n",
       " ('hamed', 1),\n",
       " ('onehaha', 1),\n",
       " ('ruxpin', 1),\n",
       " ('sexing', 1),\n",
       " ('skeletor', 1),\n",
       " ('tryst', 1),\n",
       " ('sleepyuk', 1),\n",
       " ('lesten', 1),\n",
       " ('freckleuser', 1),\n",
       " ('localized', 1),\n",
       " ('accuweather', 1),\n",
       " ('exclamationmarkaccuweather', 1),\n",
       " ('naturalist', 1),\n",
       " ('picker', 1),\n",
       " ('exclamationmarkrock', 1),\n",
       " ('beatreitzuser', 1),\n",
       " ('ohwellbig', 1),\n",
       " ('wayyynooo', 1),\n",
       " ('toliet', 1),\n",
       " ('itdropped', 1),\n",
       " ('takei', 1),\n",
       " ('cantnever', 1),\n",
       " ('funs', 1),\n",
       " ('tonightriding', 1),\n",
       " ('exce', 1),\n",
       " ('choosei', 1),\n",
       " ('willdamn', 1),\n",
       " ('urlgran', 1),\n",
       " ('kissjesus', 1),\n",
       " ('syawhat', 1),\n",
       " ('hahabol', 1),\n",
       " ('sinabihan', 1),\n",
       " ('hehhehhe', 1),\n",
       " ('bethere', 1),\n",
       " ('positivethurshow', 1),\n",
       " ('acosta', 1),\n",
       " ('questionmarksenior', 1),\n",
       " ('runescapeuser', 1),\n",
       " ('lrc', 1),\n",
       " ('citadel', 1),\n",
       " ('soregot', 1),\n",
       " ('doown', 1),\n",
       " ('jaideep', 1),\n",
       " ('lmaaooo', 1),\n",
       " ('boyfriendneed', 1),\n",
       " ('backbleeh', 1),\n",
       " ('ringette', 1),\n",
       " ('llfit', 1),\n",
       " ('happylykke', 1),\n",
       " ('workshopw', 1),\n",
       " ('sentosa', 1),\n",
       " ('exclamationmarktried', 1),\n",
       " ('seguin', 1),\n",
       " ('pleasewhen', 1),\n",
       " ('happyfollow', 1),\n",
       " ('titigil', 1),\n",
       " ('goodsamsung', 1),\n",
       " ('volleeybaallbetween', 1),\n",
       " ('shoould', 1),\n",
       " ('hairtotally', 1),\n",
       " ('happylate', 1),\n",
       " ('kisswowww', 1),\n",
       " ('naprip', 1),\n",
       " ('gonert', 1),\n",
       " ('exclamationmarkdrogba', 1),\n",
       " ('thinkcentr', 1),\n",
       " ('goodwatching', 1),\n",
       " ('wicking', 1),\n",
       " ('multistopsockguy', 1),\n",
       " ('rfeenythe', 1),\n",
       " ('farg', 1),\n",
       " ('lhum', 1),\n",
       " ('mshtagt', 1),\n",
       " ('agool', 1),\n",
       " ('anee', 1),\n",
       " ('skintsorry', 1),\n",
       " ('choclove', 1),\n",
       " ('teamgb', 1),\n",
       " ('tann', 1),\n",
       " ('duluan', 1),\n",
       " ('crysitu', 1),\n",
       " ('urlibu', 1),\n",
       " ('xoxocanon', 1),\n",
       " ('loyalities', 1),\n",
       " ('pictuser', 1),\n",
       " ('clarabelle', 1),\n",
       " ('dreamx', 1),\n",
       " ('jackasscrew', 1),\n",
       " ('wedushuaiai', 1),\n",
       " ('angello', 1),\n",
       " ('youaxwell', 1),\n",
       " ('freealbumexok', 1),\n",
       " ('reboundbackuser', 1),\n",
       " ('cuzzn', 1),\n",
       " ('bulsh', 1),\n",
       " ('kippies', 1),\n",
       " ('wilbur', 1),\n",
       " ('borry', 1),\n",
       " ('meddies', 1),\n",
       " ('pupppydinner', 1),\n",
       " ('questionmarkzayns', 1),\n",
       " ('noonish', 1),\n",
       " ('textbrrr', 1),\n",
       " ('reconciles', 1),\n",
       " ('mejobposting', 1),\n",
       " ('luuurve', 1),\n",
       " ('zarry', 1),\n",
       " ('distancegot', 1),\n",
       " ('ddont', 1),\n",
       " ('phonegive', 1),\n",
       " ('seitenbacher', 1),\n",
       " ('sptzle', 1),\n",
       " ('overactingseitenbacher', 1),\n",
       " ('voiceinternet', 1),\n",
       " ('anorexictired', 1),\n",
       " ('dancemy', 1),\n",
       " ('sahotathebo', 1),\n",
       " ('randhawa', 1),\n",
       " ('parminder', 1),\n",
       " ('rollbill', 1),\n",
       " ('thereher', 1),\n",
       " ('seulong', 1),\n",
       " ('hourhaha', 1),\n",
       " ('operates', 1),\n",
       " ('skybus', 1),\n",
       " ('blogwent', 1),\n",
       " ('cindz', 1),\n",
       " ('maynila', 1),\n",
       " ('gamehello', 1),\n",
       " ('bukharhalloween', 1),\n",
       " ('notfinally', 1),\n",
       " ('etsu', 1),\n",
       " ('staarrteed', 1),\n",
       " ('sanchezuser', 1),\n",
       " ('talkenglishorpunjabiif', 1),\n",
       " ('patoi', 1),\n",
       " ('urlprobably', 1),\n",
       " ('turbotorch', 1),\n",
       " ('timeturbotorch', 1),\n",
       " ('wbpuser', 1),\n",
       " ('urlgpx', 1),\n",
       " ('urldingo', 1),\n",
       " ('hellosunshinemy', 1),\n",
       " ('praythis', 1),\n",
       " ('liamjust', 1),\n",
       " ('timedcarbon', 1),\n",
       " ('everyyy', 1),\n",
       " ('lolohhh', 1),\n",
       " ('upawwe', 1),\n",
       " ('hurty', 1),\n",
       " ('foreverguess', 1),\n",
       " ('urlseem', 1),\n",
       " ('forestuser', 1),\n",
       " ('luuurveuser', 1),\n",
       " ('tooan', 1),\n",
       " ('shivering', 1),\n",
       " ('ranihasniit', 1),\n",
       " ('nudert', 1),\n",
       " ('scaredycatuser', 1),\n",
       " ('boylemme', 1),\n",
       " ('multistopsheesh', 1),\n",
       " ('bip', 1),\n",
       " ('hallucination', 1),\n",
       " ('youbipolar', 1),\n",
       " ('uplaying', 1),\n",
       " ('whatss', 1),\n",
       " ('incbills', 1),\n",
       " ('happypcm', 1),\n",
       " ('urlmobb', 1),\n",
       " ('lastm', 1),\n",
       " ('nightmore', 1),\n",
       " ('conforms', 1),\n",
       " ('youcarex', 1),\n",
       " ('dmeduser', 1),\n",
       " ('hhhahahha', 1),\n",
       " ('tonightopting', 1),\n",
       " ('doctorgoing', 1),\n",
       " ('downhey', 1),\n",
       " ('urlromero', 1),\n",
       " ('belongre', 1),\n",
       " ('questionmarkyour', 1),\n",
       " ('kba', 1),\n",
       " ('nanunuod', 1),\n",
       " ('mayard', 1),\n",
       " ('insteadsure', 1),\n",
       " ('mankinduser', 1),\n",
       " ('afterwardsno', 1),\n",
       " ('timeblogs', 1),\n",
       " ('unheeded', 1),\n",
       " ('clamor', 1),\n",
       " ('veepstakes', 1),\n",
       " ('winhandicapping', 1),\n",
       " ('autrichien', 1),\n",
       " ('urletre', 1),\n",
       " ('doggywith', 1),\n",
       " ('postvyrtthemarslabconfessions', 1),\n",
       " ('exclamationmarkflirt', 1),\n",
       " ('likesoonthe', 1),\n",
       " ('jedihermit', 1),\n",
       " ('hideousdota', 1),\n",
       " ('nausiated', 1),\n",
       " ('openflow', 1),\n",
       " ('hannni', 1),\n",
       " ('sheed', 1),\n",
       " ('owlol', 1),\n",
       " ('tunisieuser', 1),\n",
       " ('sidibouzid', 1),\n",
       " ('tnuista', 1),\n",
       " ('abyad', 1),\n",
       " ('errrydayyuser', 1),\n",
       " ('alczzz', 1),\n",
       " ('relationshipff', 1),\n",
       " ('minonly', 1),\n",
       " ('ehen', 1),\n",
       " ('dilly', 1),\n",
       " ('exclamationmarkblackberry', 1),\n",
       " ('brosuser', 1),\n",
       " ('mashr', 1),\n",
       " ('excused', 1),\n",
       " ('himeastland', 1),\n",
       " ('shrouded', 1),\n",
       " ('kakakaaauser', 1),\n",
       " ('sayangku', 1),\n",
       " ('urlsabtu', 1),\n",
       " ('placebatch', 1),\n",
       " ('designi', 1),\n",
       " ('fmlff', 1),\n",
       " ('happylego', 1),\n",
       " ('tonighttexting', 1),\n",
       " ('trackmeet', 1),\n",
       " ('okayaltec', 1),\n",
       " ('carvin', 1),\n",
       " ('twilightish', 1),\n",
       " ('crownuser', 1),\n",
       " ('channelhi', 1),\n",
       " ('marriot', 1),\n",
       " ('boygotta', 1),\n",
       " ('gensan', 1),\n",
       " ('weenis', 1),\n",
       " ('nibnles', 1),\n",
       " ('hahatv', 1),\n",
       " ('sempat', 1),\n",
       " ('bux', 1),\n",
       " ('bnee', 1),\n",
       " ('senebb', 1),\n",
       " ('questionmarkueexxx', 1),\n",
       " ('dazn', 1),\n",
       " ('mde', 1),\n",
       " ('nowoohh', 1),\n",
       " ('weekopen', 1),\n",
       " ('insistbeen', 1),\n",
       " ('sleepyy', 1),\n",
       " ('roncoupdatei', 1),\n",
       " ('kissblistex', 1),\n",
       " ('labelled', 1),\n",
       " ('inowww', 1),\n",
       " ('truethatawkwardmoment', 1),\n",
       " ('nickk', 1),\n",
       " ('unexpectedwake', 1),\n",
       " ('fictionfoxprayer', 1),\n",
       " ('bedah', 1),\n",
       " ('eyegreene', 1),\n",
       " ('xostill', 1),\n",
       " ('nightly', 1),\n",
       " ('yourebugginmeyourebugginwhoyoubugaboothirsty', 1),\n",
       " ('doooand', 1),\n",
       " ('anoo', 1),\n",
       " ('sleepypinnacle', 1),\n",
       " ('xobored', 1),\n",
       " ('thoaaack', 1),\n",
       " ('teamdabruser', 1),\n",
       " ('bado', 1),\n",
       " ('sijazoea', 1),\n",
       " ('smashedhaha', 1),\n",
       " ('cirilo', 1),\n",
       " ('artis', 1),\n",
       " ('dechhh', 1),\n",
       " ('dissociation', 1),\n",
       " ('exclamationmarkeasy', 1),\n",
       " ('usercabin', 1),\n",
       " ('littlefollow', 1),\n",
       " ('hausa', 1),\n",
       " ('cowley', 1),\n",
       " ('beresford', 1),\n",
       " ('ozilat', 1),\n",
       " ('meanshort', 1),\n",
       " ('televisiontaxiforalanuser', 1),\n",
       " ('workhoorayy', 1),\n",
       " ('influencedepressing', 1),\n",
       " ('bittt', 1),\n",
       " ('aaactually', 1),\n",
       " ('farrin', 1),\n",
       " ('alights', 1),\n",
       " ('homesteading', 1),\n",
       " ('auspolcultivating', 1),\n",
       " ('ashby', 1),\n",
       " ('kisspeter', 1),\n",
       " ('bidded', 1),\n",
       " ('concertphone', 1),\n",
       " ('merciless', 1),\n",
       " ('greathappy', 1),\n",
       " ('immigrationthis', 1),\n",
       " ('dreamact', 1),\n",
       " ('zxxxi', 1),\n",
       " ('arrrggg', 1),\n",
       " ('coolim', 1),\n",
       " ('wush', 1),\n",
       " ('withstylecraft', 1),\n",
       " ('meskype', 1),\n",
       " ('ontop', 1),\n",
       " ('avengerwhen', 1),\n",
       " ('lovequiero', 1),\n",
       " ('urllinfield', 1),\n",
       " ('countrygirl', 1),\n",
       " ('nothavingalaughwho', 1),\n",
       " ('urlextremely', 1),\n",
       " ('evc', 1),\n",
       " ('foodcable', 1),\n",
       " ('ttry', 1),\n",
       " ('hummerprofessional', 1),\n",
       " ('exclamationmarkchoosing', 1),\n",
       " ('mulaaa', 1),\n",
       " ('thoughhey', 1),\n",
       " ('gluckuser', 1),\n",
       " ('hasna', 1),\n",
       " ('gluck', 1),\n",
       " ('thania', 1),\n",
       " ('hasnaa', 1),\n",
       " ('kisssamasama', 1),\n",
       " ('sundaylistening', 1),\n",
       " ('multistopfinding', 1),\n",
       " ('urlaaw', 1),\n",
       " ('kikkerland', 1),\n",
       " ('salient', 1),\n",
       " ('issp', 1),\n",
       " ('itthird', 1),\n",
       " ('bracessuckuser', 1),\n",
       " ('upand', 1),\n",
       " ('urlsto', 1),\n",
       " ('dworski', 1),\n",
       " ('belushi', 1),\n",
       " ('periodmet', 1),\n",
       " ('happywts', 1),\n",
       " ('shiihow', 1),\n",
       " ('mariowithout', 1),\n",
       " ('urlbringing', 1),\n",
       " ('automo', 1),\n",
       " ('timeultimate', 1),\n",
       " ('xook', 1),\n",
       " ('magtrend', 1),\n",
       " ('untying', 1),\n",
       " ('duce', 1),\n",
       " ('thenjune', 1),\n",
       " ('easierall', 1),\n",
       " ('oddnewshp', 1),\n",
       " ('wolcott', 1),\n",
       " ('behandlung', 1),\n",
       " ('nagel', 1),\n",
       " ('assfacesatin', 1),\n",
       " ('milliononly', 1),\n",
       " ('cologneno', 1),\n",
       " ('regionfrom', 1),\n",
       " ('exclamationmarkfoolproof', 1),\n",
       " ('multistopfavorite', 1),\n",
       " ('insteadthe', 1),\n",
       " ('fuckyes', 1),\n",
       " ('fuhk', 1),\n",
       " ('fuckyoumannn', 1),\n",
       " ('thugpassion', 1),\n",
       " ('thuglife', 1),\n",
       " ('nowcentral', 1),\n",
       " ('perfectdressbaby', 1),\n",
       " ('romanticcomedyuser', 1),\n",
       " ('hellostranger', 1),\n",
       " ('chickjust', 1),\n",
       " ('rockwellfollow', 1),\n",
       " ('barcoino', 1),\n",
       " ('mysa', 1),\n",
       " ('teroosss', 1),\n",
       " ('maju', 1),\n",
       " ('indrajpiliang', 1),\n",
       " ('lifesnotfairuser', 1),\n",
       " ('ghd', 1),\n",
       " ('leftand', 1),\n",
       " ('incharge', 1),\n",
       " ('systemgonna', 1),\n",
       " ('idctribeca', 1),\n",
       " ('youmom', 1),\n",
       " ('earlierpack', 1),\n",
       " ('shome', 1),\n",
       " ('cryback', 1),\n",
       " ('kisswahh', 1),\n",
       " ('destinyuser', 1),\n",
       " ('killlsss', 1),\n",
       " ('annnkkkllleee', 1),\n",
       " ('questionmarkmyyy', 1),\n",
       " ('compatibleweigh', 1),\n",
       " ('worldmount', 1),\n",
       " ('looolomnimount', 1),\n",
       " ('exclamationmarkbol', 1),\n",
       " ('honestyuser', 1),\n",
       " ('excruciatinguser', 1),\n",
       " ('niteok', 1),\n",
       " ('multip', 1),\n",
       " ('nbeo', 1),\n",
       " ('hartfordbutterworth', 1),\n",
       " ('phomie', 1),\n",
       " ('futuresay', 1),\n",
       " ('counterpoint', 1),\n",
       " ('urllipstick', 1),\n",
       " ('romanticism', 1),\n",
       " ('parentswith', 1),\n",
       " ('exclamationmarkwebster', 1),\n",
       " ('exclamationmarktable', 1),\n",
       " ('followgcsesiregrettaking', 1),\n",
       " ('thereultem', 1),\n",
       " ('waaarsi', 1),\n",
       " ('pustulant', 1),\n",
       " ('slimy', 1),\n",
       " ('singx', 1),\n",
       " ('awesomepictures', 1),\n",
       " ('leaveurl', 1),\n",
       " ('slapshot', 1),\n",
       " ('truewordswatta', 1),\n",
       " ('thismultistop', 1),\n",
       " ('awkies', 1),\n",
       " ('perfectionswell', 1),\n",
       " ('monthjust', 1),\n",
       " ('performancecant', 1),\n",
       " ('outtoday', 1),\n",
       " ('loveshoes', 1),\n",
       " ('allahblessyouthese', 1),\n",
       " ('maudy', 1),\n",
       " ('sundaymakasih', 1),\n",
       " ('panelling', 1),\n",
       " ('dimms', 1),\n",
       " ('nobuenoatallmaritime', 1),\n",
       " ('fdude', 1),\n",
       " ('ifeellockdown', 1),\n",
       " ('conqrats', 1),\n",
       " ('itweet', 1),\n",
       " ('questionmarksoo', 1),\n",
       " ('grandaddyuser', 1),\n",
       " ('bestshoutout', 1),\n",
       " ('exclamationmarkweird', 1),\n",
       " ('tii', 1),\n",
       " ('initcollision', 1),\n",
       " ('todayneed', 1),\n",
       " ('awaycant', 1),\n",
       " ('garagei', 1),\n",
       " ('nowcrisco', 1),\n",
       " ('sadsooo', 1),\n",
       " ('italot', 1),\n",
       " ('himtired', 1),\n",
       " ('inbred', 1),\n",
       " ('mudding', 1),\n",
       " ('orangesundayuser', 1),\n",
       " ('userfeel', 1),\n",
       " ('batrey', 1),\n",
       " ('himoh', 1),\n",
       " ('airplaneuser', 1),\n",
       " ('scvaf', 1),\n",
       " ('morelovelesshateuser', 1),\n",
       " ('fatyun', 1),\n",
       " ('homemen', 1),\n",
       " ('jkust', 1),\n",
       " ('tlking', 1),\n",
       " ('lanyarddd', 1),\n",
       " ('rajans', 1),\n",
       " ('oligarch', 1),\n",
       " ('magnate', 1),\n",
       " ('windowrussia', 1),\n",
       " ('ifrs', 1),\n",
       " ('urlifrs', 1),\n",
       " ('affresh', 1),\n",
       " ('resuming', 1),\n",
       " ('experienceduser', 1),\n",
       " ('himim', 1),\n",
       " ('saludame', 1),\n",
       " ('hecho', 1),\n",
       " ('urlmaisey', 1),\n",
       " ('duplexing', 1),\n",
       " ('dtn', 1),\n",
       " ('fingerboard', 1),\n",
       " ('nowheremtd', 1),\n",
       " ('diablotek', 1),\n",
       " ('multistopdiablotek', 1),\n",
       " ('outraged', 1),\n",
       " ('merrrp', 1),\n",
       " ('kyoce', 1),\n",
       " ('bedddoriginal', 1),\n",
       " ('pagei', 1),\n",
       " ('forrbidin', 1),\n",
       " ('trailerthe', 1),\n",
       " ('yesyesyes', 1),\n",
       " ('whatsnextuser', 1),\n",
       " ('timelined', 1),\n",
       " ('fawud', 1),\n",
       " ('donia', 1),\n",
       " ('talkativebeauty', 1),\n",
       " ('tupacjust', 1),\n",
       " ('savory', 1),\n",
       " ('lifesesmark', 1),\n",
       " ('dyeruser', 1),\n",
       " ('kieron', 1),\n",
       " ('lbecause', 1),\n",
       " ('workmy', 1),\n",
       " ('photojournalism', 1),\n",
       " ('urlphotojournalism', 1),\n",
       " ('benedict', 1),\n",
       " ('jointa', 1),\n",
       " ('sxd', 1),\n",
       " ('mateseiko', 1),\n",
       " ('acguser', 1),\n",
       " ('ficstory', 1),\n",
       " ('firstfivechapters', 1),\n",
       " ('todaylike', 1),\n",
       " ('tortas', 1),\n",
       " ('amazingone', 1),\n",
       " ('hollaruser', 1),\n",
       " ('moldova', 1),\n",
       " ('chisinau', 1),\n",
       " ('rudyard', 1),\n",
       " ('awfulll', 1),\n",
       " ('warplease', 1),\n",
       " ('multistopnowplayin', 1),\n",
       " ('colombo', 1),\n",
       " ('sotiredomg', 1),\n",
       " ('econometrician', 1),\n",
       " ('econometrics', 1),\n",
       " ('sogreatintroduction', 1),\n",
       " ('checkingshopping', 1),\n",
       " ('thatsimple', 1),\n",
       " ('exclamationmarkawee', 1),\n",
       " ('jellyfuck', 1),\n",
       " ('henchness', 1),\n",
       " ('rld', 1),\n",
       " ('exclamationmarkriley', 1),\n",
       " ('heeerethey', 1),\n",
       " ('ouccchuser', 1),\n",
       " ('wahhre', 1),\n",
       " ('kissughh', 1),\n",
       " ('crapyoutube', 1),\n",
       " ('mechelle', 1),\n",
       " ('ironface', 1),\n",
       " ('festivaluser', 1),\n",
       " ('hackney', 1),\n",
       " ('lovedelivery', 1),\n",
       " ('slimmeruser', 1),\n",
       " ('gibbs', 1),\n",
       " ('definently', 1),\n",
       " ('bfffsstudyortwitter', 1),\n",
       " ('uwe', 1),\n",
       " ('loveherlrt', 1),\n",
       " ('questionmarkworrisome', 1),\n",
       " ('anythinglove', 1),\n",
       " ('upevery', 1),\n",
       " ('kissdayyysss', 1),\n",
       " ('gathered', 1),\n",
       " ('jodrell', 1),\n",
       " ('multiobjective', 1),\n",
       " ('wellmight', 1),\n",
       " ('rumourhe', 1),\n",
       " ('rulert', 1),\n",
       " ('callx', 1),\n",
       " ('urleee', 1),\n",
       " ('chellis', 1),\n",
       " ('madridmy', 1),\n",
       " ('rolo', 1),\n",
       " ('coldeveryone', 1),\n",
       " ('tof', 1),\n",
       " ('rainblue', 1),\n",
       " ('itwhat', 1),\n",
       " ('narendra', 1),\n",
       " ('onlineoke', 1),\n",
       " ('exclamationmarkhayatgermanotta', 1),\n",
       " ('tqsuju', 1),\n",
       " ('tqexo', 1),\n",
       " ('seehave', 1),\n",
       " ('questionmarkoperation', 1),\n",
       " ('taee', 1),\n",
       " ('breche', 1),\n",
       " ('ameverybody', 1),\n",
       " ('antiviral', 1),\n",
       " ('nightclinical', 1),\n",
       " ('lolbrunner', 1),\n",
       " ('siging', 1),\n",
       " ('cutewhy', 1),\n",
       " ('dreamthis', 1),\n",
       " ('multistopnffc', 1),\n",
       " ('facewatching', 1),\n",
       " ('noaltontowerslmao', 1),\n",
       " ('evilfive', 1),\n",
       " ('gooon', 1),\n",
       " ('spelli', 1),\n",
       " ('staystrongzayn', 1),\n",
       " ('betterdid', 1),\n",
       " ('himalayans', 1),\n",
       " ('reallifeif', 1),\n",
       " ('exclamationmarknesting', 1),\n",
       " ('multistoplenscoat', 1),\n",
       " ('packthe', 1),\n",
       " ('schooliconcepts', 1),\n",
       " ('nooowhy', 1),\n",
       " ('nightguardiola', 1),\n",
       " ('gorgoues', 1),\n",
       " ('afterbow', 1),\n",
       " ('attackin', 1),\n",
       " ('involuntary', 1),\n",
       " ('camco', 1),\n",
       " ('thocamco', 1),\n",
       " ('basketballwives', 1),\n",
       " ('kwmad', 1),\n",
       " ('relationshipapplecare', 1),\n",
       " ('yeayyrt', 1),\n",
       " ('ambik', 1),\n",
       " ('juru', 1),\n",
       " ('naza', 1),\n",
       " ('lajak', 1),\n",
       " ('exclamationmarkesok', 1),\n",
       " ('guitaristuser', 1),\n",
       " ('caprisunsi', 1),\n",
       " ('backjenny', 1),\n",
       " ('familiaruser', 1),\n",
       " ('legendliam', 1),\n",
       " ('freezingnew', 1),\n",
       " ('youmeal', 1),\n",
       " ('itvrt', 1),\n",
       " ('celebjuice', 1),\n",
       " ('teasermissing', 1),\n",
       " ('stalkingmustbedonex', 1),\n",
       " ('justrememberthat', 1),\n",
       " ('parisgonna', 1),\n",
       " ('whoreback', 1),\n",
       " ('foiachatuser', 1),\n",
       " ('hhactually', 1),\n",
       " ('normative', 1),\n",
       " ('rationality', 1),\n",
       " ('morningpatriotism', 1),\n",
       " ('migrainethis', 1),\n",
       " ('bedstuck', 1),\n",
       " ('beginnot', 1),\n",
       " ('chillingoutuser', 1),\n",
       " ('joslyn', 1),\n",
       " ('kailees', 1),\n",
       " ('bengali', 1),\n",
       " ('gaurie', 1),\n",
       " ('wellgangli', 1),\n",
       " ('teazers', 1),\n",
       " ('corriii', 1),\n",
       " ('disappointedsummer', 1),\n",
       " ('stowing', 1),\n",
       " ('caddy', 1),\n",
       " ('urltenba', 1),\n",
       " ('dribbble', 1),\n",
       " ('datebuild', 1),\n",
       " ('urlcraig', 1),\n",
       " ('malden', 1),\n",
       " ('friendzonehi', 1),\n",
       " ('keepp', 1),\n",
       " ('greystoneuser', 1),\n",
       " ('urlpromounts', 1),\n",
       " ('charting', 1),\n",
       " ('runnerunderneath', 1),\n",
       " ('lovetweet', 1),\n",
       " ('qoodmorninq', 1),\n",
       " ('jobminu', 1),\n",
       " ('wabush', 1),\n",
       " ('twitcamsenior', 1),\n",
       " ('bestthingeveruser', 1),\n",
       " ('basei', 1),\n",
       " ('caerphilly', 1),\n",
       " ('kisstommycooper', 1),\n",
       " ('urlgay', 1),\n",
       " ('shanahan', 1),\n",
       " ('gaurdmust', 1),\n",
       " ('assignmentcontract', 1),\n",
       " ('timelength', 1),\n",
       " ('prosthodontist', 1),\n",
       " ('xxjob', 1),\n",
       " ('veiwers', 1),\n",
       " ('unquiet', 1),\n",
       " ('faceurl', 1),\n",
       " ('ktxt', 1),\n",
       " ('gogetemuser', 1),\n",
       " ('urlheading', 1),\n",
       " ('yeaaamy', 1),\n",
       " ('stackmodeokay', 1),\n",
       " ('southfield', 1),\n",
       " ('haveanyone', 1),\n",
       " ('firth', 1),\n",
       " ('whymei', 1),\n",
       " ('farra', 1),\n",
       " ('nthis', 1),\n",
       " ('kxphq', 1),\n",
       " ('leftdownload', 1),\n",
       " ('monthwhen', 1),\n",
       " ('abdominal', 1),\n",
       " ('urlfuturo', 1),\n",
       " ('makinggg', 1),\n",
       " ('lozzabubble', 1),\n",
       " ('requiredlauren', 1),\n",
       " ('canopener', 1),\n",
       " ('burying', 1),\n",
       " ('guni', 1),\n",
       " ('weimar', 1),\n",
       " ('bedwhen', 1),\n",
       " ('exclamationmarkpresence', 1),\n",
       " ('lucythe', 1),\n",
       " ('budgeting', 1),\n",
       " ('rinsegraphic', 1),\n",
       " ('weloveyouashleyuser', 1),\n",
       " ('splatterific', 1),\n",
       " ('usermeatball', 1),\n",
       " ('consumerization', 1),\n",
       " ('urldolphin', 1),\n",
       " ('mommylemmein', 1),\n",
       " ('hepcat', 1),\n",
       " ('lovemommylemmein', 1),\n",
       " ('jirehlimiansuser', 1),\n",
       " ('caggie', 1),\n",
       " ('doodsearching', 1),\n",
       " ('loooltwitter', 1),\n",
       " ('surrport', 1),\n",
       " ('proctoring', 1),\n",
       " ('goodjobuser', 1),\n",
       " ('welcum', 1),\n",
       " ('questionmarkchild', 1),\n",
       " ('bratz', 1),\n",
       " ('backlet', 1),\n",
       " ('musafa', 1),\n",
       " ('flourished', 1),\n",
       " ('touchuser', 1),\n",
       " ('benidormuser', 1),\n",
       " ('xoxsooo', 1),\n",
       " ('leavinuser', 1),\n",
       " ('wallywestuser', 1),\n",
       " ('lovejesse', 1),\n",
       " ('waaab', 1),\n",
       " ('asha', 1),\n",
       " ('usergreysonchance', 1),\n",
       " ('nowhearing', 1),\n",
       " ('blackveilbridescccocweetrt', 1),\n",
       " ('accelerating', 1),\n",
       " ('policymaking', 1),\n",
       " ('questionmarkpolitics', 1),\n",
       " ('fiennes', 1),\n",
       " ('thingsisayduringschoola', 1),\n",
       " ('imlimitededitionfreeboosie', 1),\n",
       " ('makinnnormal', 1),\n",
       " ('rammstein', 1),\n",
       " ('brennt', 1),\n",
       " ('herz', 1),\n",
       " ('rasch', 1),\n",
       " ('pricedtorsten', 1),\n",
       " ('kanekalon', 1),\n",
       " ('tabitha', 1),\n",
       " ('funiddnt', 1),\n",
       " ('exclamationmarkpouring', 1),\n",
       " ('everywere', 1),\n",
       " ('testmy', 1),\n",
       " ('hahawhoop', 1),\n",
       " ('pwesent', 1),\n",
       " ('amosomeone', 1),\n",
       " ('thatks', 1),\n",
       " ('summerme', 1),\n",
       " ('proshares', 1),\n",
       " ('kissproshares', 1),\n",
       " ('uedher', 1),\n",
       " ('exclamationmarkintolerant', 1),\n",
       " ('rtselected', 1),\n",
       " ('cmlipeepsneca', 1),\n",
       " ('ribery', 1),\n",
       " ('robben', 1),\n",
       " ('boxfollowed', 1),\n",
       " ('yz', 1),\n",
       " ('todcarbon', 1),\n",
       " ('ticketpardon', 1),\n",
       " ('urlfaus', 1),\n",
       " ('brita', 1),\n",
       " ('ninuser', 1),\n",
       " ('multistoppositif', 1),\n",
       " ('unreplaceableuser', 1),\n",
       " ('softthought', 1),\n",
       " ('monsta', 1),\n",
       " ('herur', 1),\n",
       " ('partnercant', 1),\n",
       " ('reaallly', 1),\n",
       " ('hguser', 1),\n",
       " ('ungroundeduser', 1),\n",
       " ('multistopstrawberrypicking', 1),\n",
       " ('voiced', 1),\n",
       " ('vowelled', 1),\n",
       " ('mesing', 1),\n",
       " ('minat', 1),\n",
       " ('jbl', 1),\n",
       " ('goodjbl', 1),\n",
       " ('nli', 1),\n",
       " ('triplefi', 1),\n",
       " ('upultimate', 1),\n",
       " ('fewhero', 1),\n",
       " ('questionmarkenjoying', 1),\n",
       " ('cutepeace', 1),\n",
       " ('endp', 1),\n",
       " ('noregretscheck', 1),\n",
       " ('beingawimp', 1),\n",
       " ('mindwhat', 1),\n",
       " ('faceinhole', 1),\n",
       " ('multistopjenifer', 1),\n",
       " ('innova', 1),\n",
       " ('greatx', 1),\n",
       " ('performanceaghh', 1),\n",
       " ('lollynever', 1),\n",
       " ('himanother', 1),\n",
       " ('richo', 1),\n",
       " ('girrrlso', 1),\n",
       " ('newgoodnight', 1),\n",
       " ('exclamationmarkincubus', 1),\n",
       " ('iammasterchef', 1),\n",
       " ('caringvitamin', 1),\n",
       " ('stupidthe', 1),\n",
       " ('yeared', 1),\n",
       " ('tanias', 1),\n",
       " ('multistoppacific', 1),\n",
       " ('itbeer', 1),\n",
       " ('wheeling', 1),\n",
       " ('nothad', 1),\n",
       " ('adventourous', 1),\n",
       " ('pleasegot', 1),\n",
       " ('emaili', 1),\n",
       " ('pardonuser', 1),\n",
       " ('etais', 1),\n",
       " ('oups', 1),\n",
       " ('phonefrantic', 1),\n",
       " ('physicx', 1),\n",
       " ('urlyep', 1),\n",
       " ('mulletwd', 1),\n",
       " ('shoutoutsof', 1),\n",
       " ('barfing', 1),\n",
       " ('loveafter', 1),\n",
       " ('ragles', 1),\n",
       " ('packetjustine', 1),\n",
       " ('bottem', 1),\n",
       " ('disapointing', 1),\n",
       " ('partnathe', 1),\n",
       " ('wasssuppprt', 1),\n",
       " ('themmeanie', 1),\n",
       " ('bolan', 1),\n",
       " ('dealornodealuser', 1),\n",
       " ('slayuser', 1),\n",
       " ('rtwhen', 1),\n",
       " ('comunities', 1),\n",
       " ('multistopmemorex', 1),\n",
       " ('shouldntuser', 1),\n",
       " ('asoswant', 1),\n",
       " ('themmmuser', 1),\n",
       " ('twoweeksleftone', 1),\n",
       " ('attbrockport', 1),\n",
       " ('exclamationmarkilykk', 1),\n",
       " ('theateruser', 1),\n",
       " ('costauser', 1),\n",
       " ('moneygonnna', 1),\n",
       " ('occu', 1),\n",
       " ('urlot', 1),\n",
       " ('blockedtexas', 1),\n",
       " ('syringed', 1),\n",
       " ('pervygot', 1),\n",
       " ('nowxthe', 1),\n",
       " ('myst', 1),\n",
       " ('ecuadorianproblemsuser', 1),\n",
       " ('wayyay', 1),\n",
       " ('participationpointsuser', 1),\n",
       " ('tireda', 1),\n",
       " ('speakonly', 1),\n",
       " ('jizz', 1),\n",
       " ('lettermy', 1),\n",
       " ('nstved', 1),\n",
       " ('naestved', 1),\n",
       " ('partyinggguser', 1),\n",
       " ('questionthoughtsduringschool', 1),\n",
       " ('classed', 1),\n",
       " ('yourespecialand', 1),\n",
       " ('meegaauser', 1),\n",
       " ('beides', 1),\n",
       " ('aber', 1),\n",
       " ('eher', 1),\n",
       " ('korn', 1),\n",
       " ('killswitch', 1),\n",
       " ('hatinot', 1),\n",
       " ('tulu', 1),\n",
       " ('ngomong', 1),\n",
       " ('moneycoba', 1),\n",
       " ('insulation', 1),\n",
       " ('exclamationmarkarcor', 1),\n",
       " ('multistopolympus', 1),\n",
       " ('siccin', 1),\n",
       " ('clowning', 1),\n",
       " ('scoregotta', 1),\n",
       " ('exclamationmarkdiscount', 1),\n",
       " ('revolutioni', 1),\n",
       " ('goldman', 1),\n",
       " ('permeable', 1),\n",
       " ('magsafe', 1),\n",
       " ('powercurl', 1),\n",
       " ('questionmarkquirky', 1),\n",
       " ('whhyy', 1),\n",
       " ('vampirediaries', 1),\n",
       " ('wellnah', 1),\n",
       " ('urlwished', 1),\n",
       " ('imissedyouthe', 1),\n",
       " ('lakesideee', 1),\n",
       " ('cutesti', 1),\n",
       " ('yeyeyeyeyey', 1),\n",
       " ('mmuah', 1),\n",
       " ('fahmiapexs', 1),\n",
       " ('chanuser', 1),\n",
       " ('beeesstt', 1),\n",
       " ('hatsune', 1),\n",
       " ('pierrot', 1),\n",
       " ('karakuri', 1),\n",
       " ('accelerated', 1),\n",
       " ('sillyaccelerated', 1),\n",
       " ('serpil', 1),\n",
       " ('shordyso', 1),\n",
       " ('exclamationmarkg', 1),\n",
       " ('missingmysistersuser', 1),\n",
       " ('boise', 1),\n",
       " ('leftfinallly', 1),\n",
       " ('bodyspray', 1),\n",
       " ('hahaaxe', 1),\n",
       " ('suckedit', 1),\n",
       " ('travisuser', 1),\n",
       " ('whymeby', 1),\n",
       " ('youaccidentally', 1),\n",
       " ('leavedick', 1),\n",
       " ('urllovewillfindyou', 1),\n",
       " ('twittertakeover', 1),\n",
       " ('favoteksti', 1),\n",
       " ('comfyit', 1),\n",
       " ('fatherthe', 1),\n",
       " ('vadodarauser', 1),\n",
       " ('timesofindia', 1),\n",
       " ('akki', 1),\n",
       " ('hungryskinit', 1),\n",
       " ('goroamans', 1),\n",
       " ('gravesend', 1),\n",
       " ('swiftuser', 1),\n",
       " ...]"
      ]
     },
     "execution_count": 143,
     "metadata": {},
     "output_type": "execute_result"
    }
   ],
   "source": [
    "Counter.most_common()[:-10000-1:-1]"
   ]
  },
  {
   "cell_type": "code",
   "execution_count": 163,
   "metadata": {},
   "outputs": [
    {
     "data": {
      "text/plain": [
       "110952"
      ]
     },
     "execution_count": 163,
     "metadata": {},
     "output_type": "execute_result"
    }
   ],
   "source": [
    "len(Counter)"
   ]
  },
  {
   "cell_type": "code",
   "execution_count": 125,
   "metadata": {},
   "outputs": [
    {
     "data": {
      "text/plain": [
       "['multistop',\n",
       " 'i',\n",
       " 'kiss',\n",
       " 'the',\n",
       " 'to',\n",
       " 'you',\n",
       " 'a',\n",
       " 'user',\n",
       " 'exclamationmark',\n",
       " 'and',\n",
       " 'it',\n",
       " 'my',\n",
       " 'not',\n",
       " 'of',\n",
       " 'is',\n",
       " 'me',\n",
       " 'for',\n",
       " 'in',\n",
       " 's',\n",
       " 'that',\n",
       " 'm',\n",
       " 'questionmark',\n",
       " 'on',\n",
       " 'this',\n",
       " 'with',\n",
       " 'so',\n",
       " 'have',\n",
       " 'urluser',\n",
       " 'do',\n",
       " 'be']"
      ]
     },
     "execution_count": 125,
     "metadata": {},
     "output_type": "execute_result"
    }
   ],
   "source": [
    "[x[0] for x in Counter.most_common(30)]"
   ]
  },
  {
   "cell_type": "code",
   "execution_count": 174,
   "metadata": {},
   "outputs": [
    {
     "name": "stdout",
     "output_type": "stream",
     "text": [
      "RESULT FOR UNIGRAM WITHOUT FREQUENT STOP WORDS (based on most common words) \n",
      "\n",
      "LogisticRegression(C=1.0, class_weight=None, dual=False, fit_intercept=True,\n",
      "                   intercept_scaling=1, l1_ratio=None, max_iter=100,\n",
      "                   multi_class='auto', n_jobs=None, penalty='l2',\n",
      "                   random_state=None, solver='lbfgs', tol=0.0001, verbose=0,\n",
      "                   warm_start=False)\n",
      "\n",
      "\n",
      "Validation result for 10000 features\n",
      "null accuracy: 50.08%\n",
      "accuracy score: 79.53%\n",
      "model is 29.45% more accurate than null accuracy\n",
      "train and test time: 8.99s\n",
      "--------------------------------------------------------------------------------\n",
      "Validation result for 20000 features\n",
      "null accuracy: 50.08%\n",
      "accuracy score: 79.55%\n",
      "model is 29.47% more accurate than null accuracy\n",
      "train and test time: 8.96s\n",
      "--------------------------------------------------------------------------------\n",
      "Validation result for 30000 features\n",
      "null accuracy: 50.08%\n",
      "accuracy score: 79.56%\n",
      "model is 29.48% more accurate than null accuracy\n",
      "train and test time: 9.32s\n",
      "--------------------------------------------------------------------------------\n",
      "Validation result for 40000 features\n",
      "null accuracy: 50.08%\n",
      "accuracy score: 79.55%\n",
      "model is 29.47% more accurate than null accuracy\n",
      "train and test time: 9.21s\n",
      "--------------------------------------------------------------------------------\n",
      "Validation result for 50000 features\n",
      "null accuracy: 50.08%\n",
      "accuracy score: 79.55%\n",
      "model is 29.46% more accurate than null accuracy\n",
      "train and test time: 9.91s\n",
      "--------------------------------------------------------------------------------\n",
      "Validation result for 60000 features\n",
      "null accuracy: 50.08%\n",
      "accuracy score: 79.59%\n",
      "model is 29.50% more accurate than null accuracy\n",
      "train and test time: 10.58s\n",
      "--------------------------------------------------------------------------------\n",
      "Validation result for 70000 features\n",
      "null accuracy: 50.08%\n",
      "accuracy score: 79.63%\n",
      "model is 29.54% more accurate than null accuracy\n",
      "train and test time: 9.89s\n",
      "--------------------------------------------------------------------------------\n",
      "Wall time: 1min 7s\n"
     ]
    }
   ],
   "source": [
    "%%time\n",
    "#Custom stopwords,  we got this from the analysis on the other notebook (with the red&green barplots)\n",
    "#freq_stop_words = {x[0] for x in Counter.most_common(10)}\n",
    "\n",
    "freq_stop_words = {'a', 'and', 'i', 'is', 'it', 'for', 'me', 'multistop', 'my', 'of', 's', 'the', 'that', 'to', 'you',\\\n",
    "                  'down', 'have', 'hers', 'their', 'for', 'themselves', 'in', 'so', 'do', 'm', 'such', 'here', 'be', 'at',\\\n",
    "                    'being', 'does', 'a', 'while', 'with', 'itself', 'its', 'am', 'above', 'myself', 'own',\\\n",
    "                    'same', 'as', 'my', 'which', 'to', 'were', 'did', 'after', 'his', 'are'\\\n",
    "                    'they', 'other', 'theirs'} | {x[0] for x in Counter.most_common()[:-2500-1:-1]}\n",
    "print (\"RESULT FOR UNIGRAM WITHOUT FREQUENT STOP WORDS (based on most common words) \\n\")\n",
    "feature_result_freq_stop = nfeature_accuracy_checker(stop_words=freq_stop_words)"
   ]
  },
  {
   "cell_type": "code",
   "execution_count": 175,
   "metadata": {},
   "outputs": [
    {
     "data": {
      "text/plain": [
       "<matplotlib.legend.Legend at 0x18ecb4f2278>"
      ]
     },
     "execution_count": 175,
     "metadata": {},
     "output_type": "execute_result"
    },
    {
     "data": {
      "image/png": "[encoded data removed]",
      "text/plain": [
       "<Figure size 576x432 with 1 Axes>"
      ]
     },
     "metadata": {
      "needs_background": "light"
     },
     "output_type": "display_data"
    }
   ],
   "source": [
    "plt.figure(figsize=(8,6))\n",
    "plt.plot(n_features, feature_result_with_stop, label='with stop words')\n",
    "plt.plot(n_features, feature_result_custom_stop,label='without custom stop words')\n",
    "plt.plot(n_features, feature_result_without_stop,label='without stop words')\n",
    "plt.plot(n_features, feature_result_freq_stop,label='frequency stop words not included')\n",
    "plt.title(\"Without stop words VS With stop words (Unigram): Accuracy\")\n",
    "plt.xlabel(\"Number of features\")\n",
    "plt.ylabel(\"Validation set accuracy\")\n",
    "plt.legend()"
   ]
  },
  {
   "cell_type": "markdown",
   "metadata": {},
   "source": [
    "### N Grams"
   ]
  },
  {
   "cell_type": "code",
   "execution_count": 29,
   "metadata": {
    "scrolled": true
   },
   "outputs": [
    {
     "name": "stdout",
     "output_type": "stream",
     "text": [
      "RESULT FOR BIGRAM WITH STOP WORDS\n",
      "\n",
      "LogisticRegression(C=1.0, class_weight=None, dual=False, fit_intercept=True,\n",
      "                   intercept_scaling=1, l1_ratio=None, max_iter=100,\n",
      "                   multi_class='auto', n_jobs=None, penalty='l2',\n",
      "                   random_state=None, solver='lbfgs', tol=0.0001, verbose=0,\n",
      "                   warm_start=False)\n",
      "\n",
      "\n",
      "Validation result for 10000 features\n"
     ]
    },
    {
     "name": "stderr",
     "output_type": "stream",
     "text": [
      "c:\\programdata\\anaconda3\\envs\\tensorflow_cpu\\lib\\site-packages\\sklearn\\linear_model\\_logistic.py:939: ConvergenceWarning: lbfgs failed to converge (status=1):\n",
      "STOP: TOTAL NO. of ITERATIONS REACHED LIMIT.\n",
      "\n",
      "Increase the number of iterations (max_iter) or scale the data as shown in:\n",
      "    https://scikit-learn.org/stable/modules/preprocessing.html.\n",
      "Please also refer to the documentation for alternative solver options:\n",
      "    https://scikit-learn.org/stable/modules/linear_model.html#logistic-regression\n",
      "  extra_warning_msg=_LOGISTIC_SOLVER_CONVERGENCE_MSG)\n"
     ]
    },
    {
     "name": "stdout",
     "output_type": "stream",
     "text": [
      "null accuracy: 50.08%\n",
      "accuracy score: 81.06%\n",
      "model is 30.98% more accurate than null accuracy\n",
      "train and test time: 16.85s\n",
      "--------------------------------------------------------------------------------\n",
      "Validation result for 20000 features\n",
      "null accuracy: 50.08%\n",
      "accuracy score: 81.69%\n",
      "model is 31.60% more accurate than null accuracy\n",
      "train and test time: 17.86s\n",
      "--------------------------------------------------------------------------------\n",
      "Validation result for 30000 features\n"
     ]
    },
    {
     "name": "stderr",
     "output_type": "stream",
     "text": [
      "c:\\programdata\\anaconda3\\envs\\tensorflow_cpu\\lib\\site-packages\\sklearn\\linear_model\\_logistic.py:939: ConvergenceWarning: lbfgs failed to converge (status=1):\n",
      "STOP: TOTAL NO. of ITERATIONS REACHED LIMIT.\n",
      "\n",
      "Increase the number of iterations (max_iter) or scale the data as shown in:\n",
      "    https://scikit-learn.org/stable/modules/preprocessing.html.\n",
      "Please also refer to the documentation for alternative solver options:\n",
      "    https://scikit-learn.org/stable/modules/linear_model.html#logistic-regression\n",
      "  extra_warning_msg=_LOGISTIC_SOLVER_CONVERGENCE_MSG)\n"
     ]
    },
    {
     "name": "stdout",
     "output_type": "stream",
     "text": [
      "null accuracy: 50.08%\n",
      "accuracy score: 81.79%\n",
      "model is 31.71% more accurate than null accuracy\n",
      "train and test time: 18.32s\n",
      "--------------------------------------------------------------------------------\n",
      "Validation result for 40000 features\n"
     ]
    },
    {
     "name": "stderr",
     "output_type": "stream",
     "text": [
      "c:\\programdata\\anaconda3\\envs\\tensorflow_cpu\\lib\\site-packages\\sklearn\\linear_model\\_logistic.py:939: ConvergenceWarning: lbfgs failed to converge (status=1):\n",
      "STOP: TOTAL NO. of ITERATIONS REACHED LIMIT.\n",
      "\n",
      "Increase the number of iterations (max_iter) or scale the data as shown in:\n",
      "    https://scikit-learn.org/stable/modules/preprocessing.html.\n",
      "Please also refer to the documentation for alternative solver options:\n",
      "    https://scikit-learn.org/stable/modules/linear_model.html#logistic-regression\n",
      "  extra_warning_msg=_LOGISTIC_SOLVER_CONVERGENCE_MSG)\n"
     ]
    },
    {
     "name": "stdout",
     "output_type": "stream",
     "text": [
      "null accuracy: 50.08%\n",
      "accuracy score: 81.85%\n",
      "model is 31.76% more accurate than null accuracy\n",
      "train and test time: 18.81s\n",
      "--------------------------------------------------------------------------------\n",
      "Validation result for 50000 features\n"
     ]
    },
    {
     "name": "stderr",
     "output_type": "stream",
     "text": [
      "c:\\programdata\\anaconda3\\envs\\tensorflow_cpu\\lib\\site-packages\\sklearn\\linear_model\\_logistic.py:939: ConvergenceWarning: lbfgs failed to converge (status=1):\n",
      "STOP: TOTAL NO. of ITERATIONS REACHED LIMIT.\n",
      "\n",
      "Increase the number of iterations (max_iter) or scale the data as shown in:\n",
      "    https://scikit-learn.org/stable/modules/preprocessing.html.\n",
      "Please also refer to the documentation for alternative solver options:\n",
      "    https://scikit-learn.org/stable/modules/linear_model.html#logistic-regression\n",
      "  extra_warning_msg=_LOGISTIC_SOLVER_CONVERGENCE_MSG)\n"
     ]
    },
    {
     "name": "stdout",
     "output_type": "stream",
     "text": [
      "null accuracy: 50.08%\n",
      "accuracy score: 81.81%\n",
      "model is 31.73% more accurate than null accuracy\n",
      "train and test time: 18.58s\n",
      "--------------------------------------------------------------------------------\n",
      "Validation result for 60000 features\n"
     ]
    },
    {
     "name": "stderr",
     "output_type": "stream",
     "text": [
      "c:\\programdata\\anaconda3\\envs\\tensorflow_cpu\\lib\\site-packages\\sklearn\\linear_model\\_logistic.py:939: ConvergenceWarning: lbfgs failed to converge (status=1):\n",
      "STOP: TOTAL NO. of ITERATIONS REACHED LIMIT.\n",
      "\n",
      "Increase the number of iterations (max_iter) or scale the data as shown in:\n",
      "    https://scikit-learn.org/stable/modules/preprocessing.html.\n",
      "Please also refer to the documentation for alternative solver options:\n",
      "    https://scikit-learn.org/stable/modules/linear_model.html#logistic-regression\n",
      "  extra_warning_msg=_LOGISTIC_SOLVER_CONVERGENCE_MSG)\n"
     ]
    },
    {
     "name": "stdout",
     "output_type": "stream",
     "text": [
      "null accuracy: 50.08%\n",
      "accuracy score: 81.80%\n",
      "model is 31.71% more accurate than null accuracy\n",
      "train and test time: 18.95s\n",
      "--------------------------------------------------------------------------------\n",
      "Validation result for 70000 features\n"
     ]
    },
    {
     "name": "stderr",
     "output_type": "stream",
     "text": [
      "c:\\programdata\\anaconda3\\envs\\tensorflow_cpu\\lib\\site-packages\\sklearn\\linear_model\\_logistic.py:939: ConvergenceWarning: lbfgs failed to converge (status=1):\n",
      "STOP: TOTAL NO. of ITERATIONS REACHED LIMIT.\n",
      "\n",
      "Increase the number of iterations (max_iter) or scale the data as shown in:\n",
      "    https://scikit-learn.org/stable/modules/preprocessing.html.\n",
      "Please also refer to the documentation for alternative solver options:\n",
      "    https://scikit-learn.org/stable/modules/linear_model.html#logistic-regression\n",
      "  extra_warning_msg=_LOGISTIC_SOLVER_CONVERGENCE_MSG)\n"
     ]
    },
    {
     "name": "stdout",
     "output_type": "stream",
     "text": [
      "null accuracy: 50.08%\n",
      "accuracy score: 81.79%\n",
      "model is 31.71% more accurate than null accuracy\n",
      "train and test time: 20.46s\n",
      "--------------------------------------------------------------------------------\n",
      "Wall time: 2min 9s\n"
     ]
    }
   ],
   "source": [
    "%%time\n",
    "print (\"RESULT FOR BIGRAM WITH STOP WORDS\\n\")\n",
    "feature_result_bg = nfeature_accuracy_checker(ngram_range=(1, 2))"
   ]
  },
  {
   "cell_type": "code",
   "execution_count": 46,
   "metadata": {
    "scrolled": true
   },
   "outputs": [
    {
     "name": "stdout",
     "output_type": "stream",
     "text": [
      "RESULT FOR BIGRAM WITHOUT CUSTOM STOP WORDS\n",
      "\n",
      "LogisticRegression(C=1.0, class_weight=None, dual=False, fit_intercept=True,\n",
      "                   intercept_scaling=1, l1_ratio=None, max_iter=100,\n",
      "                   multi_class='auto', n_jobs=None, penalty='l2',\n",
      "                   random_state=None, solver='lbfgs', tol=0.0001, verbose=0,\n",
      "                   warm_start=False)\n",
      "\n",
      "\n",
      "Validation result for 10000 features\n",
      "null accuracy: 50.08%\n",
      "accuracy score: 81.04%\n",
      "model is 30.95% more accurate than null accuracy\n",
      "train and test time: 17.32s\n",
      "--------------------------------------------------------------------------------\n",
      "Validation result for 20000 features\n",
      "null accuracy: 50.08%\n",
      "accuracy score: 81.44%\n",
      "model is 31.36% more accurate than null accuracy\n",
      "train and test time: 17.21s\n",
      "--------------------------------------------------------------------------------\n",
      "Validation result for 30000 features\n",
      "null accuracy: 50.08%\n",
      "accuracy score: 81.55%\n",
      "model is 31.47% more accurate than null accuracy\n",
      "train and test time: 18.34s\n",
      "--------------------------------------------------------------------------------\n",
      "Validation result for 40000 features\n",
      "null accuracy: 50.08%\n",
      "accuracy score: 81.62%\n",
      "model is 31.53% more accurate than null accuracy\n",
      "train and test time: 18.21s\n",
      "--------------------------------------------------------------------------------\n",
      "Validation result for 50000 features\n",
      "null accuracy: 50.08%\n",
      "accuracy score: 81.63%\n",
      "model is 31.55% more accurate than null accuracy\n",
      "train and test time: 19.48s\n",
      "--------------------------------------------------------------------------------\n",
      "Validation result for 60000 features\n",
      "null accuracy: 50.08%\n",
      "accuracy score: 81.63%\n",
      "model is 31.55% more accurate than null accuracy\n",
      "train and test time: 19.02s\n",
      "--------------------------------------------------------------------------------\n",
      "Validation result for 70000 features\n",
      "null accuracy: 50.08%\n",
      "accuracy score: 81.63%\n",
      "model is 31.55% more accurate than null accuracy\n",
      "train and test time: 18.90s\n",
      "--------------------------------------------------------------------------------\n",
      "Wall time: 2min 8s\n"
     ]
    }
   ],
   "source": [
    "%%time\n",
    "#Custom stopwords,  we got them from the analysis on the other notebook (with the red & green barplots)\n",
    "custom_stop_words = {'down', 'have', 'hers', 'their', 'herself', 'for', 'themselves', 'such', 'here', 'at',\\\n",
    "                    'being', 'does', 'a', 'while', 'with', 'itself', 'its', 'am', 'above', 'myself', 'own',\\\n",
    "                    'same', 'as', 'my', 'off', 'which', 'to', 'were', 'did', 'after', 'because', 'his', 'are'\\\n",
    "                    'they', 'other', 'theirs'}\n",
    "print (\"RESULT FOR BIGRAM WITHOUT CUSTOM STOP WORDS\\n\")\n",
    "feature_result_bg_custom_stop = nfeature_accuracy_checker(ngram_range=(1,2),stop_words=custom_stop_words)"
   ]
  },
  {
   "cell_type": "code",
   "execution_count": 48,
   "metadata": {},
   "outputs": [
    {
     "data": {
      "text/plain": [
       "<matplotlib.legend.Legend at 0x18ecbbebc50>"
      ]
     },
     "execution_count": 48,
     "metadata": {},
     "output_type": "execute_result"
    },
    {
     "data": {
      "image/png": "[encoded data removed]",
      "text/plain": [
       "<Figure size 576x432 with 1 Axes>"
      ]
     },
     "metadata": {
      "needs_background": "light"
     },
     "output_type": "display_data"
    }
   ],
   "source": [
    "plt.figure(figsize=(8,6))\n",
    "plt.plot(n_features, feature_result_bg,label='bigram, stopwords included')\n",
    "plt.plot(n_features, feature_result_bg_custom_stop,label='bigram, stopwords removed')\n",
    "plt.plot(n_features, feature_result_without_stop, label='unigram')\n",
    "plt.title(\"N-gram(1~2) test result : Accuracy\")\n",
    "plt.xlabel(\"Number of features\")\n",
    "plt.ylabel(\"Validation set accuracy\")\n",
    "plt.legend()"
   ]
  },
  {
   "cell_type": "code",
   "execution_count": 52,
   "metadata": {
    "scrolled": false
   },
   "outputs": [
    {
     "name": "stdout",
     "output_type": "stream",
     "text": [
      "RESULT FOR TRIGRAM WITH STOP WORDS\n",
      "\n",
      "LogisticRegression(C=1.0, class_weight=None, dual=False, fit_intercept=True,\n",
      "                   intercept_scaling=1, l1_ratio=None, max_iter=100,\n",
      "                   multi_class='auto', n_jobs=None, penalty='l2',\n",
      "                   random_state=None, solver='lbfgs', tol=0.0001, verbose=0,\n",
      "                   warm_start=False)\n",
      "\n",
      "\n",
      "Validation result for 10000 features\n",
      "null accuracy: 50.08%\n",
      "accuracy score: 81.08%\n",
      "model is 31.00% more accurate than null accuracy\n",
      "train and test time: 32.18s\n",
      "--------------------------------------------------------------------------------\n",
      "Validation result for 20000 features\n",
      "null accuracy: 50.08%\n",
      "accuracy score: 81.53%\n",
      "model is 31.45% more accurate than null accuracy\n",
      "train and test time: 31.02s\n",
      "--------------------------------------------------------------------------------\n",
      "Validation result for 30000 features\n",
      "null accuracy: 50.08%\n",
      "accuracy score: 81.79%\n",
      "model is 31.70% more accurate than null accuracy\n",
      "train and test time: 29.89s\n",
      "--------------------------------------------------------------------------------\n",
      "Validation result for 40000 features\n",
      "null accuracy: 50.08%\n",
      "accuracy score: 81.84%\n",
      "model is 31.76% more accurate than null accuracy\n",
      "train and test time: 30.02s\n",
      "--------------------------------------------------------------------------------\n",
      "Validation result for 50000 features\n",
      "null accuracy: 50.08%\n",
      "accuracy score: 81.82%\n",
      "model is 31.73% more accurate than null accuracy\n",
      "train and test time: 30.68s\n",
      "--------------------------------------------------------------------------------\n",
      "Validation result for 60000 features\n",
      "null accuracy: 50.08%\n",
      "accuracy score: 81.83%\n",
      "model is 31.74% more accurate than null accuracy\n",
      "train and test time: 30.32s\n",
      "--------------------------------------------------------------------------------\n",
      "Validation result for 70000 features\n",
      "null accuracy: 50.08%\n",
      "accuracy score: 81.84%\n",
      "model is 31.75% more accurate than null accuracy\n",
      "train and test time: 32.60s\n",
      "--------------------------------------------------------------------------------\n",
      "Wall time: 3min 36s\n"
     ]
    }
   ],
   "source": [
    "%%time\n",
    "print (\"RESULT FOR TRIGRAM WITH STOP WORDS\\n\")\n",
    "feature_result_tg = nfeature_accuracy_checker(ngram_range=(1, 3))"
   ]
  },
  {
   "cell_type": "code",
   "execution_count": 47,
   "metadata": {},
   "outputs": [
    {
     "name": "stdout",
     "output_type": "stream",
     "text": [
      "RESULT FOR TRIGRAM WITHOUT CUSTOM STOP WORDS\n",
      "\n",
      "LogisticRegression(C=1.0, class_weight=None, dual=False, fit_intercept=True,\n",
      "                   intercept_scaling=1, l1_ratio=None, max_iter=100,\n",
      "                   multi_class='auto', n_jobs=None, penalty='l2',\n",
      "                   random_state=None, solver='lbfgs', tol=0.0001, verbose=0,\n",
      "                   warm_start=False)\n",
      "\n",
      "\n",
      "Validation result for 10000 features\n",
      "null accuracy: 50.08%\n",
      "accuracy score: 80.77%\n",
      "model is 30.69% more accurate than null accuracy\n",
      "train and test time: 28.24s\n",
      "--------------------------------------------------------------------------------\n",
      "Validation result for 20000 features\n",
      "null accuracy: 50.08%\n",
      "accuracy score: 81.29%\n",
      "model is 31.20% more accurate than null accuracy\n",
      "train and test time: 30.32s\n",
      "--------------------------------------------------------------------------------\n",
      "Validation result for 30000 features\n",
      "null accuracy: 50.08%\n",
      "accuracy score: 81.63%\n",
      "model is 31.55% more accurate than null accuracy\n",
      "train and test time: 29.93s\n",
      "--------------------------------------------------------------------------------\n",
      "Validation result for 40000 features\n",
      "null accuracy: 50.08%\n",
      "accuracy score: 81.65%\n",
      "model is 31.56% more accurate than null accuracy\n",
      "train and test time: 29.39s\n",
      "--------------------------------------------------------------------------------\n",
      "Validation result for 50000 features\n",
      "null accuracy: 50.08%\n",
      "accuracy score: 81.56%\n",
      "model is 31.48% more accurate than null accuracy\n",
      "train and test time: 30.18s\n",
      "--------------------------------------------------------------------------------\n",
      "Validation result for 60000 features\n",
      "null accuracy: 50.08%\n",
      "accuracy score: 81.59%\n",
      "model is 31.51% more accurate than null accuracy\n",
      "train and test time: 30.23s\n",
      "--------------------------------------------------------------------------------\n",
      "Validation result for 70000 features\n",
      "null accuracy: 50.08%\n",
      "accuracy score: 81.56%\n",
      "model is 31.47% more accurate than null accuracy\n",
      "train and test time: 32.81s\n",
      "--------------------------------------------------------------------------------\n",
      "Wall time: 3min 31s\n"
     ]
    }
   ],
   "source": [
    "%%time\n",
    "#Custom stopwords,  we got them from the analysis on the other notebook (with the red & green barplots)\n",
    "custom_stop_words = {'down', 'have', 'hers', 'their', 'herself', 'for', 'themselves', 'such', 'here', 'at',\\\n",
    "                    'being', 'does', 'a', 'while', 'with', 'itself', 'its', 'am', 'above', 'myself', 'own',\\\n",
    "                    'same', 'as', 'my', 'off', 'which', 'to', 'were', 'did', 'after', 'because', 'his', 'are'\\\n",
    "                    'they', 'other', 'theirs'}\n",
    "print (\"RESULT FOR TRIGRAM WITHOUT CUSTOM STOP WORDS\\n\")\n",
    "feature_result_tg_custom_stop = nfeature_accuracy_checker(ngram_range=(1,3),stop_words=custom_stop_words)"
   ]
  },
  {
   "cell_type": "code",
   "execution_count": 49,
   "metadata": {},
   "outputs": [
    {
     "data": {
      "text/plain": [
       "<matplotlib.legend.Legend at 0x18edc93beb8>"
      ]
     },
     "execution_count": 49,
     "metadata": {},
     "output_type": "execute_result"
    },
    {
     "data": {
      "image/png": "[encoded data removed]",
      "text/plain": [
       "<Figure size 576x432 with 1 Axes>"
      ]
     },
     "metadata": {
      "needs_background": "light"
     },
     "output_type": "display_data"
    }
   ],
   "source": [
    "plt.figure(figsize=(8,6))\n",
    "plt.plot(n_features, feature_result_tg,label='trigram, stopwords included')\n",
    "plt.plot(n_features, feature_result_tg_custom_stop, label='trigram, custom stopwords removed')\n",
    "plt.plot(n_features, feature_result_bg,label='bigram, stopwords included')\n",
    "plt.plot(n_features, feature_result_without_stop, label='unigram')\n",
    "plt.title(\"N-gram(1~3) test result : Accuracy\")\n",
    "plt.xlabel(\"Number of features\")\n",
    "plt.ylabel(\"Validation set accuracy\")\n",
    "plt.legend()"
   ]
  },
  {
   "cell_type": "code",
   "execution_count": 32,
   "metadata": {},
   "outputs": [],
   "source": [
    "def train_test_and_evaluate(pipeline, x_train, y_train, x_test, y_test):\n",
    "    \"\"\"Helper function to train and validate some model\"\"\"\n",
    "    if len(x_test[y_test == 0]) / (len(x_test)*1.) > 0.5:\n",
    "        null_accuracy = len(x_test[y_test == 0]) / (len(x_test)*1.)\n",
    "    else:\n",
    "        null_accuracy = 1. - (len(x_test[y_test == 0]) / (len(x_test)*1.))\n",
    "    sentiment_fit = pipeline.fit(x_train, y_train)\n",
    "    y_pred = sentiment_fit.predict(x_test)\n",
    "    accuracy = accuracy_score(y_test, y_pred)\n",
    "    conmat = np.array(confusion_matrix(y_test, y_pred, labels=[0,1]))\n",
    "    confusion = pd.DataFrame(conmat, index=['negative', 'positive'],\n",
    "                         columns=['predicted_negative','predicted_positive'])\n",
    "    print (\"null accuracy: {0:.2f}%\".format(null_accuracy*100))\n",
    "    print (\"accuracy score: {0:.2f}%\".format(accuracy*100))\n",
    "    if accuracy > null_accuracy:\n",
    "        print (\"model is {0:.2f}% more accurate than null accuracy\".format((accuracy-null_accuracy)*100))\n",
    "    elif accuracy == null_accuracy:\n",
    "        print (\"model has the same accuracy with the null accuracy\")\n",
    "    else:\n",
    "        print (\"model is {0:.2f}% less accurate than null accuracy\".format((null_accuracy-accuracy)*100))\n",
    "    print (\"-\"*80)\n",
    "    print (\"Confusion Matrix\\n\")\n",
    "    print( confusion)\n",
    "    print (\"-\"*80)\n",
    "    print( \"Classification Report\\n\")\n",
    "    print( classification_report(y_test, y_pred, target_names=['negative','positive']))"
   ]
  },
  {
   "cell_type": "code",
   "execution_count": 33,
   "metadata": {},
   "outputs": [
    {
     "name": "stderr",
     "output_type": "stream",
     "text": [
      "UsageError: Line magic function `%%time` not found.\n"
     ]
    }
   ],
   "source": [
    "# test our best performing model\n",
    "%%time\n",
    "vectorizer = CountVectorizer(max_features=70000,ngram_range=(1, 3))\n",
    "tfidf_transformer = TfidfTransformer()\n",
    "classifier = LogisticRegression()\n",
    "\n",
    "bg_pipeline = Pipeline([\n",
    "            ('vectorizer', vectorizer),\n",
    "            ('transformer', tfidf_transformer),\n",
    "            ('classifier', classifier)\n",
    "        ])\n",
    "    \n",
    "train_test_and_evaluate(bg_pipeline, x_train, y_train, x_validation, y_validation)"
   ]
  },
  {
   "cell_type": "markdown",
   "metadata": {},
   "source": [
    "## Test submission"
   ]
  },
  {
   "cell_type": "code",
   "execution_count": 42,
   "metadata": {},
   "outputs": [
    {
     "data": {
      "text/html": [
       "<div>\n",
       "<style scoped>\n",
       "    .dataframe tbody tr th:only-of-type {\n",
       "        vertical-align: middle;\n",
       "    }\n",
       "\n",
       "    .dataframe tbody tr th {\n",
       "        vertical-align: top;\n",
       "    }\n",
       "\n",
       "    .dataframe thead th {\n",
       "        text-align: right;\n",
       "    }\n",
       "</style>\n",
       "<table border=\"1\" class=\"dataframe\">\n",
       "  <thead>\n",
       "    <tr style=\"text-align: right;\">\n",
       "      <th></th>\n",
       "      <th>tweet</th>\n",
       "    </tr>\n",
       "  </thead>\n",
       "  <tbody>\n",
       "    <tr>\n",
       "      <th>1</th>\n",
       "      <td>sea doo pro sea scooter ( sports with the port...</td>\n",
       "    </tr>\n",
       "    <tr>\n",
       "      <th>2</th>\n",
       "      <td>&lt;user&gt; shucks well i work all week so now i ca...</td>\n",
       "    </tr>\n",
       "    <tr>\n",
       "      <th>3</th>\n",
       "      <td>i cant stay away from bug thats my baby</td>\n",
       "    </tr>\n",
       "    <tr>\n",
       "      <th>4</th>\n",
       "      <td>&lt;user&gt; no ma'am ! ! ! lol im perfectly fine an...</td>\n",
       "    </tr>\n",
       "    <tr>\n",
       "      <th>5</th>\n",
       "      <td>whenever i fall asleep watching the tv , i alw...</td>\n",
       "    </tr>\n",
       "    <tr>\n",
       "      <th>...</th>\n",
       "      <td>...</td>\n",
       "    </tr>\n",
       "    <tr>\n",
       "      <th>9996</th>\n",
       "      <td>had a nice time w / my friend lastnite</td>\n",
       "    </tr>\n",
       "    <tr>\n",
       "      <th>9997</th>\n",
       "      <td>&lt;user&gt; no it's not ! please stop !</td>\n",
       "    </tr>\n",
       "    <tr>\n",
       "      <th>9998</th>\n",
       "      <td>not without my daughter ( dvd two-time oscar (...</td>\n",
       "    </tr>\n",
       "    <tr>\n",
       "      <th>9999</th>\n",
       "      <td>&lt;user&gt; have fun in class sweetcheeks</td>\n",
       "    </tr>\n",
       "    <tr>\n",
       "      <th>10000</th>\n",
       "      <td>making a r . e . a . l . difference . ( get r ...</td>\n",
       "    </tr>\n",
       "  </tbody>\n",
       "</table>\n",
       "<p>10000 rows × 1 columns</p>\n",
       "</div>"
      ],
      "text/plain": [
       "                                                   tweet\n",
       "1      sea doo pro sea scooter ( sports with the port...\n",
       "2      <user> shucks well i work all week so now i ca...\n",
       "3                i cant stay away from bug thats my baby\n",
       "4      <user> no ma'am ! ! ! lol im perfectly fine an...\n",
       "5      whenever i fall asleep watching the tv , i alw...\n",
       "...                                                  ...\n",
       "9996              had a nice time w / my friend lastnite\n",
       "9997                  <user> no it's not ! please stop !\n",
       "9998   not without my daughter ( dvd two-time oscar (...\n",
       "9999                <user> have fun in class sweetcheeks\n",
       "10000  making a r . e . a . l . difference . ( get r ...\n",
       "\n",
       "[10000 rows x 1 columns]"
      ]
     },
     "execution_count": 42,
     "metadata": {},
     "output_type": "execute_result"
    }
   ],
   "source": [
    "with open('data/test_data.txt',\"r\") as file:\n",
    "    df_unknown = file.read().split('\\n')\n",
    "df_unknown = pd.DataFrame({'tweet' : df_unknown})[:len(df_unknown)-1]\n",
    "df_unknown.index += 1 \n",
    "df_unknown['tweet'] = df_unknown['tweet'].apply(lambda x : str(x).split(',', maxsplit=1)[1])\n",
    "df_unknown"
   ]
  },
  {
   "cell_type": "code",
   "execution_count": 43,
   "metadata": {},
   "outputs": [],
   "source": [
    "df_unknown['tweet'] = df_unknown['tweet'].apply(tweet_cleaner)"
   ]
  },
  {
   "cell_type": "code",
   "execution_count": 44,
   "metadata": {},
   "outputs": [],
   "source": [
    "vectorizer = CountVectorizer(max_features=70000,ngram_range=(1, 3))\n",
    "tfidf_transformer = TfidfTransformer()\n",
    "\n",
    "vectorizer.fit(x_train)\n",
    "x_train_counts = vectorizer.transform(x_train)\n",
    "x_train_tfidf = tfidf_transformer.fit_transform(x_train_counts)\n",
    "\n",
    "clf = LogisticRegression().fit(x_train_tfidf, y_train)\n",
    "\n",
    "X_to_predict = df_unknown['tweet']\n",
    "X_to_predict = vectorizer.transform(X_to_predict)\n",
    "X_to_predict = tfidf_transformer.transform(X_to_predict)\n",
    "\n",
    "df_unknown = clf.predict(X_to_predict)\n",
    "df_unknown[df_unknown == 0] = -1 #replace 0 to -1"
   ]
  },
  {
   "cell_type": "code",
   "execution_count": 45,
   "metadata": {},
   "outputs": [],
   "source": [
    "create_csv_submission([x for x in range(1,len(df_unknown)+1)],df_unknown,\"output_z2.csv\")"
   ]
  },
  {
   "cell_type": "code",
   "execution_count": null,
   "metadata": {},
   "outputs": [],
   "source": []
  }
 ],
 "metadata": {
  "colab": {
   "include_colab_link": true,
   "name": "basic_visualization.ipynb",
   "provenance": []
  },
  "kernelspec": {
   "display_name": "Python 3",
   "language": "python",
   "name": "python3"
  },
  "language_info": {
   "codemirror_mode": {
    "name": "ipython",
    "version": 3
   },
   "file_extension": ".py",
   "mimetype": "text/x-python",
   "name": "python",
   "nbconvert_exporter": "python",
   "pygments_lexer": "ipython3",
   "version": "3.6.9"
  },
  "toc": {
   "base_numbering": 1,
   "nav_menu": {},
   "number_sections": false,
   "sideBar": true,
   "skip_h1_title": false,
   "title_cell": "Table of Contents",
   "title_sidebar": "Contents",
   "toc_cell": true,
   "toc_position": {},
   "toc_section_display": true,
   "toc_window_display": false
  }
 },
 "nbformat": 4,
 "nbformat_minor": 1
}

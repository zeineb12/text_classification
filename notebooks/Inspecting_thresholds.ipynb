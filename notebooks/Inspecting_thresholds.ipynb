{
  "nbformat": 4,
  "nbformat_minor": 0,
  "metadata": {
    "kernelspec": {
      "name": "python3",
      "display_name": "Python 3"
    },
    "language_info": {
      "codemirror_mode": {
        "name": "ipython",
        "version": 3
      },
      "file_extension": ".py",
      "mimetype": "text/x-python",
      "name": "python",
      "nbconvert_exporter": "python",
      "pygments_lexer": "ipython3",
      "version": "3.6.9"
    },
    "colab": {
      "name": "Inspecting thresholds.ipynb",
      "provenance": [],
      "toc_visible": true
    },
    "accelerator": "GPU"
  },
  "cells": [
    {
      "cell_type": "code",
      "metadata": {
        "id": "qSh6hDjicxj8",
        "colab_type": "code",
        "outputId": "fa89a2b8-2658-4470-d64e-82ecd9b3e316",
        "colab": {
          "base_uri": "https://localhost:8080/",
          "height": 124
        }
      },
      "source": [
        "from google.colab import drive\n",
        "drive.mount('/content/drive')"
      ],
      "execution_count": 4,
      "outputs": [
        {
          "output_type": "stream",
          "text": [
            "Go to this URL in a browser: https://accounts.google.com/o/oauth2/auth?client_id=947318989803-6bn6qk8qdgf4n4g3pfee6491hc0brc4i.apps.googleusercontent.com&redirect_uri=urn%3aietf%3awg%3aoauth%3a2.0%3aoob&response_type=code&scope=email%20https%3a%2f%2fwww.googleapis.com%2fauth%2fdocs.test%20https%3a%2f%2fwww.googleapis.com%2fauth%2fdrive%20https%3a%2f%2fwww.googleapis.com%2fauth%2fdrive.photos.readonly%20https%3a%2f%2fwww.googleapis.com%2fauth%2fpeopleapi.readonly\n",
            "\n",
            "Enter your authorization code:\n",
            "··········\n",
            "Mounted at /content/drive\n"
          ],
          "name": "stdout"
        }
      ]
    },
    {
      "cell_type": "code",
      "metadata": {
        "id": "XMfiYJvMb91Z",
        "colab_type": "code",
        "colab": {}
      },
      "source": [
        "import tensorflow as tf\n",
        "from tensorflow import keras\n",
        "import pandas as pd\n",
        "from sklearn.model_selection import train_test_split\n",
        "from keras.preprocessing.text import Tokenizer\n",
        "from keras.preprocessing.sequence import pad_sequences\n",
        "from sklearn import metrics\n",
        "from sklearn.metrics import accuracy_score\n",
        "import numpy as np\n",
        "import matplotlib.pyplot as plt"
      ],
      "execution_count": 0,
      "outputs": []
    },
    {
      "cell_type": "markdown",
      "metadata": {
        "id": "8MeftGBub91m",
        "colab_type": "text"
      },
      "source": [
        "### Loading the model"
      ]
    },
    {
      "cell_type": "code",
      "metadata": {
        "id": "XhnxCZ1Db91o",
        "colab_type": "code",
        "colab": {
          "base_uri": "https://localhost:8080/",
          "height": 193
        },
        "outputId": "b7056edb-a5f0-4a69-ea93-14c59c7f66db"
      },
      "source": [
        "model = tf.keras.models.load_model('/content/drive/My Drive/EPFL/Machine Learning/MA1/cnn_post_processing_sunday_night.h5')"
      ],
      "execution_count": 6,
      "outputs": [
        {
          "output_type": "stream",
          "text": [
            "WARNING:tensorflow:From /usr/local/lib/python3.6/dist-packages/tensorflow_core/python/keras/initializers.py:119: calling RandomUniform.__init__ (from tensorflow.python.ops.init_ops) with dtype is deprecated and will be removed in a future version.\n",
            "Instructions for updating:\n",
            "Call initializer instance with the dtype argument instead of passing it to the constructor\n",
            "WARNING:tensorflow:From /usr/local/lib/python3.6/dist-packages/tensorflow_core/python/ops/resource_variable_ops.py:1630: calling BaseResourceVariable.__init__ (from tensorflow.python.ops.resource_variable_ops) with constraint is deprecated and will be removed in a future version.\n",
            "Instructions for updating:\n",
            "If using Keras pass *_constraint arguments to layers.\n",
            "WARNING:tensorflow:From /usr/local/lib/python3.6/dist-packages/tensorflow_core/python/ops/nn_impl.py:183: where (from tensorflow.python.ops.array_ops) is deprecated and will be removed in a future version.\n",
            "Instructions for updating:\n",
            "Use tf.where in 2.0, which has the same broadcast rule as np.where\n"
          ],
          "name": "stdout"
        }
      ]
    },
    {
      "cell_type": "code",
      "metadata": {
        "scrolled": true,
        "id": "FUHnrC7Db91u",
        "colab_type": "code",
        "outputId": "2b54c03d-6a9f-4db7-eb5b-1cf7daf6597e",
        "colab": {
          "base_uri": "https://localhost:8080/",
          "height": 572
        }
      },
      "source": [
        "model.summary()"
      ],
      "execution_count": 7,
      "outputs": [
        {
          "output_type": "stream",
          "text": [
            "Model: \"sequential_1\"\n",
            "_________________________________________________________________\n",
            "Layer (type)                 Output Shape              Param #   \n",
            "=================================================================\n",
            "embedding_1 (Embedding)      (None, 140, 200)          80808200  \n",
            "_________________________________________________________________\n",
            "dropout_1 (Dropout)          (None, 140, 200)          0         \n",
            "_________________________________________________________________\n",
            "conv1d_1 (Conv1D)            (None, 138, 600)          360600    \n",
            "_________________________________________________________________\n",
            "conv1d_2 (Conv1D)            (None, 136, 300)          540300    \n",
            "_________________________________________________________________\n",
            "conv1d_3 (Conv1D)            (None, 134, 150)          135150    \n",
            "_________________________________________________________________\n",
            "conv1d_4 (Conv1D)            (None, 132, 75)           33825     \n",
            "_________________________________________________________________\n",
            "flatten_1 (Flatten)          (None, 9900)              0         \n",
            "_________________________________________________________________\n",
            "dense_1 (Dense)              (None, 600)               5940600   \n",
            "_________________________________________________________________\n",
            "dropout_2 (Dropout)          (None, 600)               0         \n",
            "_________________________________________________________________\n",
            "activation_1 (Activation)    (None, 600)               0         \n",
            "_________________________________________________________________\n",
            "dense_2 (Dense)              (None, 1)                 601       \n",
            "_________________________________________________________________\n",
            "activation_2 (Activation)    (None, 1)                 0         \n",
            "=================================================================\n",
            "Total params: 87,819,276\n",
            "Trainable params: 87,819,276\n",
            "Non-trainable params: 0\n",
            "_________________________________________________________________\n"
          ],
          "name": "stdout"
        }
      ]
    },
    {
      "cell_type": "markdown",
      "metadata": {
        "id": "-Wwm5K3Gb918",
        "colab_type": "text"
      },
      "source": [
        "### Loading the test data"
      ]
    },
    {
      "cell_type": "code",
      "metadata": {
        "id": "Dofbp62lb919",
        "colab_type": "code",
        "colab": {}
      },
      "source": [
        "df_full = pd.read_csv(\"/content/drive/My Drive/EPFL/Machine Learning/MA1/tweets_full_new_preprocessing.csv\")\n",
        "df_tweets_full = df_full[['tweet','label']]\n",
        "df_tweets_full = df_tweets_full.sample(frac=1, random_state=1).reset_index(drop=True)\n",
        "X_train, X_test, y_train, y_test = train_test_split(df_tweets_full['tweet'], df_tweets_full['label'], test_size=0.05, random_state=42)"
      ],
      "execution_count": 0,
      "outputs": []
    },
    {
      "cell_type": "code",
      "metadata": {
        "id": "1gZJCLX7b92C",
        "colab_type": "code",
        "colab": {}
      },
      "source": [
        "#create word dictionary\n",
        "#it will keep only the top num_words words\n",
        "tokenizer = Tokenizer(num_words=120000)\n",
        "tokenizer.fit_on_texts(X_train)"
      ],
      "execution_count": 0,
      "outputs": []
    },
    {
      "cell_type": "code",
      "metadata": {
        "id": "khOZqQXhb92H",
        "colab_type": "code",
        "colab": {}
      },
      "source": [
        "#X_train = tokenizer.texts_to_sequences(X_train)#convert each word to a integer based on the tokenizer\n",
        "X_test_tokenized = tokenizer.texts_to_sequences(X_test)"
      ],
      "execution_count": 0,
      "outputs": []
    },
    {
      "cell_type": "code",
      "metadata": {
        "id": "Ddn9rmpgb92M",
        "colab_type": "code",
        "colab": {}
      },
      "source": [
        "maxlen = 140\n",
        "#X_train = pad_sequences(X_train, padding='post', maxlen=maxlen) #makes sure all tweets have 140 words (padding)\n",
        "X_test_tokenized = pad_sequences(X_test_tokenized, padding='post', maxlen=maxlen)"
      ],
      "execution_count": 0,
      "outputs": []
    },
    {
      "cell_type": "code",
      "metadata": {
        "id": "B3jKQX9ob92R",
        "colab_type": "code",
        "colab": {}
      },
      "source": [
        "# X_train = np.asarray(X_train)\n",
        "# X_test = np.asarray(X_test)"
      ],
      "execution_count": 0,
      "outputs": []
    },
    {
      "cell_type": "code",
      "metadata": {
        "id": "x3Z6vlIGb92W",
        "colab_type": "code",
        "colab": {
          "base_uri": "https://localhost:8080/",
          "height": 225
        },
        "outputId": "61d24ee7-1f3e-4d72-b5dc-f16e4731e1e0"
      },
      "source": [
        "X_test"
      ],
      "execution_count": 13,
      "outputs": [
        {
          "output_type": "execute_result",
          "data": {
            "text/plain": [
              "769240     my momma c o o l a hell bro cant wait to meet ...\n",
              "1065138    user i saw this on the menu kiss and thought o...\n",
              "170717     user oi mush do you have any spare pe short i ...\n",
              "1399111    restructuring strategy new network and industr...\n",
              "101588     when i wa in college i always looked forward t...\n",
              "                                 ...                        \n",
              "1358207    user you ve got a point multistop nevertheless...\n",
              "733365     planet terror two disc special edition blu ray...\n",
              "1765860                  aw my baby d multistop rose is hurt\n",
              "2222637    user i wa so bored all day vinetta is not real...\n",
              "1980250    hey grey exclamationMark i m echancers from ba...\n",
              "Name: tweet, Length: 113525, dtype: object"
            ]
          },
          "metadata": {
            "tags": []
          },
          "execution_count": 13
        }
      ]
    },
    {
      "cell_type": "markdown",
      "metadata": {
        "id": "vohcw7ocb92d",
        "colab_type": "text"
      },
      "source": [
        "### Making predictions"
      ]
    },
    {
      "cell_type": "code",
      "metadata": {
        "id": "aF5ViIuLb92f",
        "colab_type": "code",
        "outputId": "f429c298-db12-43dd-b9d0-1a37cdada6c2",
        "colab": {
          "base_uri": "https://localhost:8080/",
          "height": 69
        }
      },
      "source": [
        "score = model.evaluate(X_test_tokenized, y_test, verbose=1)\n",
        "print(\"Test Score:\", score[0])\n",
        "print(\"Test Accuracy:\", score[1])"
      ],
      "execution_count": 14,
      "outputs": [
        {
          "output_type": "stream",
          "text": [
            "113525/113525 [==============================] - 26s 226us/sample - loss: 0.3284 - acc: 0.8615\n",
            "Test Score: 0.3283943385994269\n",
            "Test Accuracy: 0.8615371\n"
          ],
          "name": "stdout"
        }
      ]
    },
    {
      "cell_type": "code",
      "metadata": {
        "id": "B_JCJkyfb92m",
        "colab_type": "code",
        "colab": {}
      },
      "source": [
        "#to_predict = pd.read_csv(\"data/test_cleaned.csv\")\n",
        "#_, validation_set, _, _ = train_test_split(df_tweets_full['tweet'], df_tweets_full['label'], test_size=0.05, random_state=42)\n",
        "validation_set = pd.DataFrame(X_test)\n",
        "to_predict = pd.DataFrame(validation_set)\n",
        "to_predict.index += 1\n",
        "\n",
        "to_predict = to_predict['tweet']\n",
        "to_predict = to_predict.astype(str)"
      ],
      "execution_count": 0,
      "outputs": []
    },
    {
      "cell_type": "code",
      "metadata": {
        "id": "muWK0TXvb92y",
        "colab_type": "code",
        "colab": {}
      },
      "source": [
        "to_predict= tokenizer.texts_to_sequences(to_predict)"
      ],
      "execution_count": 0,
      "outputs": []
    },
    {
      "cell_type": "code",
      "metadata": {
        "id": "r1t8UmcMb927",
        "colab_type": "code",
        "colab": {}
      },
      "source": [
        "to_predict = pad_sequences(to_predict, padding='post', maxlen=maxlen)"
      ],
      "execution_count": 0,
      "outputs": []
    },
    {
      "cell_type": "code",
      "metadata": {
        "id": "DXizyXD5b93F",
        "colab_type": "code",
        "colab": {}
      },
      "source": [
        "result_test = model.predict(to_predict)"
      ],
      "execution_count": 0,
      "outputs": []
    },
    {
      "cell_type": "code",
      "metadata": {
        "id": "2kxwLPsGb93R",
        "colab_type": "code",
        "outputId": "63cde9e9-3596-4b7a-aa4d-84535a4893e4",
        "colab": {
          "base_uri": "https://localhost:8080/",
          "height": 139
        }
      },
      "source": [
        "result_test"
      ],
      "execution_count": 0,
      "outputs": [
        {
          "output_type": "execute_result",
          "data": {
            "text/plain": [
              "array([[0.9923058 ],\n",
              "       [0.60865974],\n",
              "       [0.02351871],\n",
              "       ...,\n",
              "       [0.01635775],\n",
              "       [0.0622136 ],\n",
              "       [0.97067225]], dtype=float32)"
            ]
          },
          "metadata": {
            "tags": []
          },
          "execution_count": 27
        }
      ]
    },
    {
      "cell_type": "code",
      "metadata": {
        "id": "lOjx70GQAvQ0",
        "colab_type": "code",
        "colab": {}
      },
      "source": [
        "result_test"
      ],
      "execution_count": 0,
      "outputs": []
    },
    {
      "cell_type": "code",
      "metadata": {
        "id": "tBfs1XySb93b",
        "colab_type": "code",
        "outputId": "e159f795-f851-40c7-8d82-61a2a9ad1ed1",
        "colab": {
          "base_uri": "https://localhost:8080/",
          "height": 941
        }
      },
      "source": [
        "#it returns values between [0,1] (since sigmoid is used) \n",
        "# result_test[result_test < 0.5] = -1 #replace values < 0.5 to -1\n",
        "# result_test[result_test >= 0.5] = 1\n",
        "thresholds = np.linspace(0.44, 0.45 ,30)\n",
        "accuracies =[]\n",
        "for t in thresholds:\n",
        "  preds = result_test.copy()\n",
        "  preds[preds <= t] = 0\n",
        "  preds[preds > t] = 1\n",
        "  accuracies.append(metrics.accuracy_score(y_test, preds))\n",
        "  print(f'Our model\\'s accuracy is {metrics.accuracy_score(y_test, preds)} for a threshold of {t}')\n",
        "\n",
        "plt.figure(figsize=(8,6))\n",
        "plt.plot(thresholds, accuracies)\n",
        "plt.title(\"Accuracy vs Threshold\")\n",
        "plt.xlabel(\"Thresholds\")\n",
        "plt.ylabel(\"Validation set accuracy\")"
      ],
      "execution_count": 0,
      "outputs": [
        {
          "output_type": "stream",
          "text": [
            "Our model's accuracy is 0.862928870292887 for a threshold of 0.44\n",
            "Our model's accuracy is 0.8629376789253468 for a threshold of 0.4403448275862069\n",
            "Our model's accuracy is 0.862928870292887 for a threshold of 0.4406896551724138\n",
            "Our model's accuracy is 0.8630257652499449 for a threshold of 0.44103448275862067\n",
            "Our model's accuracy is 0.8630521911473243 for a threshold of 0.4413793103448276\n",
            "Our model's accuracy is 0.8631050429420832 for a threshold of 0.4417241379310345\n",
            "Our model's accuracy is 0.8630257652499449 for a threshold of 0.4420689655172414\n",
            "Our model's accuracy is 0.8630081479850253 for a threshold of 0.4424137931034483\n",
            "Our model's accuracy is 0.8629552961902665 for a threshold of 0.44275862068965516\n",
            "Our model's accuracy is 0.8629729134551861 for a threshold of 0.44310344827586207\n",
            "Our model's accuracy is 0.8630169566174851 for a threshold of 0.443448275862069\n",
            "Our model's accuracy is 0.8629641048227262 for a threshold of 0.4437931034482759\n",
            "Our model's accuracy is 0.8629112530279675 for a threshold of 0.4441379310344828\n",
            "Our model's accuracy is 0.8629464875578067 for a threshold of 0.44448275862068964\n",
            "Our model's accuracy is 0.8630081479850253 for a threshold of 0.44482758620689655\n",
            "Our model's accuracy is 0.8630345738824048 for a threshold of 0.44517241379310346\n",
            "Our model's accuracy is 0.8629641048227262 for a threshold of 0.44551724137931037\n",
            "Our model's accuracy is 0.8629464875578067 for a threshold of 0.4458620689655172\n",
            "Our model's accuracy is 0.8629464875578067 for a threshold of 0.44620689655172413\n",
            "Our model's accuracy is 0.8629641048227262 for a threshold of 0.44655172413793104\n",
            "Our model's accuracy is 0.8630081479850253 for a threshold of 0.44689655172413795\n",
            "Our model's accuracy is 0.8629905307201057 for a threshold of 0.44724137931034486\n",
            "Our model's accuracy is 0.8629729134551861 for a threshold of 0.4475862068965517\n",
            "Our model's accuracy is 0.8629641048227262 for a threshold of 0.4479310344827586\n",
            "Our model's accuracy is 0.8629993393525656 for a threshold of 0.4482758620689655\n",
            "Our model's accuracy is 0.8629993393525656 for a threshold of 0.44862068965517243\n",
            "Our model's accuracy is 0.8629464875578067 for a threshold of 0.44896551724137934\n",
            "Our model's accuracy is 0.862928870292887 for a threshold of 0.4493103448275862\n",
            "Our model's accuracy is 0.8629729134551861 for a threshold of 0.4496551724137931\n",
            "Our model's accuracy is 0.8629729134551861 for a threshold of 0.45\n"
          ],
          "name": "stdout"
        },
        {
          "output_type": "execute_result",
          "data": {
            "text/plain": [
              "Text(0, 0.5, 'Validation set accuracy')"
            ]
          },
          "metadata": {
            "tags": []
          },
          "execution_count": 54
        },
        {
          "output_type": "display_data",
          "data": {
            "image/png": "[encoded data removed]",
            "text/plain": [
              "<Figure size 576x432 with 1 Axes>"
            ]
          },
          "metadata": {
            "tags": []
          }
        }
      ]
    },
    {
      "cell_type": "markdown",
      "metadata": {
        "id": "O7GfWQYHohYW",
        "colab_type": "text"
      },
      "source": [
        "## Submitting with a different threshold"
      ]
    },
    {
      "cell_type": "code",
      "metadata": {
        "id": "QHqWLf-Mog11",
        "colab_type": "code",
        "colab": {}
      },
      "source": [
        "to_predict = pd.read_csv(\"/content/drive/My Drive/EPFL/Machine Learning/MA1/test_cleaned.csv\")\n",
        "\n",
        "to_predict.index += 1\n",
        "\n",
        "to_predict = to_predict['tweet']\n",
        "to_predict = to_predict.astype(str)\n",
        "\n",
        "to_predict= tokenizer.texts_to_sequences(to_predict)\n",
        "\n",
        "to_predict = pad_sequences(to_predict, padding='post', maxlen=maxlen)\n",
        "\n",
        "result_test = model.predict(to_predict)\n",
        "\n",
        "#it returns values between [0,1] (since sigmoid is used) \n",
        "result_test[result_test < 0.4417] = -1\n",
        "result_test[result_test >= 0.4417] = 1"
      ],
      "execution_count": 0,
      "outputs": []
    },
    {
      "cell_type": "code",
      "metadata": {
        "id": "XscSsBKeo_iV",
        "colab_type": "code",
        "colab": {}
      },
      "source": [
        "result_test"
      ],
      "execution_count": 0,
      "outputs": []
    },
    {
      "cell_type": "code",
      "metadata": {
        "id": "-Icqqmvwon-6",
        "colab_type": "code",
        "colab": {}
      },
      "source": [
        "import csv\n",
        "\n",
        "def create_csv_submission(y_pred, path):\n",
        "    \"\"\"\n",
        "    Creates an output file in csv format for submission to kaggle\n",
        "    Arguments: ids (event ids associated with each prediction)\n",
        "               y_pred (predicted class labels)\n",
        "               path (string name of .csv output file to be created)\n",
        "    \"\"\"\n",
        "    ids=[i for i in range(1,len(y_pred)+1)]\n",
        "    with open(path, 'w', newline='') as csvfile:\n",
        "        fieldnames = ['Id', 'Prediction']\n",
        "        writer = csv.DictWriter(csvfile, delimiter=\",\", fieldnames=fieldnames)\n",
        "        writer.writeheader()\n",
        "        for r1, r2 in zip(ids, y_pred):\n",
        "            writer.writerow({'Id':int(r1),'Prediction':int(r2)})\n"
      ],
      "execution_count": 0,
      "outputs": []
    },
    {
      "cell_type": "code",
      "metadata": {
        "id": "tJE6Dedoo4UX",
        "colab_type": "code",
        "colab": {}
      },
      "source": [
        "create_csv_submission(result_test,\"/content/drive/My Drive/EPFL/Machine Learning/MA1/cnn_submission_6_epochs_with_processed_with_thres_04.csv\")"
      ],
      "execution_count": 0,
      "outputs": []
    }
  ]
}